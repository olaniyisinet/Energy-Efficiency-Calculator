{
 "cells": [
  {
   "cell_type": "code",
   "execution_count": 1,
   "metadata": {},
   "outputs": [],
   "source": [
    "import numpy as np\n",
    "import pandas as pd\n",
    "import datetime\n",
    "import os\n",
    "import glob\n",
    "import json\n",
    "import csv"
   ]
  },
  {
   "cell_type": "code",
   "execution_count": 43,
   "metadata": {},
   "outputs": [],
   "source": [
    "# set variables from config file\n",
    "config_path = os.path.abspath('..')\n",
    "\n",
    "with open(config_path + '\\config-example.json', 'r') as f:\n",
    "    config = json.load(f)\n",
    "\n",
    "epc_path = config['DEFAULT']['epc_path']\n",
    "epc_fname_suffix = config['DEFAULT']['epc_fname_suffix']\n",
    "epc_output_fname = config['DEFAULT']['epc_output_fname']\n",
    "processing_path = config['DEFAULT']['processing_path']"
   ]
  },
  {
   "cell_type": "code",
   "execution_count": 29,
   "metadata": {},
   "outputs": [
    {
     "name": "stderr",
     "output_type": "stream",
     "text": [
      "\n",
      "KeyboardInterrupt\n",
      "\n"
     ]
    }
   ],
   "source": [
    "dtype_dict = {'INSPECTION_DATE':'str','LODGEMENT_DATE':'str'}\n",
    "epc_wales = pd.read_csv(os.path.join(processing_path,'epc_wales.csv'),header=0,delimiter=',',dtype=dtype_dict,parse_dates=['INSPECTION_DATE'])"
   ]
  },
  {
   "cell_type": "code",
   "execution_count": null,
   "metadata": {},
   "outputs": [],
   "source": [
    "epc_wales['CURRENT_ENERGY_RATING'].value_counts()"
   ]
  },
  {
   "cell_type": "code",
   "execution_count": null,
   "metadata": {},
   "outputs": [],
   "source": [
    "len(epc_wales)"
   ]
  },
  {
   "cell_type": "code",
   "execution_count": null,
   "metadata": {},
   "outputs": [],
   "source": [
    "dtype_dict = {'INSPECTION_DATE':'str','LODGEMENT_DATE':'str','ADDRESS1':'str','ADDRESS2':'str','LOCAL_AUTHORITY':'str','CONSTITUENCY':'str',\n",
    "                'MAINS_GAS_FLAG':'str','FLAT_STOREY_COUNT':'str','FLOOR_ENERGY_EFF':'str','ADDRESS':'str','UPRN_SOURCE':'str'}"
   ]
  },
  {
   "cell_type": "markdown",
   "metadata": {},
   "source": [
    "### Import EPC data and concatenate to a single dataframe "
   ]
  },
  {
   "cell_type": "code",
   "execution_count": null,
   "metadata": {},
   "outputs": [],
   "source": [
    "#Get a list of all the files in  the directory\n",
    "epc_filenames = os.listdir(epc_path) #350 elements\n",
    "#epc_filenames = epc_filenames[:10]\n",
    "\n",
    "dtype_dict = {'INSPECTION_DATE':'str','LODGEMENT_DATE':'str'}\n",
    "\n",
    "tmp_list = [] #List of dataframes\n",
    "df_count = 0  #The count of imported dataframes\n",
    "\n",
    "region_list = ['Barking-and-Dagenham', 'Barnet', 'Bexley', 'Brent', 'Bromley', 'Camden', 'City-of-London', 'Croydon', 'Ealing', 'Enfield', 'Greenwich', 'Hackney', \n",
    "                'Hammersmith-and-Fulham', 'Haringey', 'Harrow', 'Havering', 'Hillingdon', 'Hounslow', 'lslington', 'Kensington-and-Chelsea', \n",
    "                'Kingston-upon-Hull-City-of', 'Kingston-upon-Thames', 'Lambeth', 'Lewisham', 'Merton', 'Newham', 'Redbridge', 'Richmond-upon-Thames', \n",
    "                'Southwark', 'Sutton', 'Tower-Hamlets', 'Waltham-Forest', 'Wandsworth', 'Westminster']\n",
    "\n",
    "for fname in epc_filenames:\n",
    "    for county in region_list:\n",
    "        if county in fname:\n",
    "            cert_path = os.listdir(f\"{epc_path}/{fname}\")\n",
    "            print(f\"Reading in dataframe {df_count}: {fname}/{cert_path[0]}\")\n",
    "            tmp = pd.read_csv(os.path.join(epc_path,fname,cert_path[0]),\n",
    "                            header = 0,\n",
    "                            #nrows = 2,\n",
    "                            delimiter = ',',\n",
    "                            dtype = dtype_dict,\n",
    "                            parse_dates = ['INSPECTION_DATE','LODGEMENT_DATE'])\n",
    "            #Extract the region from the filename and add to the dataframe\n",
    "            region = fname.split('-')[2::]\n",
    "            tmp['region'] = ' '.join(region)\n",
    "            #Append the imported dataframe to the list of dataframes\n",
    "            tmp_list.append(tmp)\n",
    "            #Increment the counter\n",
    "            df_count += 1\n",
    "\n",
    "#TODO columns 3, 15, 51, 59 and 60 have mixed data types consider specifying dtypes\n",
    "\n",
    "#Concatenate the list of dataframes to a single dataframe\n",
    "epc_data = pd.concat(tmp_list,ignore_index = True)"
   ]
  },
  {
   "cell_type": "code",
   "execution_count": null,
   "metadata": {},
   "outputs": [],
   "source": [
    "epc_filenames = os.listdir(epc_path)\n",
    "\n",
    "# for v in epc_filenames:\n",
    "#     print(v.split('-')[2])\n",
    "region_list = ['Bedfordshire','Berkshire','Bristol','Buckinghamshire','Cambridgeshire','Cheshire',\n",
    "'City-of-London','Cornwall','County-Durham','Cumbria','Derbyshire','Devon','Dorset',\n",
    "'East-Riding-of-Yorkshire','East-Sussex','Essex','Gloucestershire','Greater-London','Greater-Manchester','Hampshire',\n",
    "'Herefordshire','Hertfordshire','Isle-of-Wight','Kent','Lancashire','Leicestershire','Lincolnshire','Merseyside','Norfolk',\n",
    "'North-Yorkshire','Northamptonshire','Northumberland','Nottinghamshire','Oxfordshire','Rutland','Shropshire','Somerset',\n",
    "'South-Yorkshire','Staffordshire','Suffolk','Surrey','Tyne-and-Wear','Warwickshire','West-Midlands','West-Sussex','West-Yorkshire',\n",
    "'Wiltshire','Worcestershire']\n",
    "\n",
    "\n",
    "for fname in epc_filenames:\n",
    "    for county in region_list:\n",
    "        if county in fname:\n",
    "            # print(fname)\n",
    "            fin = fname.split('-')[2::]\n",
    "            final = ' '.join(fin)\n",
    "            print(final)\n",
    "# for name in fname:\n",
    "#     fin = \n",
    "#     # ' '.join(n)\n",
    "#     print(fin)"
   ]
  },
  {
   "cell_type": "markdown",
   "metadata": {},
   "source": [
    "### Export Data"
   ]
  },
  {
   "cell_type": "code",
   "execution_count": 45,
   "metadata": {},
   "outputs": [],
   "source": [
    "#Sort\n",
    "epc_data.sort_values(['region','LMK_KEY'],inplace = True)\n",
    "\n",
    "#Export\n",
    "epc_data.to_csv(os.path.join(processing_path,epc_output_fname) + epc_fname_suffix,index = False)"
   ]
  },
  {
   "cell_type": "code",
   "execution_count": 3,
   "metadata": {},
   "outputs": [
    {
     "name": "stdout",
     "output_type": "stream",
     "text": [
      "['Adur', 'Allerdale', 'Amber-Valley', 'Arun', 'Ashfield', 'Ashford', 'Babergh', 'Barrow-in-Furness', 'Basildon', 'Basingstoke-&-Deane', 'Bassetlaw', 'Blaby', 'Bolsover', 'Boston', 'Braintree', 'Breckland', 'Brentwood', 'Broadland', 'Bromsgrove', 'Broxbourne', 'Broxtowe', 'Burnley', 'Cambridge', 'Cannock-Chase', 'Canterbury', 'Carlisle', 'Castle-Point', 'Charnwood', 'Chelmsford', 'Cheltenham', 'Cherwell', 'Chesterfield', 'Chichester', 'Chorley', 'Colchester', 'Harborough', 'Harlow', 'Harrogate', 'Hart', 'Hastings', 'Havant', 'Hertsmere', 'High-Peak', 'Hinckley-and-Bosworth', 'Horsham', 'Huntingdonshire', 'Hyndburn', 'lpswich', 'Kings-Lynn-&-West-Norfolk', 'Lancaster', 'Lewes', 'Lichfield', 'Lincoln', 'Maidstone', 'Maldon', 'Malvern-Hills', 'Mansfield', 'Melton', 'Mendip', 'Mid-Devon', 'Mid-Suffolk', 'Mid-Sussex', 'Mole-Valley', 'North-Devon', 'North-East-Derbyshire', 'North-Hertfordshire', 'North-Kesteven', 'North-Norfolk', 'North-West-Leicestershire', 'South-Somerset', 'South-Staffordshire', 'Scarborough', 'Sedgemoor', 'Selby', 'Sevenoaks', 'Spelthorne', 'St-Albans', 'Stafford', 'Staffordshire-Moorlands', 'Stevenage', 'Stratford-on-Avon', 'Stroud', 'Surrey-Heath', 'Swale', 'Tamworth', 'Tandridge', 'Teignbridge', 'Tendring', 'Test-Valley', 'Tewkesbury', 'Thanet', 'Three-Rivers', 'Tonbridge-&-Malling', 'Torridge', 'Tunbridge-Wells', 'Uttlesford', 'Vale-of-White-Horse', 'Warwick', 'Watford', 'Waverley', 'Wealden', 'Welwyn-Hatfield', 'West-Devon', 'West-Lancashire', 'West-Lindsey', 'Copeland', 'Cotswold', 'Craven', 'Crawley', 'Dacorum', 'Dartford', 'Derbyshire-Dales', 'Dover', 'East-Cambridgeshire', 'East-Devon', 'East-Hampshire', 'East-Hertfordshire', 'East-Lindsey', 'East-Staffordshire', 'East-Suffolk', 'Eastbourne', 'Eastleigh', 'Eden', 'Elmbridge', 'Epping-Forest', 'Epsom-&-Ewell', 'Erewash', 'Exeter', 'Fareham', 'Fenland', 'Folkestone-and-Hythe', 'Forest-of-Dean', 'Fylde', 'Gedling', 'Gloucester', 'Gosport', 'Gravesham', 'Great-Yarmouth', 'Guildford', 'Hambleton', 'North-Warwickshire', 'New-Forest', 'Newark-&-Sherwood', 'Newcastle-under-Lyme', 'Norwich', 'Nuneaton-&-Bedworth', 'Oadby-&-Wigston', 'Oxford', 'Pendle', 'Preston', 'Redditch', 'Reigate-&-Banstead', 'Ribble-Valley', 'Richmondshire', 'Rochford', 'Rossendale', 'Rother', 'Rugby', 'Runnymede', 'Rushcliffe', 'Rushmoor', 'Ryedale', 'Somerset-West-and-Taunton', 'South-Cambridgeshire', 'South-Derbyshire', 'South-Hams', 'South-Holland', 'South-Kesteven', 'South-Lakeland', 'South-Norfolk', 'South-Oxfordshire', 'South-Ribble', 'West-Oxfordshire', 'West-Suffolk', '\\\\Nnchester', 'Woking', 'Worcester', 'Worthing', 'Wychavon', 'Wyre', 'Wyre-Forest']\n"
     ]
    }
   ],
   "source": [
    "myFile = open('District councils (181).csv', 'r')\n",
    "reader = csv.reader(myFile)\n",
    "myList = []\n",
    "for record in reader:\n",
    "    myList.append(record)\n",
    "final_list = [item[0] for item in myList]\n",
    "print(final_list)\n"
   ]
  },
  {
   "cell_type": "code",
   "execution_count": 46,
   "metadata": {},
   "outputs": [],
   "source": [
    "# set variables from config file\n",
    "config_path = os.path.abspath('..')\n",
    "\n",
    "with open(config_path + '\\config-example.json', 'r') as f:\n",
    "    config = json.load(f)\n",
    "\n",
    "epc_path = config['DEFAULT']['epc_path']\n",
    "epc_fname_suffix = config['DEFAULT']['epc_fname_suffix']\n",
    "epc_output_fname = config['DEFAULT']['epc_output_fname']\n",
    "processing_path = config['DEFAULT']['processing_path']"
   ]
  },
  {
   "cell_type": "markdown",
   "metadata": {},
   "source": [
    "### Appending all local authority CSVs"
   ]
  },
  {
   "cell_type": "code",
   "execution_count": 48,
   "metadata": {},
   "outputs": [
    {
     "name": "stderr",
     "output_type": "stream",
     "text": [
      "C:\\Users\\KingRemy\\AppData\\Local\\Temp\\ipykernel_20704\\3403532759.py:11: DtypeWarning: Columns (15,37) have mixed types. Specify dtype option on import or set low_memory=False.\n",
      "  tmp1 = pd.read_csv(os.path.join(epc_path,name),\n",
      "C:\\Users\\KingRemy\\AppData\\Local\\Temp\\ipykernel_20704\\3403532759.py:11: DtypeWarning: Columns (15,37) have mixed types. Specify dtype option on import or set low_memory=False.\n",
      "  tmp1 = pd.read_csv(os.path.join(epc_path,name),\n"
     ]
    }
   ],
   "source": [
    "#Get a list of all the files in  the directory\n",
    "epc_filenames1 = os.listdir(epc_path) #350 elements\n",
    "#epc_filenames = epc_filenames[:10]\n",
    "\n",
    "dtype_dict1 = {'INSPECTION_DATE':'str','LODGEMENT_DATE':'str'}\n",
    "\n",
    "tmp_list1 = [] #List of dataframes\n",
    "df_count1 = 0  #The count of imported dataframes\n",
    "\n",
    "for name in epc_filenames1:\n",
    "    tmp1 = pd.read_csv(os.path.join(epc_path,name),\n",
    "                            header = 0,\n",
    "                            #nrows = 2,\n",
    "                            delimiter = ',',\n",
    "                            dtype = dtype_dict,\n",
    "                            parse_dates = ['INSPECTION_DATE','LODGEMENT_DATE'])\n",
    "    #Append the imported dataframe to the list of dataframes\n",
    "    tmp_list1.append(tmp1)\n",
    "    #Increment the counter\n",
    "    df_count1 += 1\n",
    "\n",
    "#Concatenate the list of dataframes to a single dataframe\n",
    "epc_data1 = pd.concat(tmp_list1,ignore_index = True)"
   ]
  },
  {
   "cell_type": "code",
   "execution_count": null,
   "metadata": {},
   "outputs": [],
   "source": []
  }
 ],
 "metadata": {
  "kernelspec": {
   "display_name": "Python 3.10.4 ('elec')",
   "language": "python",
   "name": "python3"
  },
  "language_info": {
   "codemirror_mode": {
    "name": "ipython",
    "version": 3
   },
   "file_extension": ".py",
   "mimetype": "text/x-python",
   "name": "python",
   "nbconvert_exporter": "python",
   "pygments_lexer": "ipython3",
   "version": "3.10.4"
  },
  "orig_nbformat": 4,
  "vscode": {
   "interpreter": {
    "hash": "a03df1490dae5edca8350f1d64d7f189571412bea11a20357ccabc9e7f68ebdc"
   }
  }
 },
 "nbformat": 4,
 "nbformat_minor": 2
}
