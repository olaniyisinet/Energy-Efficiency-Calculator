{
 "cells": [
  {
   "cell_type": "markdown",
   "metadata": {},
   "source": [
    "# Data Driven Features"
   ]
  },
  {
   "cell_type": "markdown",
   "metadata": {},
   "source": [
    "The EPC data contains several categorical variables with a lot of values. In order to find suitable features which will retain the most information, the data driven a eplored.\n",
    "\n",
    "The first approach, termed data driven, uses statistical methods to reduce the number of variables. As the variables containing textual descriptions of the property have been created free-hand, many contain a large number of unique values. In some cases, only recorded for one property. The data driven approach uses a single level Chi-square Automatic Interaction Detector (CHAID) to group the levels within each categorical variable into a smaller number of groups. CHAID groups values with a similar response rate or in this context Energy Efficiency Rating (EER).\n",
    "\n",
    "This script applies the groupings from the CHAID and bins the numerical fields "
   ]
  },
  {
   "cell_type": "code",
   "execution_count": 1,
   "metadata": {},
   "outputs": [],
   "source": [
    "import numpy as np\n",
    "import pandas as pd\n",
    "import datetime\n",
    "import os\n",
    "import glob\n",
    "import json"
   ]
  },
  {
   "cell_type": "code",
   "execution_count": 2,
   "metadata": {},
   "outputs": [],
   "source": [
    "# set variables from config file\n",
    "config_path = os.path.abspath('..')\n",
    "\n",
    "with open(config_path + '/config-example.json', 'r') as f:\n",
    "    config = json.load(f)\n",
    "\n",
    "processing_path = config['DEFAULT']['processing_path']\n",
    "epc_train_clean_fname = config['DEFAULT']['epc_train_clean_fname']\n",
    "epc_test_clean_fname = config['DEFAULT']['epc_test_clean_fname']\n",
    "epc_train_data_fname = config['DEFAULT']['epc_train_dd_fname']\n",
    "epc_test_data_fname = config['DEFAULT']['epc_test_dd_fname']\n",
    "epc_fname_suffix = config['DEFAULT']['epc_fname_suffix']"
   ]
  },
  {
   "cell_type": "code",
   "execution_count": 3,
   "metadata": {},
   "outputs": [
    {
     "name": "stderr",
     "output_type": "stream",
     "text": [
      "C:\\Users\\KingRemy\\AppData\\Local\\Temp\\ipykernel_11284\\1740213250.py:3: DtypeWarning: Columns (21) have mixed types. Specify dtype option on import or set low_memory=False.\n",
      "  epc_train = pd.read_csv(os.path.join(processing_path,epc_train_clean_fname) + epc_fname_suffix,header = 0,delimiter = ',',dtype = dtype_dict,\n",
      "C:\\Users\\KingRemy\\AppData\\Local\\Temp\\ipykernel_11284\\1740213250.py:5: DtypeWarning: Columns (21) have mixed types. Specify dtype option on import or set low_memory=False.\n",
      "  epc_test = pd.read_csv(os.path.join(processing_path,epc_test_clean_fname) + epc_fname_suffix,header = 0,delimiter = ',',dtype = dtype_dict,\n"
     ]
    }
   ],
   "source": [
    "dtype_dict = {'INSPECTION_DATE':'str'}\n",
    "\n",
    "epc_train = pd.read_csv(os.path.join(processing_path,epc_train_clean_fname) + epc_fname_suffix,header = 0,delimiter = ',',dtype = dtype_dict,\n",
    "                        parse_dates = ['INSPECTION_DATE'])\n",
    "epc_test = pd.read_csv(os.path.join(processing_path,epc_test_clean_fname) + epc_fname_suffix,header = 0,delimiter = ',',dtype = dtype_dict,\n",
    "                        parse_dates = ['INSPECTION_DATE'])"
   ]
  },
  {
   "cell_type": "code",
   "execution_count": 4,
   "metadata": {},
   "outputs": [],
   "source": [
    "%store -r chaid_dict"
   ]
  },
  {
   "cell_type": "markdown",
   "metadata": {},
   "source": [
    "## Combine bins of categorical variables into a smaller number of bins"
   ]
  },
  {
   "cell_type": "markdown",
   "metadata": {},
   "source": [
    "### Built_form"
   ]
  },
  {
   "cell_type": "code",
   "execution_count": 5,
   "metadata": {},
   "outputs": [],
   "source": [
    "# built_dict = dict.fromkeys(['Mid-Terrace','End-Terrace'],'terraced')\n",
    "# built_dict1 = dict.fromkeys(['Semi-Detached','Detached'],'detached')\n",
    "# built_dict.update(built_dict1)\n",
    "# epc_train['built_form'] = epc_train['BUILT_FORM'].replace(built_dict)\n",
    "# epc_test['built_form'] = epc_test['BUILT_FORM'].replace(built_dict)"
   ]
  },
  {
   "cell_type": "code",
   "execution_count": null,
   "metadata": {},
   "outputs": [],
   "source": [
    "chaid_dict['BUILT_FORM']['node1'].remove('<missing>')"
   ]
  },
  {
   "cell_type": "code",
   "execution_count": null,
   "metadata": {},
   "outputs": [],
   "source": [
    "built_dict = dict.fromkeys(chaid_dict['BUILT_FORM']['node1'], 'Flat: only one ext wall')\n",
    "built_dict1 = dict.fromkeys(chaid_dict['BUILT_FORM']['node2'], 'House: mid-terraced')\n",
    "built_dict2 = dict.fromkeys(chaid_dict['BUILT_FORM']['node3'], 'House: end-terraced')\n",
    "built_dict3 = dict.fromkeys(chaid_dict['BUILT_FORM']['node4'], 'House: detached')\n",
    "built_dict4 = dict.fromkeys(chaid_dict['BUILT_FORM']['node5'], 'House: semi-detached')\n",
    "built_dict.update(built_dict1)\n",
    "built_dict.update(built_dict2)\n",
    "built_dict.update(built_dict3)\n",
    "built_dict.update(built_dict4)\n",
    "epc_train['built_form'] = epc_train['BUILT_FORM'].replace(built_dict)\n",
    "epc_test['built_form'] = epc_test['BUILT_FORM'].replace(built_dict)\n"
   ]
  },
  {
   "cell_type": "markdown",
   "metadata": {},
   "source": [
    "### Energy_tariff"
   ]
  },
  {
   "cell_type": "code",
   "execution_count": 6,
   "metadata": {},
   "outputs": [],
   "source": [
    "# adding which is missing from chaid due to small volumes, and removing null from other groups\n",
    "# chaid_dict['ENERGY_TARIFF']['node2'].append('off-peak 18 hour')\n",
    "# chaid_dict['ENERGY_TARIFF']['node1'].remove('Unknown')\n",
    "chaid_dict['ENERGY_TARIFF']['node1'].remove('<missing>')"
   ]
  },
  {
   "cell_type": "code",
   "execution_count": 7,
   "metadata": {},
   "outputs": [],
   "source": [
    "# energy_dict = dict.fromkeys(chaid_dict['ENERGY_TARIFF']['node1'],'single/dual')\n",
    "# energy_dict1 = dict.fromkeys(chaid_dict['ENERGY_TARIFF']['node2'],'off-peak')\n",
    "# energy_dict['Unknown'] = np.nan \n",
    "# energy_dict.update(energy_dict1)\n",
    "# epc_train['energy_tariff'] = epc_train['ENERGY_TARIFF'].replace(energy_dict)\n",
    "# epc_test['energy_tariff'] = epc_test['ENERGY_TARIFF'].replace(energy_dict)"
   ]
  },
  {
   "cell_type": "code",
   "execution_count": null,
   "metadata": {},
   "outputs": [],
   "source": [
    "energy_dict = dict.fromkeys(chaid_dict['ENERGY_TARIFF']['node1'], 'off-peak')\n",
    "energy_dict1 = dict.fromkeys(chaid_dict['ENERGY_TARIFF']['node2'], 'standard tariff')\n",
    "energy_dict2 = dict.fromkeys(chaid_dict['ENERGY_TARIFF']['node3'], 'SIngle')\n",
    "energy_dict3 = dict.fromkeys(chaid_dict['ENERGY_TARIFF']['node4'], 'Dual')\n",
    "energy_dict4 = dict.fromkeys(chaid_dict['ENERGY_TARIFF']['node5'], 'I don\\'t know the energy tarriff')\n",
    "energy_dict.update(energy_dict1)\n",
    "energy_dict.update(energy_dict2)\n",
    "energy_dict.update(energy_dict3)\n",
    "energy_dict.update(energy_dict4)\n",
    "epc_train['energy_tariff'] = epc_train['ENERGY_TARIFF'].replace(energy_dict)\n",
    "epc_test['energy_tariff'] = epc_test['ENERGY_TARIFF'].replace(energy_dict)"
   ]
  },
  {
   "cell_type": "markdown",
   "metadata": {},
   "source": [
    "### Floor description"
   ]
  },
  {
   "cell_type": "code",
   "execution_count": 8,
   "metadata": {},
   "outputs": [],
   "source": [
    "chaid_dict['FLOOR_DESCRIPTION']['node1'].remove('<missing>')"
   ]
  },
  {
   "cell_type": "code",
   "execution_count": 9,
   "metadata": {},
   "outputs": [],
   "source": [
    "floor_desc_dict = dict.fromkeys(chaid_dict['FLOOR_DESCRIPTION']['node1'],'Ground floor: Insulation')\n",
    "floor_desc_dict1 = dict.fromkeys(chaid_dict['FLOOR_DESCRIPTION']['node2'],'Intermediate floor: Timber with insulation')\n",
    "floor_desc_dict2 = dict.fromkeys(chaid_dict['FLOOR_DESCRIPTION']['node3'],'Intermediate floor: Timber without insulation')\n",
    "floor_desc_dict3 = dict.fromkeys(chaid_dict['FLOOR_DESCRIPTION']['node4'],'Party floor: Concrete without insulation')\n",
    "floor_desc_dict4 = dict.fromkeys(chaid_dict['FLOOR_DESCRIPTION']['node5'],'Party floor: Concrete with insulation')\n",
    "floor_desc_dict.update(floor_desc_dict1)\n",
    "floor_desc_dict.update(floor_desc_dict2)\n",
    "floor_desc_dict.update(floor_desc_dict3)\n",
    "floor_desc_dict.update(floor_desc_dict4)\n",
    "epc_train['floor_description'] = epc_train['FLOOR_DESCRIPTION'].replace(floor_desc_dict)\n",
    "epc_test['floor_description'] = epc_test['FLOOR_DESCRIPTION'].replace(floor_desc_dict)"
   ]
  },
  {
   "cell_type": "markdown",
   "metadata": {},
   "source": [
    "Tidying up levels not included in the chaid"
   ]
  },
  {
   "cell_type": "code",
   "execution_count": 10,
   "metadata": {},
   "outputs": [],
   "source": [
    "floor_desc_dict_extra = dict.fromkeys(['average thermal transmittance 1.6 w/m²k', 'average thermal transmittance 2.4 w/m²k'],'I don\\'t know the floor type')\n",
    "floor_desc_dict_extra1 = dict.fromkeys(['average thermal transmittance 2.4 w/m²k'],'Intermediate floor: Timber with insulation')\n",
    "floor_desc_dict_extra2 = dict.fromkeys(['average thermal transmittance 1.8 w/m²k','solet, inswleiddio cyfyngedig (rhagdybiaeth)'],'Party floor: Concrete without insulation')\n",
    "floor_desc_dict_extra.update(floor_desc_dict_extra1)\n",
    "floor_desc_dict_extra.update(floor_desc_dict_extra2)\n",
    "epc_train['floor_description'] = epc_train['floor_description'].replace(floor_desc_dict_extra)\n",
    "epc_test['floor_description'] = epc_test['floor_description'].replace(floor_desc_dict_extra)"
   ]
  },
  {
   "cell_type": "markdown",
   "metadata": {},
   "source": [
    "### Floor Level"
   ]
  },
  {
   "cell_type": "code",
   "execution_count": 11,
   "metadata": {},
   "outputs": [],
   "source": [
    "floor_level_dict = dict.fromkeys(['Ground','ground floor','Basement',],'1')\n",
    "floor_level_dict1 = dict.fromkeys(['1st','2nd','3rd','4th'],'2')\n",
    "floor_level_dict2 = dict.fromkeys(['mid floor','5th','6th','7th','8th','9th','10th','11th'],'3')\n",
    "floor_level_dict3 = dict.fromkeys(['top floor','12th','13th','14th','15th','16th','17th','18th','19th','20th',\n",
    "                                   '21st or above'],'4+')\n",
    "floor_level_dict.update(floor_level_dict1)\n",
    "floor_level_dict.update(floor_level_dict2)\n",
    "floor_level_dict.update(floor_level_dict3)\n",
    "epc_train['floor_level'] = epc_train['FLOOR_LEVEL'].replace(floor_level_dict)\n",
    "epc_test['floor_level'] = epc_test['FLOOR_LEVEL'].replace(floor_level_dict)"
   ]
  },
  {
   "cell_type": "markdown",
   "metadata": {},
   "source": [
    "### Glazed Type"
   ]
  },
  {
   "cell_type": "code",
   "execution_count": 12,
   "metadata": {},
   "outputs": [],
   "source": [
    "# glazed_dict = dict.fromkeys(['double glazing installed before 2002','double glazing, unknown install date'],'Wood/Plastic: Double glazed')\n",
    "# glazed_dict1 = dict.fromkeys(['triple, known data','triple glazing'],'Metal: Double glazed')\n",
    "# glazed_dict2 = dict.fromkeys(['secondary glazing','not defined','single glazing'],'Wood: Single glazed')\n",
    "# glazed_dict3 = dict.fromkeys(['double, known data','double glazing installed during or after 2002'],'Metal: Single glazing')\n",
    "# glazed_dict.update(glazed_dict1)\n",
    "# glazed_dict.update(glazed_dict2)\n",
    "# glazed_dict.update(glazed_dict3)\n",
    "# glazed_dict['INVALID!'] = np.nan\n",
    "# epc_train['glazed_type'] = epc_train['GLAZED_TYPE'].replace(glazed_dict)\n",
    "# epc_test['glazed_type'] = epc_test['GLAZED_TYPE'].replace(glazed_dict)"
   ]
  },
  {
   "cell_type": "markdown",
   "metadata": {},
   "source": [
    "### Hot water description"
   ]
  },
  {
   "cell_type": "code",
   "execution_count": null,
   "metadata": {},
   "outputs": [],
   "source": [
    "hot_water_dict = dict.fromkeys(chaid_dict['HOTWATER_DESCRIPTION']['node1'],'Gas boiler')\n",
    "hot_water_dict1 = dict.fromkeys(chaid_dict['HOTWATER_DESCRIPTION']['node2'],'Oil boiler')\n",
    "hot_water_dict2 = dict.fromkeys(chaid_dict['HOTWATER_DESCRIPTION']['node3'],'Electric heating')\n",
    "hot_water_dict3 = dict.fromkeys(chaid_dict['HOTWATER_DESCRIPTION']['node4'],'Solar')\n",
    "hot_water_dict4 = dict.fromkeys(chaid_dict['HOTWATER_DESCRIPTION']['node5'],'Fuel boiler')\n",
    "hot_water_dict5 = dict.fromkeys(chaid_dict['HOTWATER_DESCRIPTION']['node6'],'Coal boiler')\n",
    "hot_water_dict.update(hot_water_dict1)\n",
    "hot_water_dict.update(hot_water_dict2)\n",
    "hot_water_dict.update(hot_water_dict3)\n",
    "hot_water_dict.update(hot_water_dict4)\n",
    "hot_water_dict.update(hot_water_dict5)\n",
    "epc_train['hotwater_description'] = epc_train['HOTWATER_DESCRIPTION'].replace(hot_water_dict)\n",
    "epc_test['hotwater_description'] = epc_test['HOTWATER_DESCRIPTION'].replace(hot_water_dict)"
   ]
  },
  {
   "cell_type": "code",
   "execution_count": 13,
   "metadata": {},
   "outputs": [],
   "source": [
    "# hot_water_dict = dict.fromkeys(chaid_dict['HOTWATER_DESCRIPTION']['node1'],'water group 1')\n",
    "# hot_water_dict1 = dict.fromkeys(chaid_dict['HOTWATER_DESCRIPTION']['node2'],'water group 2')\n",
    "# hot_water_dict.update(hot_water_dict1)\n",
    "# epc_train['hotwater_description'] = epc_train['HOTWATER_DESCRIPTION'].replace(hot_water_dict)\n",
    "# epc_test['hotwater_description'] = epc_test['HOTWATER_DESCRIPTION'].replace(hot_water_dict)"
   ]
  },
  {
   "cell_type": "code",
   "execution_count": 14,
   "metadata": {},
   "outputs": [],
   "source": [
    "# water_dict_extra = dict.fromkeys(['7-hour tariff (on-peak)',\n",
    "#                                   'From community scheme, plus solar',\n",
    "#                                   'From main system, 7-hour tariff (on-peak)',\n",
    "#                                   'Solid fuel range cooker, plus solar, no cylinder thermostat',\n",
    "#                                   'Gas boiler/circulator, plus solar, no cylinder thermostat',\n",
    "#                                   'Electric immersion, standard tariff, plus solar, waste water heat recovery',\n",
    "#                                   'Solid fuel boiler/circulator, plus solar','Community scheme with CHP',\n",
    "#                                   'Oil boiler/circulator, waste water heat recovery',\n",
    "#                                   'From secondary system, no cylinder thermostat, plus solar',\n",
    "#                                   'From secondary system, no cylinderstat, plus solar',\n",
    "#                                   'From second main heating system, plus solar', 'Gas range cooker, plus solar',\n",
    "#                                   'Gas range cooker, plus solar, no cylinder thermostat',\n",
    "#                                   'Heat pump, waste water heat recovery','SAP:Hot-Water',\n",
    "#                                   'From main system, no cylinder thermostat, flue gas heat recovery'\n",
    "#                                  ],'water group 1')\n",
    "# water_dict_extra1 = dict.fromkeys(['O system eilaidd','Room heaters, anthracite',\n",
    "#                                    'Oil range cooker, plus solar',\n",
    "#                                    'Oil range cooker, plus solar, no cylinder thermostat',\n",
    "#                                    'From main system, no cylinderstat, no cylinderstat',\n",
    "#                                    'No system present : electric immersion assumed', 'Electric immersion',\n",
    "#                                    'From secondary heater, standard tariff','From secondary heater',\n",
    "#                                    'No system present?electric immersion assumed', ', no cylinderstat',\n",
    "#                                    'Single-point gas water heater', 'Point gas water heater, no cylinderstat',\n",
    "#                                    'Back boiler (hot water only), gas','Gas multipoint, no cylinder thermostat',\n",
    "#                                    'Electric instantaneous at point of use, no cylinder thermostat',\n",
    "#                                    'No hot water system present - electric immersion assumed, plus solar',\n",
    "#                                    'No system present: electric immersion assumed, no cylinder thermostat',\n",
    "#                                    'Solid fuel range cooker, no cylinderstat','Gas boiler/circulator, no cylinderstat'\n",
    "#                                  ],'water group 2')\n",
    "# water_dict_extra.update(water_dict_extra1)\n",
    "# epc_train['hotwater_description'] = epc_train['hotwater_description'].replace(water_dict_extra)\n",
    "# epc_test['hotwater_description'] = epc_test['hotwater_description'].replace(water_dict_extra)"
   ]
  },
  {
   "cell_type": "code",
   "execution_count": 15,
   "metadata": {},
   "outputs": [],
   "source": [
    "# putting remaining small options into one group, note leaving 'From main system' separate as it's 75% of all values\n",
    "hotwater_leftover = [x for x in set(epc_train['hotwater_description']) if 'water group' not in str(x)]\n",
    "hotwater_leftover_test = [x for x in set(epc_test['hotwater_description']) if 'water group' not in str(x)]\n",
    "#hotwater_leftover.remove('From main system')\n",
    "#hotwater_leftover_test.remove('From main system')\n",
    "hotwater_leftover.extend(hotwater_leftover_test)\n",
    "hotwater_leftover_dict = dict.fromkeys(hotwater_leftover,'Coal boiler')\n",
    "epc_train['hotwater_description'] = epc_train['hotwater_description'].replace(hotwater_leftover_dict)\n",
    "epc_test['hotwater_description'] = epc_test['hotwater_description'].replace(hotwater_leftover_dict)"
   ]
  },
  {
   "cell_type": "markdown",
   "metadata": {},
   "source": [
    "###  Lighting Description"
   ]
  },
  {
   "cell_type": "code",
   "execution_count": 16,
   "metadata": {},
   "outputs": [],
   "source": [
    "# epc_train['low_energy_lighting_perc'] = epc_train.apply(lambda row: 100.0 if row['LIGHTING_DESCRIPTION'] == 'low energy lighting in all fixed outlets' else row['low_energy_lighting_perc'], axis=1)\n",
    "# epc_train['low_energy_lighting_perc'] = epc_train.apply(lambda row: 0 if row['LIGHTING_DESCRIPTION'] == 'no low energy lighting' else row['low_energy_lighting_perc'], axis=1)\n",
    "# epc_test['low_energy_lighting_perc'] = epc_test.apply(lambda row: 100.0 if row['LIGHTING_DESCRIPTION'] == 'low energy lighting in all fixed outlets' else row['low_energy_lighting_perc'], axis=1)\n",
    "# epc_test['low_energy_lighting_perc'] = epc_test.apply(lambda row: 0 if row['LIGHTING_DESCRIPTION'] == 'no low energy lighting' else row['low_energy_lighting_perc'], axis=1)"
   ]
  },
  {
   "cell_type": "code",
   "execution_count": 17,
   "metadata": {},
   "outputs": [],
   "source": [
    "chaid_dict['LIGHTING_DESCRIPTION']['node1'].remove('<missing>')"
   ]
  },
  {
   "cell_type": "code",
   "execution_count": 18,
   "metadata": {},
   "outputs": [],
   "source": [
    "lighting_dict = dict.fromkeys(chaid_dict['LIGHTING_DESCRIPTION']['node1'],'Low energy lighting')\n",
    "lighting_dict1 = dict.fromkeys(chaid_dict['LIGHTING_DESCRIPTION']['node2'],'I don\\'t know the energy lighting')\n",
    "lighting_dict2 = dict.fromkeys(chaid_dict['LIGHTING_DESCRIPTION']['node3'],'No low energy lighting')\n",
    "lighting_dict.update(lighting_dict1)\n",
    "lighting_dict.update(lighting_dict2)\n",
    "epc_train['lighting_description'] = epc_train['LIGHTING_DESCRIPTION'].replace(lighting_dict)\n",
    "epc_test['lighting_description'] = epc_test['LIGHTING_DESCRIPTION'].replace(lighting_dict)"
   ]
  },
  {
   "cell_type": "code",
   "execution_count": null,
   "metadata": {},
   "outputs": [],
   "source": [
    "lighting_dict_extra = dict.fromkeys(['low energy lighting 20%% of fixed outlets', 'low energy lighting 30%% of fixed outlets'\n",
    "                                     'low energy lighting 40%% of fixed outlets','low energy lighting 50%% of fixed outlets'\n",
    "                                     'low energy lighting 60%% of fixed outlets','low energy lighting 70%% of fixed outlets',\n",
    "                                     'low energy lighting 90%% of fixed outlets','low energy lighting 100%% of fixed outlets'],'No low energy lighting')\n",
    "epc_train['floor_description'] = epc_train['floor_description'].replace(lighting_dict_extra)\n",
    "epc_test['floor_description'] = epc_test['floor_description'].replace(lighting_dict_extra)"
   ]
  },
  {
   "cell_type": "markdown",
   "metadata": {},
   "source": [
    "### Main heating controls"
   ]
  },
  {
   "cell_type": "code",
   "execution_count": 19,
   "metadata": {},
   "outputs": [],
   "source": [
    "chaid_dict['MAINHEATCONT_DESCRIPTION']['node1'].remove('<missing>')"
   ]
  },
  {
   "cell_type": "code",
   "execution_count": 20,
   "metadata": {},
   "outputs": [],
   "source": [
    "main_heat_dict = dict.fromkeys(chaid_dict['MAINHEATCONT_DESCRIPTION']['node1'],'Programmer: time control')\n",
    "main_heat_dict1 = dict.fromkeys(chaid_dict['MAINHEATCONT_DESCRIPTION']['node2'],'Prgrammer: room thermostat')\n",
    "main_heat_dict2 = dict.fromkeys(chaid_dict['MAINHEATCONT_DESCRIPTION']['node3'],'Programmer: no room thermostat')\n",
    "main_heat_dict3 = dict.fromkeys(chaid_dict['MAINHEATCONT_DESCRIPTION']['node4'],'Prgrammer: TRVs')\n",
    "main_heat_dict4 = dict.fromkeys(chaid_dict['MAINHEATCONT_DESCRIPTION']['node5'],'Community heating charging system')\n",
    "main_heat_dict5 = dict.fromkeys(chaid_dict['MAINHEATCONT_DESCRIPTION']['node4'],'I don\\'t know the heating control')\n",
    "main_heat_dict6 = dict.fromkeys(chaid_dict['MAINHEATCONT_DESCRIPTION']['node5'],'Room thermostat')\n",
    "main_heat_dict.update(main_heat_dict1)\n",
    "main_heat_dict.update(main_heat_dict2)\n",
    "main_heat_dict.update(main_heat_dict3)\n",
    "main_heat_dict.update(main_heat_dict4)\n",
    "main_heat_dict.update(main_heat_dict5)\n",
    "main_heat_dict.update(main_heat_dict6)\n",
    "epc_train['mainheat_controls'] = epc_train['MAINHEATCONT_DESCRIPTION'].replace(main_heat_dict)\n",
    "epc_test['mainheat_controls'] = epc_test['MAINHEATCONT_DESCRIPTION'].replace(main_heat_dict)"
   ]
  },
  {
   "cell_type": "code",
   "execution_count": 21,
   "metadata": {},
   "outputs": [],
   "source": [
    "main_heat_dict_extra = dict.fromkeys(['Charging system linked to use of communit heating, TRVs'\n",
    "                                     ],'Community heating charging system')\n",
    "main_heat_dict_extra1 = dict.fromkeys([\"Thermostat ystafell yn unig\"],'Room thermostat')\n",
    "main_heat_dict_extra2 = dict.fromkeys([\"Rhaglennydd ac o leiaf ddau thermostat ystafell\",\n",
    "                                       'Rheoli gwefr drydanol yn awtomatig',\n",
    "                                       'Programmer + appliance thermostats',\n",
    "                                       'Rhaglennydd a thermostatau ar y cyfarpar',\n",
    "                                       'Programmer + TRVs + boiler energy manager',\n",
    "                                       'Programmer + TRVs + flow switch',\n",
    "                                       'Programmer + room thermostats'\n",
    "                                      ],'Prgrammer: TRVs')\n",
    "main_heat_dict_extra3 = dict.fromkeys(['Charging system linked to use of communit heating, programmer and TRVs',\n",
    "                                       'Programmer and delayed start thermostat'\n",
    "                                      ],'Prgrammer: room thermostat')\n",
    "main_heat_dict_extra.update(main_heat_dict_extra1)\n",
    "main_heat_dict_extra.update(main_heat_dict_extra2)\n",
    "main_heat_dict_extra.update(main_heat_dict_extra3)\n",
    "epc_train['mainheat_controls'] = epc_train['mainheat_controls'].replace(main_heat_dict_extra)\n",
    "epc_test['mainheat_controls'] = epc_test['mainheat_controls'].replace(main_heat_dict_extra)"
   ]
  },
  {
   "cell_type": "markdown",
   "metadata": {},
   "source": [
    "### Property type"
   ]
  },
  {
   "cell_type": "code",
   "execution_count": 22,
   "metadata": {},
   "outputs": [],
   "source": [
    "# prop_type_dict = dict.fromkeys(['Bungalow','Park home'],'one storey building')\n",
    "# epc_train['property_type'] = epc_train['PROPERTY_TYPE'].replace(prop_type_dict)\n",
    "# epc_test['property_type'] = epc_test['PROPERTY_TYPE'].replace(prop_type_dict)"
   ]
  },
  {
   "cell_type": "markdown",
   "metadata": {},
   "source": [
    "### Roof description"
   ]
  },
  {
   "cell_type": "code",
   "execution_count": 23,
   "metadata": {},
   "outputs": [],
   "source": [
    "chaid_dict['ROOF_DESCRIPTION']['node1'].remove('<missing>')"
   ]
  },
  {
   "cell_type": "code",
   "execution_count": 24,
   "metadata": {},
   "outputs": [],
   "source": [
    "roof_dict = dict.fromkeys(chaid_dict['ROOF_DESCRIPTION']['node1'],'I don\\'t know the roof insulation')\n",
    "roof_dict1 = dict.fromkeys(chaid_dict['ROOF_DESCRIPTION']['node2'],'50mm insulation')\n",
    "roof_dict2 = dict.fromkeys(chaid_dict['ROOF_DESCRIPTION']['node3'],'200mm insulation')\n",
    "roof_dict3 = dict.fromkeys(chaid_dict['ROOF_DESCRIPTION']['node4'],'Central building Regulations: new build')\n",
    "roof_dict4 = dict.fromkeys(chaid_dict['ROOF_DESCRIPTION']['node5'],'Pitched roof: no insulation')\n",
    "roof_dict5 = dict.fromkeys(chaid_dict['ROOF_DESCRIPTION']['node6'],'300mm insulation')\n",
    "roof_dict6 = dict.fromkeys(chaid_dict['ROOF_DESCRIPTION']['node7'],'100mm insulation')\n",
    "roof_dict7 = dict.fromkeys(chaid_dict['ROOF_DESCRIPTION']['node8'],'Building regulations 2006')\n",
    "roof_dict8 = dict.fromkeys(chaid_dict['ROOF_DESCRIPTION']['node9'],'Flat roof: no insulation')\n",
    "roof_dict.update(roof_dict1)\n",
    "roof_dict.update(roof_dict2)\n",
    "roof_dict.update(roof_dict3)\n",
    "roof_dict.update(roof_dict4)\n",
    "roof_dict.update(roof_dict5)\n",
    "roof_dict.update(roof_dict6)\n",
    "roof_dict.update(roof_dict7)\n",
    "roof_dict.update(roof_dict8)\n",
    "\n",
    "epc_train['roof_description'] = epc_train['ROOF_DESCRIPTION'].replace(roof_dict)\n",
    "epc_test['roof_description'] = epc_test['ROOF_DESCRIPTION'].replace(roof_dict)"
   ]
  },
  {
   "cell_type": "code",
   "execution_count": 25,
   "metadata": {},
   "outputs": [],
   "source": [
    "# putting remaining small options into one group, note leaving 'From main system' separate as it's 75% of all values\n",
    "roof_leftover = [x for x in set(epc_train['roof_description']) if 'roof group' not in str(x)]\n",
    "roof_leftover_test = [x for x in set(epc_test['roof_description']) if 'roof group' not in str(x)]\n",
    "roof_leftover.extend(roof_leftover_test)\n",
    "roof_leftover_dict = dict.fromkeys(roof_leftover,'I don\\'t know the roof type')\n",
    "epc_train['roof_description'] = epc_train['roof_description'].replace(roof_leftover_dict)\n",
    "epc_test['roof_description'] = epc_test['roof_description'].replace(roof_leftover_dict)"
   ]
  },
  {
   "cell_type": "markdown",
   "metadata": {},
   "source": [
    "### Transaction type"
   ]
  },
  {
   "cell_type": "code",
   "execution_count": 26,
   "metadata": {},
   "outputs": [],
   "source": [
    "# chaid_dict['TRANSACTION_TYPE']['node1'].remove('<missing>')"
   ]
  },
  {
   "cell_type": "code",
   "execution_count": 27,
   "metadata": {},
   "outputs": [],
   "source": [
    "# trans_dict = dict.fromkeys(chaid_dict['TRANSACTION_TYPE']['node1'],'private rental and sale')\n",
    "# trans_dict1 = dict.fromkeys(chaid_dict['TRANSACTION_TYPE']['node2'],'social rental and new build')\n",
    "# trans_dict2 = dict.fromkeys(chaid_dict['TRANSACTION_TYPE']['node3'],'private rental and sale')\n",
    "# trans_dict3 = dict.fromkeys(chaid_dict['TRANSACTION_TYPE']['node4'],'social rental and new build')\n",
    "# #trans_dict4 = dict.fromkeys(chaid_dict['TRANSACTION_TYPE']['node5'],'assessment')\n",
    "# trans_dict.update(trans_dict1)\n",
    "# trans_dict.update(trans_dict2)\n",
    "# trans_dict.update(trans_dict3)\n",
    "# #trans_dict.update(trans_dict4)\n",
    "# trans_dict['unknown'] = np.nan\n",
    "# epc_train['transaction_type'] = epc_train['TRANSACTION_TYPE'].replace(trans_dict)\n",
    "# epc_test['transaction_type'] = epc_test['TRANSACTION_TYPE'].replace(trans_dict)\n"
   ]
  },
  {
   "cell_type": "markdown",
   "metadata": {},
   "source": [
    "### Walls description"
   ]
  },
  {
   "cell_type": "code",
   "execution_count": 28,
   "metadata": {},
   "outputs": [],
   "source": [
    "chaid_dict['WALLS_DESCRIPTION']['node1'].remove('<missing>')"
   ]
  },
  {
   "cell_type": "code",
   "execution_count": 29,
   "metadata": {},
   "outputs": [],
   "source": [
    "walls_dict = dict.fromkeys(chaid_dict['WALLS_DESCRIPTION']['node1'],'I donn\\'t know the wall constrcution')\n",
    "walls_dict1 = dict.fromkeys(chaid_dict['WALLS_DESCRIPTION']['node2'],'Timber frame wall')\n",
    "walls_dict2 = dict.fromkeys(chaid_dict['WALLS_DESCRIPTION']['node3'],'Solid brick wall')\n",
    "walls_dict3 = dict.fromkeys(chaid_dict['WALLS_DESCRIPTION']['node4'],'Solid stone wall')\n",
    "walls_dict4 = dict.fromkeys(chaid_dict['WALLS_DESCRIPTION']['node5'],'Cavity wall, insulated')\n",
    "walls_dict5 = dict.fromkeys(chaid_dict['WALLS_DESCRIPTION']['node6'],'Cavity wall, not insulated')\n",
    "walls_dict6 = dict.fromkeys(chaid_dict['WALLS_DESCRIPTION']['node7'],'Concrete construction wall')\n",
    "walls_dict.update(walls_dict1)\n",
    "walls_dict.update(walls_dict2)\n",
    "walls_dict.update(walls_dict3)\n",
    "walls_dict.update(walls_dict4)\n",
    "walls_dict.update(walls_dict5)\n",
    "walls_dict.update(walls_dict6)\n",
    "epc_train['walls_description'] = epc_train['WALLS_DESCRIPTION'].replace(walls_dict)\n",
    "epc_test['walls_description'] = epc_test['WALLS_DESCRIPTION'].replace(walls_dict)"
   ]
  },
  {
   "cell_type": "code",
   "execution_count": 30,
   "metadata": {},
   "outputs": [],
   "source": [
    "# putting remaining small options into one group, note leaving 'From main system' separate as it's 75% of all values\n",
    "walls_leftover = [x for x in set(epc_train['walls_description']) if 'walls group' not in str(x)]\n",
    "walls_leftover_test = [x for x in set(epc_test['walls_description']) if 'walls group' not in str(x)]\n",
    "walls_leftover.extend(walls_leftover_test)\n",
    "walls_leftover_dict = dict.fromkeys(walls_leftover,'Cavity wall, I don\\'t know if it has been insulated')\n",
    "epc_train['walls_description'] = epc_train['walls_description'].replace(walls_leftover_dict)\n",
    "epc_test['walls_description'] = epc_test['walls_description'].replace(walls_leftover_dict)"
   ]
  },
  {
   "cell_type": "markdown",
   "metadata": {},
   "source": [
    "### Windows Description"
   ]
  },
  {
   "cell_type": "code",
   "execution_count": null,
   "metadata": {},
   "outputs": [],
   "source": [
    "windows_dict = dict.fromkeys(['single glazing and secondary glazing', 'single glazing|single glazing', 'single glazing'\n",
    "                            ],'Single glazing: Wood/PVC frame')\n",
    "windows_dict1 = dict.fromkeys(['single and multiple glazing', 'single glazing and double glazing'],'Single glazing: Metal frame')\n",
    "windows_dict2 = dict.fromkeys(['partial secondary glazing','mostly multiple glazing','partial double glazing',\n",
    "                             'secondary glazing', 'double glazing', 'partial double glazing|partial double glazing',\n",
    "                             'some secondary glazing','some double glazing'],'Standard double glazing: Wood/PVC frame')\n",
    "windows_dict3 = dict.fromkeys(['mostly secondary glazing', 'mostly double glazing', 'partial multiple glazing',\n",
    "                             'full secondary glazing', 'some multiple glazing''full double glazing',\n",
    "                             'full double glazing|full double glazing'],'Standard double glazing: Metal frame')\n",
    "windows_dict4 = dict.fromkeys(['some triple glazing', 'partial triple glazing', 'high performance glazing',\n",
    "                             'high performance glazing'], 'Tripple glazing: Wood/PVC frame')\n",
    "windows_dict5 = dict.fromkeys(['mostly triple glazing', 'multiple glazing throughout', 'full triple glazing',\n",
    "                             'high performance glazing|high performance glazing'],'Triple glazing: Metal frame')\n",
    "windows_dict6 = dict.fromkeys(['solid, no insulation (assumed)', 'suspended, no insulation (assumed)', 'unknown complex glazing regime',\n",
    "                             'gwydrau triphlyg gan mwyaf'],'I don\\'t know the window type')\n",
    "windows_dict.update(windows_dict1)\n",
    "windows_dict.update(windows_dict2)\n",
    "windows_dict.update(windows_dict3)\n",
    "windows_dict.update(windows_dict4)\n",
    "windows_dict.update(windows_dict5)\n",
    "windows_dict.update(windows_dict6)\n",
    "epc_train['window_description'] = epc_train['WINDOWS_DESCRIPTION'].replace(windows_dict)\n",
    "epc_test['window_description'] = epc_test['WINDOWS_DESCRIPTION'].replace(windows_dict)"
   ]
  },
  {
   "cell_type": "code",
   "execution_count": 31,
   "metadata": {},
   "outputs": [],
   "source": [
    "# windows_dict = dict.fromkeys(chaid_dict['WINDOWS_DESCRIPTION']['node1'],'window group 1')\n",
    "# windows_dict1 = dict.fromkeys(chaid_dict['WINDOWS_DESCRIPTION']['node2'],'window group 2')\n",
    "# windows_dict2 = dict.fromkeys(chaid_dict['WINDOWS_DESCRIPTION']['node3'],'window group 3')\n",
    "# windows_dict.update(windows_dict1)\n",
    "# windows_dict.update(windows_dict2)\n",
    "# epc_train['window_description'] = epc_train['WINDOWS_DESCRIPTION'].replace(windows_dict)\n",
    "# epc_test['window_description'] = epc_test['WINDOWS_DESCRIPTION'].replace(windows_dict)"
   ]
  },
  {
   "cell_type": "code",
   "execution_count": 32,
   "metadata": {},
   "outputs": [],
   "source": [
    "# epc_train['window_description'] = epc_train['window_description'].replace('multiple glazing throughout double glazing','window group 3')\n",
    "# epc_test['window_description'] = epc_test['window_description'].replace('multiple glazing throughout double glazing','window group 3')"
   ]
  },
  {
   "cell_type": "markdown",
   "metadata": {},
   "source": [
    "### Region"
   ]
  },
  {
   "cell_type": "code",
   "execution_count": 33,
   "metadata": {},
   "outputs": [],
   "source": [
    "# region_dict = dict.fromkeys(['Blaenau Gwent','Neath Port Talbot','Pembrokeshire','Rhondda Cynon Taf','Caerphilly',\n",
    "#                              'Flintshire','Carmarthenshire','Powys','Conwy','Ceredigion','Debighshire',\n",
    "#                              'Gwynedd','Isle of Anglesey'],'rural')\n",
    "# region_dict1 = dict.fromkeys(['Bridgend','Monmouthshire','Wrexham','Merthyr Tydfil','Vale of Glamorgan','Cardiff',\n",
    "#                               'Torfaen','Newport','Swansea'],'suburban')\n",
    "# region_dict.update(region_dict1)\n",
    "# epc_train['locality'] = epc_train['region'].replace(region_dict)\n",
    "# epc_test['locality'] = epc_test['region'].replace(region_dict)"
   ]
  },
  {
   "cell_type": "markdown",
   "metadata": {},
   "source": [
    "## Binning Numeric Fields"
   ]
  },
  {
   "cell_type": "code",
   "execution_count": 34,
   "metadata": {},
   "outputs": [],
   "source": [
    "def numberic_bins(var,bin_boundaries,bin_labels):\n",
    "\n",
    "  var_new = pd.cut(var,bins = bin_boundaries,labels = bin_labels)\n",
    "\n",
    "  return var_new"
   ]
  },
  {
   "cell_type": "markdown",
   "metadata": {},
   "source": [
    "### Extension count"
   ]
  },
  {
   "cell_type": "code",
   "execution_count": 35,
   "metadata": {},
   "outputs": [],
   "source": [
    "extension_max = epc_train['EXTENSION_COUNT'].max()\n",
    "extension_bins = [-1,0,1,extension_max]\n",
    "extension_labels = ['0','1','2+']"
   ]
  },
  {
   "cell_type": "code",
   "execution_count": 36,
   "metadata": {},
   "outputs": [],
   "source": [
    "epc_train['extension'] = numberic_bins(epc_train['EXTENSION_COUNT'],extension_bins,extension_labels)\n",
    "epc_test['extension'] = numberic_bins(epc_test['EXTENSION_COUNT'],extension_bins,extension_labels)"
   ]
  },
  {
   "cell_type": "markdown",
   "metadata": {},
   "source": [
    "### Floor height"
   ]
  },
  {
   "cell_type": "code",
   "execution_count": 37,
   "metadata": {},
   "outputs": [],
   "source": [
    "floor_max = epc_train['FLOOR_HEIGHT'].max()\n",
    "floor_bins = [0,2.3,2.4,2.4999,2.5,2.7,floor_max]\n",
    "floor_labels = ['0-2.3','2.3-2.4','2.4-2.5','2.5','2.5-2.7','2.7+']"
   ]
  },
  {
   "cell_type": "code",
   "execution_count": 38,
   "metadata": {},
   "outputs": [],
   "source": [
    "epc_train['floor_height'] = numberic_bins(epc_train['FLOOR_HEIGHT'],floor_bins,floor_labels)\n",
    "epc_test['floor_height'] = numberic_bins(epc_test['FLOOR_HEIGHT'],floor_bins,floor_labels)"
   ]
  },
  {
   "cell_type": "markdown",
   "metadata": {},
   "source": [
    "### Number of habitable rooms"
   ]
  },
  {
   "cell_type": "code",
   "execution_count": 39,
   "metadata": {},
   "outputs": [],
   "source": [
    "room_max = epc_train['NUMBER_HABITABLE_ROOMS'].max()\n",
    "room_bins = [0,1,2,3,4,5,room_max]\n",
    "room_labels = ['1','2','3','4','5','6+']"
   ]
  },
  {
   "cell_type": "code",
   "execution_count": 40,
   "metadata": {},
   "outputs": [],
   "source": [
    "epc_train['habitable_rooms'] = numberic_bins(epc_train['NUMBER_HABITABLE_ROOMS'],room_bins,room_labels)\n",
    "epc_test['habitable_rooms'] = numberic_bins(epc_test['NUMBER_HABITABLE_ROOMS'],room_bins,room_labels)"
   ]
  },
  {
   "cell_type": "markdown",
   "metadata": {},
   "source": [
    "### Number of open fireplaces"
   ]
  },
  {
   "cell_type": "code",
   "execution_count": 41,
   "metadata": {},
   "outputs": [],
   "source": [
    "# fire_max = epc_train['NUMBER_OPEN_FIREPLACES'].max()\n",
    "# fire_bins = [-1,0,1,fire_max]\n",
    "# fire_labels = ['0','1','2+']"
   ]
  },
  {
   "cell_type": "code",
   "execution_count": 42,
   "metadata": {},
   "outputs": [],
   "source": [
    "# epc_train['open_fireplaces'] = numberic_bins(epc_train['NUMBER_OPEN_FIREPLACES'],fire_bins,fire_labels)\n",
    "# epc_test['open_fireplaces'] = numberic_bins(epc_test['NUMBER_OPEN_FIREPLACES'],fire_bins,fire_labels)"
   ]
  },
  {
   "cell_type": "code",
   "execution_count": 43,
   "metadata": {},
   "outputs": [
    {
     "data": {
      "text/html": [
       "<div>\n",
       "<style scoped>\n",
       "    .dataframe tbody tr th:only-of-type {\n",
       "        vertical-align: middle;\n",
       "    }\n",
       "\n",
       "    .dataframe tbody tr th {\n",
       "        vertical-align: top;\n",
       "    }\n",
       "\n",
       "    .dataframe thead th {\n",
       "        text-align: right;\n",
       "    }\n",
       "</style>\n",
       "<table border=\"1\" class=\"dataframe\">\n",
       "  <thead>\n",
       "    <tr style=\"text-align: right;\">\n",
       "      <th></th>\n",
       "      <th>LMK_KEY</th>\n",
       "      <th>region</th>\n",
       "      <th>POSTCODE</th>\n",
       "      <th>BUILDING_REFERENCE_NUMBER</th>\n",
       "      <th>CURRENT_ENERGY_RATING</th>\n",
       "      <th>CURRENT_ENERGY_EFFICIENCY</th>\n",
       "      <th>PROPERTY_TYPE</th>\n",
       "      <th>BUILT_FORM</th>\n",
       "      <th>INSPECTION_DATE</th>\n",
       "      <th>COUNTY</th>\n",
       "      <th>...</th>\n",
       "      <th>property_type</th>\n",
       "      <th>roof_description</th>\n",
       "      <th>transaction_type</th>\n",
       "      <th>walls_description</th>\n",
       "      <th>window_description</th>\n",
       "      <th>locality</th>\n",
       "      <th>extension</th>\n",
       "      <th>floor_height</th>\n",
       "      <th>habitable_rooms</th>\n",
       "      <th>open_fireplaces</th>\n",
       "    </tr>\n",
       "  </thead>\n",
       "  <tbody>\n",
       "    <tr>\n",
       "      <th>0</th>\n",
       "      <td>472d64f27beec445462f8b8f4c9389b9ab78a69d00eb16...</td>\n",
       "      <td>Lichfield</td>\n",
       "      <td>WS14 9RF</td>\n",
       "      <td>10002368118</td>\n",
       "      <td>C</td>\n",
       "      <td>69</td>\n",
       "      <td>House</td>\n",
       "      <td>Detached</td>\n",
       "      <td>2022-01-10</td>\n",
       "      <td>Staffordshire</td>\n",
       "      <td>...</td>\n",
       "      <td>House</td>\n",
       "      <td>roof group 7</td>\n",
       "      <td>social rental and new build</td>\n",
       "      <td>walls group 6</td>\n",
       "      <td>full double glazing</td>\n",
       "      <td>Lichfield</td>\n",
       "      <td>0</td>\n",
       "      <td>2.3-2.4</td>\n",
       "      <td>6+</td>\n",
       "      <td>0</td>\n",
       "    </tr>\n",
       "    <tr>\n",
       "      <th>1</th>\n",
       "      <td>917209354732013042122465136978600</td>\n",
       "      <td>Craven</td>\n",
       "      <td>LA2 7JX</td>\n",
       "      <td>5006647078</td>\n",
       "      <td>D</td>\n",
       "      <td>61</td>\n",
       "      <td>House</td>\n",
       "      <td>End-Terrace</td>\n",
       "      <td>2013-04-19</td>\n",
       "      <td>North Yorkshire</td>\n",
       "      <td>...</td>\n",
       "      <td>House</td>\n",
       "      <td>roof group 7</td>\n",
       "      <td>social rental and new build</td>\n",
       "      <td>walls group 5</td>\n",
       "      <td>full double glazing</td>\n",
       "      <td>Craven</td>\n",
       "      <td>0</td>\n",
       "      <td>NaN</td>\n",
       "      <td>4</td>\n",
       "      <td>0</td>\n",
       "    </tr>\n",
       "    <tr>\n",
       "      <th>2</th>\n",
       "      <td>524323979942010080813071072800868</td>\n",
       "      <td>Eden</td>\n",
       "      <td>CA11 0LR</td>\n",
       "      <td>8923278768</td>\n",
       "      <td>F</td>\n",
       "      <td>29</td>\n",
       "      <td>House</td>\n",
       "      <td>Detached</td>\n",
       "      <td>2010-08-06</td>\n",
       "      <td>Cumbria</td>\n",
       "      <td>...</td>\n",
       "      <td>House</td>\n",
       "      <td>roof group 7</td>\n",
       "      <td>social rental and new build</td>\n",
       "      <td>walls group 5</td>\n",
       "      <td>window group 3</td>\n",
       "      <td>Eden</td>\n",
       "      <td>1</td>\n",
       "      <td>2.7+</td>\n",
       "      <td>6+</td>\n",
       "      <td>2+</td>\n",
       "    </tr>\n",
       "    <tr>\n",
       "      <th>3</th>\n",
       "      <td>1171297749962014071015572165608334</td>\n",
       "      <td>Braintree</td>\n",
       "      <td>CO9 4QN</td>\n",
       "      <td>3669445278</td>\n",
       "      <td>D</td>\n",
       "      <td>55</td>\n",
       "      <td>House</td>\n",
       "      <td>Detached</td>\n",
       "      <td>2014-07-10</td>\n",
       "      <td>Essex</td>\n",
       "      <td>...</td>\n",
       "      <td>House</td>\n",
       "      <td>roof group 3</td>\n",
       "      <td>assessment for green deal</td>\n",
       "      <td>walls group 4</td>\n",
       "      <td>full double glazing</td>\n",
       "      <td>Braintree</td>\n",
       "      <td>1</td>\n",
       "      <td>NaN</td>\n",
       "      <td>6+</td>\n",
       "      <td>0</td>\n",
       "    </tr>\n",
       "    <tr>\n",
       "      <th>4</th>\n",
       "      <td>5b560fa64623f39f6bbf19ce8d65fd500fc71e539af00d...</td>\n",
       "      <td>Teignbridge</td>\n",
       "      <td>TQ12 5FE</td>\n",
       "      <td>10002120353</td>\n",
       "      <td>C</td>\n",
       "      <td>77</td>\n",
       "      <td>House</td>\n",
       "      <td>End-Terrace</td>\n",
       "      <td>2022-02-03</td>\n",
       "      <td>Devon</td>\n",
       "      <td>...</td>\n",
       "      <td>House</td>\n",
       "      <td>roof group 7</td>\n",
       "      <td>social rental and new build</td>\n",
       "      <td>walls group 6</td>\n",
       "      <td>full double glazing</td>\n",
       "      <td>Teignbridge</td>\n",
       "      <td>0</td>\n",
       "      <td>2.3-2.4</td>\n",
       "      <td>5</td>\n",
       "      <td>0</td>\n",
       "    </tr>\n",
       "  </tbody>\n",
       "</table>\n",
       "<p>5 rows × 78 columns</p>\n",
       "</div>"
      ],
      "text/plain": [
       "                                             LMK_KEY       region  POSTCODE  \\\n",
       "0  472d64f27beec445462f8b8f4c9389b9ab78a69d00eb16...    Lichfield  WS14 9RF   \n",
       "1                  917209354732013042122465136978600       Craven   LA2 7JX   \n",
       "2                  524323979942010080813071072800868         Eden  CA11 0LR   \n",
       "3                 1171297749962014071015572165608334    Braintree   CO9 4QN   \n",
       "4  5b560fa64623f39f6bbf19ce8d65fd500fc71e539af00d...  Teignbridge  TQ12 5FE   \n",
       "\n",
       "   BUILDING_REFERENCE_NUMBER CURRENT_ENERGY_RATING  CURRENT_ENERGY_EFFICIENCY  \\\n",
       "0                10002368118                     C                         69   \n",
       "1                 5006647078                     D                         61   \n",
       "2                 8923278768                     F                         29   \n",
       "3                 3669445278                     D                         55   \n",
       "4                10002120353                     C                         77   \n",
       "\n",
       "  PROPERTY_TYPE   BUILT_FORM INSPECTION_DATE           COUNTY  ...  \\\n",
       "0         House     Detached      2022-01-10    Staffordshire  ...   \n",
       "1         House  End-Terrace      2013-04-19  North Yorkshire  ...   \n",
       "2         House     Detached      2010-08-06          Cumbria  ...   \n",
       "3         House     Detached      2014-07-10            Essex  ...   \n",
       "4         House  End-Terrace      2022-02-03            Devon  ...   \n",
       "\n",
       "  property_type  roof_description             transaction_type  \\\n",
       "0         House      roof group 7  social rental and new build   \n",
       "1         House      roof group 7  social rental and new build   \n",
       "2         House      roof group 7  social rental and new build   \n",
       "3         House      roof group 3    assessment for green deal   \n",
       "4         House      roof group 7  social rental and new build   \n",
       "\n",
       "   walls_description   window_description     locality  extension  \\\n",
       "0      walls group 6  full double glazing    Lichfield          0   \n",
       "1      walls group 5  full double glazing       Craven          0   \n",
       "2      walls group 5       window group 3         Eden          1   \n",
       "3      walls group 4  full double glazing    Braintree          1   \n",
       "4      walls group 6  full double glazing  Teignbridge          0   \n",
       "\n",
       "   floor_height habitable_rooms open_fireplaces  \n",
       "0       2.3-2.4              6+               0  \n",
       "1           NaN               4               0  \n",
       "2          2.7+              6+              2+  \n",
       "3           NaN              6+               0  \n",
       "4       2.3-2.4               5               0  \n",
       "\n",
       "[5 rows x 78 columns]"
      ]
     },
     "execution_count": 43,
     "metadata": {},
     "output_type": "execute_result"
    }
   ],
   "source": [
    "epc_train.head()"
   ]
  },
  {
   "cell_type": "code",
   "execution_count": 44,
   "metadata": {},
   "outputs": [
    {
     "data": {
      "text/html": [
       "<div>\n",
       "<style scoped>\n",
       "    .dataframe tbody tr th:only-of-type {\n",
       "        vertical-align: middle;\n",
       "    }\n",
       "\n",
       "    .dataframe tbody tr th {\n",
       "        vertical-align: top;\n",
       "    }\n",
       "\n",
       "    .dataframe thead th {\n",
       "        text-align: right;\n",
       "    }\n",
       "</style>\n",
       "<table border=\"1\" class=\"dataframe\">\n",
       "  <thead>\n",
       "    <tr style=\"text-align: right;\">\n",
       "      <th></th>\n",
       "      <th>LMK_KEY</th>\n",
       "      <th>region</th>\n",
       "      <th>POSTCODE</th>\n",
       "      <th>BUILDING_REFERENCE_NUMBER</th>\n",
       "      <th>CURRENT_ENERGY_RATING</th>\n",
       "      <th>CURRENT_ENERGY_EFFICIENCY</th>\n",
       "      <th>PROPERTY_TYPE</th>\n",
       "      <th>BUILT_FORM</th>\n",
       "      <th>INSPECTION_DATE</th>\n",
       "      <th>COUNTY</th>\n",
       "      <th>...</th>\n",
       "      <th>property_type</th>\n",
       "      <th>roof_description</th>\n",
       "      <th>transaction_type</th>\n",
       "      <th>walls_description</th>\n",
       "      <th>window_description</th>\n",
       "      <th>locality</th>\n",
       "      <th>extension</th>\n",
       "      <th>floor_height</th>\n",
       "      <th>habitable_rooms</th>\n",
       "      <th>open_fireplaces</th>\n",
       "    </tr>\n",
       "  </thead>\n",
       "  <tbody>\n",
       "    <tr>\n",
       "      <th>0</th>\n",
       "      <td>1575003979922017091413003983878383</td>\n",
       "      <td>Tendring</td>\n",
       "      <td>CO7 7NS</td>\n",
       "      <td>8803793578</td>\n",
       "      <td>C</td>\n",
       "      <td>71</td>\n",
       "      <td>Flat</td>\n",
       "      <td>Detached</td>\n",
       "      <td>2017-09-13</td>\n",
       "      <td>Essex</td>\n",
       "      <td>...</td>\n",
       "      <td>Flat</td>\n",
       "      <td>roof group 7</td>\n",
       "      <td>private rental and sale</td>\n",
       "      <td>walls group 4</td>\n",
       "      <td>full double glazing</td>\n",
       "      <td>Tendring</td>\n",
       "      <td>0</td>\n",
       "      <td>NaN</td>\n",
       "      <td>3</td>\n",
       "      <td>0</td>\n",
       "    </tr>\n",
       "    <tr>\n",
       "      <th>1</th>\n",
       "      <td>923396987952013050120194798070405</td>\n",
       "      <td>Woking</td>\n",
       "      <td>GU22 9PY</td>\n",
       "      <td>4596787078</td>\n",
       "      <td>D</td>\n",
       "      <td>65</td>\n",
       "      <td>House</td>\n",
       "      <td>End-Terrace</td>\n",
       "      <td>2013-05-01</td>\n",
       "      <td>Surrey</td>\n",
       "      <td>...</td>\n",
       "      <td>House</td>\n",
       "      <td>roof group 7</td>\n",
       "      <td>social rental and new build</td>\n",
       "      <td>walls group 4</td>\n",
       "      <td>full double glazing</td>\n",
       "      <td>Woking</td>\n",
       "      <td>0</td>\n",
       "      <td>NaN</td>\n",
       "      <td>3</td>\n",
       "      <td>0</td>\n",
       "    </tr>\n",
       "    <tr>\n",
       "      <th>2</th>\n",
       "      <td>816081039802013062010474405072108</td>\n",
       "      <td>Brentwood</td>\n",
       "      <td>CM14 4RL</td>\n",
       "      <td>1880230078</td>\n",
       "      <td>B</td>\n",
       "      <td>81</td>\n",
       "      <td>Flat</td>\n",
       "      <td>Enclosed Mid-Terrace</td>\n",
       "      <td>2013-06-20</td>\n",
       "      <td>Essex</td>\n",
       "      <td>...</td>\n",
       "      <td>Flat</td>\n",
       "      <td>roof group 7</td>\n",
       "      <td>new dwelling</td>\n",
       "      <td>walls group 6</td>\n",
       "      <td>window group 2</td>\n",
       "      <td>Brentwood</td>\n",
       "      <td>NaN</td>\n",
       "      <td>NaN</td>\n",
       "      <td>NaN</td>\n",
       "      <td>0</td>\n",
       "    </tr>\n",
       "    <tr>\n",
       "      <th>3</th>\n",
       "      <td>199888290962008121710161105968528</td>\n",
       "      <td>Oxford</td>\n",
       "      <td>OX4 2ET</td>\n",
       "      <td>2093975568</td>\n",
       "      <td>D</td>\n",
       "      <td>57</td>\n",
       "      <td>House</td>\n",
       "      <td>End-Terrace</td>\n",
       "      <td>2008-12-16</td>\n",
       "      <td>Oxfordshire</td>\n",
       "      <td>...</td>\n",
       "      <td>House</td>\n",
       "      <td>roof group 4</td>\n",
       "      <td>private rental and sale</td>\n",
       "      <td>walls group 3</td>\n",
       "      <td>window group 3</td>\n",
       "      <td>Oxford</td>\n",
       "      <td>2+</td>\n",
       "      <td>2.3-2.4</td>\n",
       "      <td>5</td>\n",
       "      <td>0</td>\n",
       "    </tr>\n",
       "    <tr>\n",
       "      <th>4</th>\n",
       "      <td>1412714249942016021210042743269998</td>\n",
       "      <td>Dover</td>\n",
       "      <td>CT3 3DL</td>\n",
       "      <td>1981942478</td>\n",
       "      <td>D</td>\n",
       "      <td>64</td>\n",
       "      <td>House</td>\n",
       "      <td>Mid-Terrace</td>\n",
       "      <td>2016-02-11</td>\n",
       "      <td>Kent</td>\n",
       "      <td>...</td>\n",
       "      <td>House</td>\n",
       "      <td>roof group 2</td>\n",
       "      <td>ECO assessment</td>\n",
       "      <td>walls group 4</td>\n",
       "      <td>full double glazing</td>\n",
       "      <td>Dover</td>\n",
       "      <td>0</td>\n",
       "      <td>NaN</td>\n",
       "      <td>5</td>\n",
       "      <td>0</td>\n",
       "    </tr>\n",
       "  </tbody>\n",
       "</table>\n",
       "<p>5 rows × 77 columns</p>\n",
       "</div>"
      ],
      "text/plain": [
       "                              LMK_KEY     region  POSTCODE  \\\n",
       "0  1575003979922017091413003983878383   Tendring   CO7 7NS   \n",
       "1   923396987952013050120194798070405     Woking  GU22 9PY   \n",
       "2   816081039802013062010474405072108  Brentwood  CM14 4RL   \n",
       "3   199888290962008121710161105968528     Oxford   OX4 2ET   \n",
       "4  1412714249942016021210042743269998      Dover   CT3 3DL   \n",
       "\n",
       "   BUILDING_REFERENCE_NUMBER CURRENT_ENERGY_RATING  CURRENT_ENERGY_EFFICIENCY  \\\n",
       "0                 8803793578                     C                         71   \n",
       "1                 4596787078                     D                         65   \n",
       "2                 1880230078                     B                         81   \n",
       "3                 2093975568                     D                         57   \n",
       "4                 1981942478                     D                         64   \n",
       "\n",
       "  PROPERTY_TYPE            BUILT_FORM INSPECTION_DATE       COUNTY  ...  \\\n",
       "0          Flat              Detached      2017-09-13        Essex  ...   \n",
       "1         House           End-Terrace      2013-05-01       Surrey  ...   \n",
       "2          Flat  Enclosed Mid-Terrace      2013-06-20        Essex  ...   \n",
       "3         House           End-Terrace      2008-12-16  Oxfordshire  ...   \n",
       "4         House           Mid-Terrace      2016-02-11         Kent  ...   \n",
       "\n",
       "  property_type  roof_description             transaction_type  \\\n",
       "0          Flat      roof group 7      private rental and sale   \n",
       "1         House      roof group 7  social rental and new build   \n",
       "2          Flat      roof group 7                 new dwelling   \n",
       "3         House      roof group 4      private rental and sale   \n",
       "4         House      roof group 2               ECO assessment   \n",
       "\n",
       "   walls_description   window_description   locality  extension  floor_height  \\\n",
       "0      walls group 4  full double glazing   Tendring          0           NaN   \n",
       "1      walls group 4  full double glazing     Woking          0           NaN   \n",
       "2      walls group 6       window group 2  Brentwood        NaN           NaN   \n",
       "3      walls group 3       window group 3     Oxford         2+       2.3-2.4   \n",
       "4      walls group 4  full double glazing      Dover          0           NaN   \n",
       "\n",
       "  habitable_rooms open_fireplaces  \n",
       "0               3               0  \n",
       "1               3               0  \n",
       "2             NaN               0  \n",
       "3               5               0  \n",
       "4               5               0  \n",
       "\n",
       "[5 rows x 77 columns]"
      ]
     },
     "execution_count": 44,
     "metadata": {},
     "output_type": "execute_result"
    }
   ],
   "source": [
    "epc_test.head()"
   ]
  },
  {
   "cell_type": "markdown",
   "metadata": {},
   "source": [
    "## Dropping fields"
   ]
  },
  {
   "cell_type": "code",
   "execution_count": 45,
   "metadata": {},
   "outputs": [],
   "source": [
    "# features that correlate with each other or are leading\n",
    "correlated_variables = ['CO2_EMISS_CURR_PER_FLOOR_AREA','CO2_EMISSIONS_CURRENT','ENERGY_CONSUMPTION_CURRENT',\n",
    "                     'HEATING_COST_CURRENT','HOT_WATER_COST_CURRENT','HOT_WATER_ENERGY_EFF','HOT_WATER_ENV_EFF',\n",
    "                     'LIGHTING_COST_CURRENT','LIGHTING_ENERGY_EFF','LIGHTING_ENV_EFF','LMK_KEY','LOW_ENERGY_LIGHTING',\n",
    "                     'MAIN_FUEL','MAINHEAT_ENERGY_EFF','MAINHEAT_ENV_EFF','MAINHEATC_ENERGY_EFF','MAINHEATC_ENV_EFF',\n",
    "                     'MAINHEATCONT_DESCRIPTION','MECHANICAL_VENTILATION','MULTI_GLAZE_PROPORTION','NUMBER_HEATED_ROOMS',\n",
    "                     'POSTCODE','ROOF_ENERGY_EFF','ROOF_ENV_EFF','SECONDHEAT_DESCRIPTION','WALLS_ENERGY_EFF',\n",
    "                     'WALLS_ENV_EFF','WINDOWS_ENERGY_EFF','WINDOWS_ENV_EFF']\n",
    "\n",
    "# features replace with binned features\n",
    "replace_features = ['CURRENT_ENERGY_RATING','PROPERTY_TYPE','BUILT_FORM','INSPECTION_DATE','TRANSACTION_TYPE',\n",
    "                   'ENERGY_TARIFF','FLOOR_LEVEL','GLAZED_TYPE','EXTENSION_COUNT','NUMBER_HABITABLE_ROOMS',\n",
    "                    'NUMBER_OPEN_FIREPLACES','HOTWATER_DESCRIPTION','FLOOR_DESCRIPTION','MAIN_HEATING_CONTROLS',\n",
    "                    'WINDOWS_DESCRIPTION','WALLS_DESCRIPTION','ROOF_DESCRIPTION','LIGHTING_DESCRIPTION',\n",
    "                    'FLOOR_HEIGHT']\n",
    "\n",
    "# other fields not needed\n",
    "fields_to_drop = ['region','floors_average_thermal_transmittance','low_energy_lighting_perc',\n",
    "                  'roof_average_thermal_transmittance','walls_average_thermal_transmittance',\n",
    "                  'COUNTY','BUILDING_REFERENCE_NUMBER','MAINS_GAS_FLAG','HEAT_LOSS_CORRIDOR','inspection_year'] "
   ]
  },
  {
   "cell_type": "code",
   "execution_count": 46,
   "metadata": {},
   "outputs": [],
   "source": [
    "epc_train.drop(correlated_variables,axis = 1,inplace=True)\n",
    "epc_train.drop(replace_features,axis = 1,inplace=True)\n",
    "epc_train.drop(fields_to_drop,axis = 1,inplace=True)\n",
    "epc_test.drop(correlated_variables,axis = 1,inplace=True)\n",
    "epc_test.drop(replace_features,axis = 1,inplace=True)\n",
    "epc_test.drop(fields_to_drop,axis = 1,inplace=True)"
   ]
  },
  {
   "cell_type": "code",
   "execution_count": 49,
   "metadata": {},
   "outputs": [
    {
     "name": "stdout",
     "output_type": "stream",
     "text": [
      "<class 'pandas.core.frame.DataFrame'>\n",
      "RangeIndex: 3867189 entries, 0 to 3867188\n",
      "Data columns (total 25 columns):\n",
      " #   Column                     Dtype   \n",
      "---  ------                     -----   \n",
      " 0   BUILDING_REFERENCE_NUMBER  int64   \n",
      " 1   CURRENT_ENERGY_EFFICIENCY  int64   \n",
      " 2   COUNTY                     object  \n",
      " 3   TOTAL_FLOOR_AREA           float64 \n",
      " 4   MAINS_GAS_FLAG             object  \n",
      " 5   HEAT_LOSS_CORRIDOR         object  \n",
      " 6   inspection_year            int64   \n",
      " 7   built_form                 object  \n",
      " 8   energy_tariff              object  \n",
      " 9   floor_description          object  \n",
      " 10  floor_level                object  \n",
      " 11  glazed_type                object  \n",
      " 12  hotwater_description       object  \n",
      " 13  lighting_description       object  \n",
      " 14  mainheat_controls          object  \n",
      " 15  property_type              object  \n",
      " 16  roof_description           object  \n",
      " 17  transaction_type           object  \n",
      " 18  walls_description          object  \n",
      " 19  window_description         object  \n",
      " 20  locality                   object  \n",
      " 21  extension                  category\n",
      " 22  floor_height               category\n",
      " 23  habitable_rooms            category\n",
      " 24  open_fireplaces            category\n",
      "dtypes: category(4), float64(1), int64(3), object(17)\n",
      "memory usage: 634.3+ MB\n"
     ]
    }
   ],
   "source": [
    "epc_train.info()"
   ]
  },
  {
   "cell_type": "code",
   "execution_count": 50,
   "metadata": {},
   "outputs": [
    {
     "name": "stdout",
     "output_type": "stream",
     "text": [
      "<class 'pandas.core.frame.DataFrame'>\n",
      "RangeIndex: 966798 entries, 0 to 966797\n",
      "Data columns (total 24 columns):\n",
      " #   Column                     Non-Null Count   Dtype   \n",
      "---  ------                     --------------   -----   \n",
      " 0   BUILDING_REFERENCE_NUMBER  966798 non-null  int64   \n",
      " 1   CURRENT_ENERGY_EFFICIENCY  966798 non-null  int64   \n",
      " 2   COUNTY                     965582 non-null  object  \n",
      " 3   TOTAL_FLOOR_AREA           966798 non-null  float64 \n",
      " 4   MAINS_GAS_FLAG             846309 non-null  object  \n",
      " 5   HEAT_LOSS_CORRIDOR         200487 non-null  object  \n",
      " 6   built_form                 948263 non-null  object  \n",
      " 7   energy_tariff              878570 non-null  object  \n",
      " 8   floor_description          965374 non-null  object  \n",
      " 9   floor_level                237450 non-null  object  \n",
      " 10  glazed_type                799450 non-null  object  \n",
      " 11  hotwater_description       966798 non-null  object  \n",
      " 12  lighting_description       965405 non-null  object  \n",
      " 13  mainheat_controls          245802 non-null  object  \n",
      " 14  property_type              966798 non-null  object  \n",
      " 15  roof_description           966798 non-null  object  \n",
      " 16  transaction_type           966035 non-null  object  \n",
      " 17  walls_description          966798 non-null  object  \n",
      " 18  window_description         965053 non-null  object  \n",
      " 19  locality                   966798 non-null  object  \n",
      " 20  extension                  843627 non-null  category\n",
      " 21  floor_height               486290 non-null  category\n",
      " 22  habitable_rooms            847328 non-null  category\n",
      " 23  open_fireplaces            942728 non-null  category\n",
      "dtypes: category(4), float64(1), int64(2), object(17)\n",
      "memory usage: 151.2+ MB\n"
     ]
    }
   ],
   "source": [
    "epc_test.info()"
   ]
  },
  {
   "cell_type": "markdown",
   "metadata": {},
   "source": [
    "## Exporting data"
   ]
  },
  {
   "cell_type": "code",
   "execution_count": 98,
   "metadata": {},
   "outputs": [],
   "source": [
    "epc_train.to_csv(os.path.join(processing_path,epc_train_data_fname) + epc_fname_suffix,index = False)\n",
    "epc_test.to_csv(os.path.join(processing_path,epc_test_data_fname) + epc_fname_suffix,index = False)"
   ]
  },
  {
   "cell_type": "code",
   "execution_count": null,
   "metadata": {},
   "outputs": [],
   "source": []
  }
 ],
 "metadata": {
  "kernelspec": {
   "display_name": "Python 3.10.11 64-bit (microsoft store)",
   "language": "python",
   "name": "python3"
  },
  "language_info": {
   "codemirror_mode": {
    "name": "ipython",
    "version": 3
   },
   "file_extension": ".py",
   "mimetype": "text/x-python",
   "name": "python",
   "nbconvert_exporter": "python",
   "pygments_lexer": "ipython3",
   "version": "3.10.11"
  },
  "vscode": {
   "interpreter": {
    "hash": "4611fb5de370d76cdfecf8b4948761656f2cfc947cae41ccde099ed5a040e5c5"
   }
  }
 },
 "nbformat": 4,
 "nbformat_minor": 2
}
