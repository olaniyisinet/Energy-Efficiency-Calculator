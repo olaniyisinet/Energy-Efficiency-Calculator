{
 "cells": [
  {
   "cell_type": "markdown",
   "metadata": {},
   "source": [
    "# Sampling data"
   ]
  },
  {
   "cell_type": "markdown",
   "metadata": {},
   "source": [
    "The script creates a dataset of EPC certificates for England, applies some initial cleaning steps and splits the data into a train and test set"
   ]
  },
  {
   "cell_type": "code",
   "execution_count": 1,
   "metadata": {},
   "outputs": [],
   "source": [
    "import numpy as np\n",
    "import pandas as pd\n",
    "import os\n",
    "import json\n",
    "from sklearn.model_selection import train_test_split\n",
    "import matplotlib.pyplot as plt\n",
    "from sklearn.utils import shuffle"
   ]
  },
  {
   "cell_type": "code",
   "execution_count": 2,
   "metadata": {},
   "outputs": [],
   "source": [
    "# set variables from config file\n",
    "config_path = os.path.abspath('..')\n",
    "\n",
    "with open(config_path + '/config-example.json', 'r') as f:\n",
    "    config = json.load(f)\n",
    "\n",
    "epc_output_fname = config['DEFAULT']['epc_output_fname']\n",
    "processing_path = config['DEFAULT']['processing_path']\n",
    "epc_england_fname = config['DEFAULT']['epc_england_fname']\n",
    "epc_fname_suffix = config['DEFAULT']['epc_fname_suffix']\n",
    "epc_train_fname = config['DEFAULT']['epc_train_fname']\n",
    "epc_test_fname = config['DEFAULT']['epc_test_fname']"
   ]
  },
  {
   "cell_type": "code",
   "execution_count": 3,
   "metadata": {},
   "outputs": [
    {
     "name": "stderr",
     "output_type": "stream",
     "text": [
      "C:\\Users\\KingRemy\\AppData\\Local\\Temp\\ipykernel_19344\\3239976203.py:6: DtypeWarning: Columns (15,37) have mixed types. Specify dtype option on import or set low_memory=False.\n",
      "  epc_england_District_Councils = pd.read_csv(os.path.join(processing_path,epc_output_fname) + epc_fname_suffix,header = 0,\n"
     ]
    }
   ],
   "source": [
    "#Specify the import dictionary for the dates\n",
    "dtype_dict = {'INSPECTION_DATE':'str','LODGEMENT_DATE':'str','ADDRESS1':'str','ADDRESS2':'str','LOCAL_AUTHORITY':'str','CONSTITUENCY':'str',\n",
    "                'MAINS_GAS_FLAG':'str','FLAT_STOREY_COUNT':'str','FLOOR_ENERGY_EFF':'str','ADDRESS':'str','UPRN_SOURCE':'str'}\n",
    "\n",
    "#TODO consider specifying dtype for columns 2, 3, 14, 15, 34, 37, 51, 82, 92\n",
    "epc_england_District_Councils = pd.read_csv(os.path.join(processing_path,epc_output_fname) + epc_fname_suffix,header = 0, \n",
    "                       delimiter = ',', dtype = dtype_dict,parse_dates = ['INSPECTION_DATE','LODGEMENT_DATE'])"
   ]
  },
  {
   "cell_type": "code",
   "execution_count": 5,
   "metadata": {},
   "outputs": [
    {
     "data": {
      "text/html": [
       "<div>\n",
       "<style scoped>\n",
       "    .dataframe tbody tr th:only-of-type {\n",
       "        vertical-align: middle;\n",
       "    }\n",
       "\n",
       "    .dataframe tbody tr th {\n",
       "        vertical-align: top;\n",
       "    }\n",
       "\n",
       "    .dataframe thead th {\n",
       "        text-align: right;\n",
       "    }\n",
       "</style>\n",
       "<table border=\"1\" class=\"dataframe\">\n",
       "  <thead>\n",
       "    <tr style=\"text-align: right;\">\n",
       "      <th></th>\n",
       "      <th>LMK_KEY</th>\n",
       "      <th>ADDRESS1</th>\n",
       "      <th>ADDRESS2</th>\n",
       "      <th>ADDRESS3</th>\n",
       "      <th>POSTCODE</th>\n",
       "      <th>BUILDING_REFERENCE_NUMBER</th>\n",
       "      <th>CURRENT_ENERGY_RATING</th>\n",
       "      <th>POTENTIAL_ENERGY_RATING</th>\n",
       "      <th>CURRENT_ENERGY_EFFICIENCY</th>\n",
       "      <th>POTENTIAL_ENERGY_EFFICIENCY</th>\n",
       "      <th>...</th>\n",
       "      <th>CONSTITUENCY_LABEL</th>\n",
       "      <th>POSTTOWN</th>\n",
       "      <th>CONSTRUCTION_AGE_BAND</th>\n",
       "      <th>LODGEMENT_DATETIME</th>\n",
       "      <th>TENURE</th>\n",
       "      <th>FIXED_LIGHTING_OUTLETS_COUNT</th>\n",
       "      <th>LOW_ENERGY_FIXED_LIGHT_COUNT</th>\n",
       "      <th>UPRN</th>\n",
       "      <th>UPRN_SOURCE</th>\n",
       "      <th>region</th>\n",
       "    </tr>\n",
       "  </thead>\n",
       "  <tbody>\n",
       "    <tr>\n",
       "      <th>0</th>\n",
       "      <td>0001d5de25f8680899ef56d2df1c82efacc81f9e520452...</td>\n",
       "      <td>14 Weald Dyke</td>\n",
       "      <td>NaN</td>\n",
       "      <td>NaN</td>\n",
       "      <td>BN43 5LP</td>\n",
       "      <td>10003066909</td>\n",
       "      <td>C</td>\n",
       "      <td>B</td>\n",
       "      <td>70</td>\n",
       "      <td>83</td>\n",
       "      <td>...</td>\n",
       "      <td>East Worthing and Shoreham</td>\n",
       "      <td>SHOREHAM-BY-SEA</td>\n",
       "      <td>England and Wales: 1967-1975</td>\n",
       "      <td>2022-08-11 14:38:29</td>\n",
       "      <td>Rented (private)</td>\n",
       "      <td>11.0</td>\n",
       "      <td>NaN</td>\n",
       "      <td>60018024.0</td>\n",
       "      <td>Energy Assessor</td>\n",
       "      <td>Adur</td>\n",
       "    </tr>\n",
       "    <tr>\n",
       "      <th>1</th>\n",
       "      <td>000c4330f49ae122e2de7e95b14a06c6e027677b7b86a6...</td>\n",
       "      <td>39, West Way</td>\n",
       "      <td>NaN</td>\n",
       "      <td>NaN</td>\n",
       "      <td>BN15 8LX</td>\n",
       "      <td>10000300382</td>\n",
       "      <td>D</td>\n",
       "      <td>B</td>\n",
       "      <td>60</td>\n",
       "      <td>85</td>\n",
       "      <td>...</td>\n",
       "      <td>East Worthing and Shoreham</td>\n",
       "      <td>Lancing</td>\n",
       "      <td>England and Wales: 1930-1949</td>\n",
       "      <td>2020-10-14</td>\n",
       "      <td>Owner-occupied</td>\n",
       "      <td>13.0</td>\n",
       "      <td>11.0</td>\n",
       "      <td>60008661.0</td>\n",
       "      <td>Address Matched</td>\n",
       "      <td>Adur</td>\n",
       "    </tr>\n",
       "    <tr>\n",
       "      <th>2</th>\n",
       "      <td>001e1d17b63f673332aaffc50ce55ba62aed15cb330424...</td>\n",
       "      <td>7 Greenoaks</td>\n",
       "      <td>NaN</td>\n",
       "      <td>NaN</td>\n",
       "      <td>BN15 0HN</td>\n",
       "      <td>10002369523</td>\n",
       "      <td>D</td>\n",
       "      <td>B</td>\n",
       "      <td>62</td>\n",
       "      <td>85</td>\n",
       "      <td>...</td>\n",
       "      <td>East Worthing and Shoreham</td>\n",
       "      <td>LANCING</td>\n",
       "      <td>England and Wales: 1950-1966</td>\n",
       "      <td>2022-03-04 14:52:39</td>\n",
       "      <td>Owner-occupied</td>\n",
       "      <td>7.0</td>\n",
       "      <td>NaN</td>\n",
       "      <td>60003678.0</td>\n",
       "      <td>Energy Assessor</td>\n",
       "      <td>Adur</td>\n",
       "    </tr>\n",
       "    <tr>\n",
       "      <th>3</th>\n",
       "      <td>0060a9df827bca90eb83a3aff2f75ac7c49d5cbec80d18...</td>\n",
       "      <td>17 SOUTHVIEW ROAD</td>\n",
       "      <td>SOUTHWICK</td>\n",
       "      <td>NaN</td>\n",
       "      <td>BN42 4TW</td>\n",
       "      <td>10000963203</td>\n",
       "      <td>D</td>\n",
       "      <td>C</td>\n",
       "      <td>64</td>\n",
       "      <td>78</td>\n",
       "      <td>...</td>\n",
       "      <td>East Worthing and Shoreham</td>\n",
       "      <td>SOUTHWICK</td>\n",
       "      <td>England and Wales: 1900-1929</td>\n",
       "      <td>2021-05-04 10:16:24</td>\n",
       "      <td>Owner-occupied</td>\n",
       "      <td>5.0</td>\n",
       "      <td>NaN</td>\n",
       "      <td>60026065.0</td>\n",
       "      <td>Energy Assessor</td>\n",
       "      <td>Adur</td>\n",
       "    </tr>\n",
       "    <tr>\n",
       "      <th>4</th>\n",
       "      <td>00721a91565fc9da864541e2a26d0c5809c9fcd1cd9421...</td>\n",
       "      <td>28 Riverside Road</td>\n",
       "      <td>NaN</td>\n",
       "      <td>NaN</td>\n",
       "      <td>BN43 5RB</td>\n",
       "      <td>10003214358</td>\n",
       "      <td>E</td>\n",
       "      <td>C</td>\n",
       "      <td>52</td>\n",
       "      <td>78</td>\n",
       "      <td>...</td>\n",
       "      <td>East Worthing and Shoreham</td>\n",
       "      <td>SHOREHAM-BY-SEA</td>\n",
       "      <td>England and Wales: 1950-1966</td>\n",
       "      <td>2022-08-01 12:21:38</td>\n",
       "      <td>Owner-occupied</td>\n",
       "      <td>11.0</td>\n",
       "      <td>NaN</td>\n",
       "      <td>60015728.0</td>\n",
       "      <td>Energy Assessor</td>\n",
       "      <td>Adur</td>\n",
       "    </tr>\n",
       "  </tbody>\n",
       "</table>\n",
       "<p>5 rows × 93 columns</p>\n",
       "</div>"
      ],
      "text/plain": [
       "                                             LMK_KEY           ADDRESS1  \\\n",
       "0  0001d5de25f8680899ef56d2df1c82efacc81f9e520452...      14 Weald Dyke   \n",
       "1  000c4330f49ae122e2de7e95b14a06c6e027677b7b86a6...       39, West Way   \n",
       "2  001e1d17b63f673332aaffc50ce55ba62aed15cb330424...        7 Greenoaks   \n",
       "3  0060a9df827bca90eb83a3aff2f75ac7c49d5cbec80d18...  17 SOUTHVIEW ROAD   \n",
       "4  00721a91565fc9da864541e2a26d0c5809c9fcd1cd9421...  28 Riverside Road   \n",
       "\n",
       "    ADDRESS2 ADDRESS3  POSTCODE  BUILDING_REFERENCE_NUMBER  \\\n",
       "0        NaN      NaN  BN43 5LP                10003066909   \n",
       "1        NaN      NaN  BN15 8LX                10000300382   \n",
       "2        NaN      NaN  BN15 0HN                10002369523   \n",
       "3  SOUTHWICK      NaN  BN42 4TW                10000963203   \n",
       "4        NaN      NaN  BN43 5RB                10003214358   \n",
       "\n",
       "  CURRENT_ENERGY_RATING POTENTIAL_ENERGY_RATING  CURRENT_ENERGY_EFFICIENCY  \\\n",
       "0                     C                       B                         70   \n",
       "1                     D                       B                         60   \n",
       "2                     D                       B                         62   \n",
       "3                     D                       C                         64   \n",
       "4                     E                       C                         52   \n",
       "\n",
       "   POTENTIAL_ENERGY_EFFICIENCY  ...          CONSTITUENCY_LABEL  \\\n",
       "0                           83  ...  East Worthing and Shoreham   \n",
       "1                           85  ...  East Worthing and Shoreham   \n",
       "2                           85  ...  East Worthing and Shoreham   \n",
       "3                           78  ...  East Worthing and Shoreham   \n",
       "4                           78  ...  East Worthing and Shoreham   \n",
       "\n",
       "          POSTTOWN         CONSTRUCTION_AGE_BAND   LODGEMENT_DATETIME  \\\n",
       "0  SHOREHAM-BY-SEA  England and Wales: 1967-1975  2022-08-11 14:38:29   \n",
       "1          Lancing  England and Wales: 1930-1949           2020-10-14   \n",
       "2          LANCING  England and Wales: 1950-1966  2022-03-04 14:52:39   \n",
       "3        SOUTHWICK  England and Wales: 1900-1929  2021-05-04 10:16:24   \n",
       "4  SHOREHAM-BY-SEA  England and Wales: 1950-1966  2022-08-01 12:21:38   \n",
       "\n",
       "             TENURE FIXED_LIGHTING_OUTLETS_COUNT LOW_ENERGY_FIXED_LIGHT_COUNT  \\\n",
       "0  Rented (private)                         11.0                          NaN   \n",
       "1    Owner-occupied                         13.0                         11.0   \n",
       "2    Owner-occupied                          7.0                          NaN   \n",
       "3    Owner-occupied                          5.0                          NaN   \n",
       "4    Owner-occupied                         11.0                          NaN   \n",
       "\n",
       "         UPRN      UPRN_SOURCE  region  \n",
       "0  60018024.0  Energy Assessor    Adur  \n",
       "1  60008661.0  Address Matched    Adur  \n",
       "2  60003678.0  Energy Assessor    Adur  \n",
       "3  60026065.0  Energy Assessor    Adur  \n",
       "4  60015728.0  Energy Assessor    Adur  \n",
       "\n",
       "[5 rows x 93 columns]"
      ]
     },
     "execution_count": 5,
     "metadata": {},
     "output_type": "execute_result"
    }
   ],
   "source": [
    "epc_england_District_Councils.head()"
   ]
  },
  {
   "cell_type": "code",
   "execution_count": 15,
   "metadata": {},
   "outputs": [
    {
     "name": "stdout",
     "output_type": "stream",
     "text": [
      "<class 'pandas.core.frame.DataFrame'>\n",
      "RangeIndex: 8377590 entries, 0 to 8377589\n",
      "Data columns (total 93 columns):\n",
      " #   Column                         Dtype         \n",
      "---  ------                         -----         \n",
      " 0   LMK_KEY                        object        \n",
      " 1   ADDRESS1                       object        \n",
      " 2   ADDRESS2                       object        \n",
      " 3   ADDRESS3                       object        \n",
      " 4   POSTCODE                       object        \n",
      " 5   BUILDING_REFERENCE_NUMBER      int64         \n",
      " 6   CURRENT_ENERGY_RATING          object        \n",
      " 7   POTENTIAL_ENERGY_RATING        object        \n",
      " 8   CURRENT_ENERGY_EFFICIENCY      int64         \n",
      " 9   POTENTIAL_ENERGY_EFFICIENCY    int64         \n",
      " 10  PROPERTY_TYPE                  object        \n",
      " 11  BUILT_FORM                     object        \n",
      " 12  INSPECTION_DATE                datetime64[ns]\n",
      " 13  LOCAL_AUTHORITY                object        \n",
      " 14  CONSTITUENCY                   object        \n",
      " 15  COUNTY                         object        \n",
      " 16  LODGEMENT_DATE                 datetime64[ns]\n",
      " 17  TRANSACTION_TYPE               object        \n",
      " 18  ENVIRONMENT_IMPACT_CURRENT     int64         \n",
      " 19  ENVIRONMENT_IMPACT_POTENTIAL   int64         \n",
      " 20  ENERGY_CONSUMPTION_CURRENT     int64         \n",
      " 21  ENERGY_CONSUMPTION_POTENTIAL   float64       \n",
      " 22  CO2_EMISSIONS_CURRENT          float64       \n",
      " 23  CO2_EMISS_CURR_PER_FLOOR_AREA  float64       \n",
      " 24  CO2_EMISSIONS_POTENTIAL        float64       \n",
      " 25  LIGHTING_COST_CURRENT          float64       \n",
      " 26  LIGHTING_COST_POTENTIAL        float64       \n",
      " 27  HEATING_COST_CURRENT           float64       \n",
      " 28  HEATING_COST_POTENTIAL         float64       \n",
      " 29  HOT_WATER_COST_CURRENT         float64       \n",
      " 30  HOT_WATER_COST_POTENTIAL       float64       \n",
      " 31  TOTAL_FLOOR_AREA               float64       \n",
      " 32  ENERGY_TARIFF                  object        \n",
      " 33  MAINS_GAS_FLAG                 object        \n",
      " 34  FLOOR_LEVEL                    object        \n",
      " 35  FLAT_TOP_STOREY                object        \n",
      " 36  FLAT_STOREY_COUNT              object        \n",
      " 37  MAIN_HEATING_CONTROLS          object        \n",
      " 38  MULTI_GLAZE_PROPORTION         float64       \n",
      " 39  GLAZED_TYPE                    object        \n",
      " 40  GLAZED_AREA                    object        \n",
      " 41  EXTENSION_COUNT                float64       \n",
      " 42  NUMBER_HABITABLE_ROOMS         float64       \n",
      " 43  NUMBER_HEATED_ROOMS            float64       \n",
      " 44  LOW_ENERGY_LIGHTING            float64       \n",
      " 45  NUMBER_OPEN_FIREPLACES         float64       \n",
      " 46  HOTWATER_DESCRIPTION           object        \n",
      " 47  HOT_WATER_ENERGY_EFF           object        \n",
      " 48  HOT_WATER_ENV_EFF              object        \n",
      " 49  FLOOR_DESCRIPTION              object        \n",
      " 50  FLOOR_ENERGY_EFF               object        \n",
      " 51  FLOOR_ENV_EFF                  object        \n",
      " 52  WINDOWS_DESCRIPTION            object        \n",
      " 53  WINDOWS_ENERGY_EFF             object        \n",
      " 54  WINDOWS_ENV_EFF                object        \n",
      " 55  WALLS_DESCRIPTION              object        \n",
      " 56  WALLS_ENERGY_EFF               object        \n",
      " 57  WALLS_ENV_EFF                  object        \n",
      " 58  SECONDHEAT_DESCRIPTION         object        \n",
      " 59  SHEATING_ENERGY_EFF            float64       \n",
      " 60  SHEATING_ENV_EFF               float64       \n",
      " 61  ROOF_DESCRIPTION               object        \n",
      " 62  ROOF_ENERGY_EFF                object        \n",
      " 63  ROOF_ENV_EFF                   object        \n",
      " 64  MAINHEAT_DESCRIPTION           object        \n",
      " 65  MAINHEAT_ENERGY_EFF            object        \n",
      " 66  MAINHEAT_ENV_EFF               object        \n",
      " 67  MAINHEATCONT_DESCRIPTION       object        \n",
      " 68  MAINHEATC_ENERGY_EFF           object        \n",
      " 69  MAINHEATC_ENV_EFF              object        \n",
      " 70  LIGHTING_DESCRIPTION           object        \n",
      " 71  LIGHTING_ENERGY_EFF            object        \n",
      " 72  LIGHTING_ENV_EFF               object        \n",
      " 73  MAIN_FUEL                      object        \n",
      " 74  WIND_TURBINE_COUNT             float64       \n",
      " 75  HEAT_LOSS_CORRIDOR             object        \n",
      " 76  UNHEATED_CORRIDOR_LENGTH       float64       \n",
      " 77  FLOOR_HEIGHT                   float64       \n",
      " 78  PHOTO_SUPPLY                   float64       \n",
      " 79  SOLAR_WATER_HEATING_FLAG       object        \n",
      " 80  MECHANICAL_VENTILATION         object        \n",
      " 81  ADDRESS                        object        \n",
      " 82  LOCAL_AUTHORITY_LABEL          object        \n",
      " 83  CONSTITUENCY_LABEL             object        \n",
      " 84  POSTTOWN                       object        \n",
      " 85  CONSTRUCTION_AGE_BAND          object        \n",
      " 86  LODGEMENT_DATETIME             object        \n",
      " 87  TENURE                         object        \n",
      " 88  FIXED_LIGHTING_OUTLETS_COUNT   float64       \n",
      " 89  LOW_ENERGY_FIXED_LIGHT_COUNT   float64       \n",
      " 90  UPRN                           float64       \n",
      " 91  UPRN_SOURCE                    object        \n",
      " 92  region                         object        \n",
      "dtypes: datetime64[ns](2), float64(26), int64(6), object(59)\n",
      "memory usage: 5.8+ GB\n"
     ]
    }
   ],
   "source": [
    "epc_england_District_Councils.info()"
   ]
  },
  {
   "cell_type": "code",
   "execution_count": 16,
   "metadata": {},
   "outputs": [],
   "source": [
    "var_list = ['LMK_KEY','region','POSTCODE','BUILDING_REFERENCE_NUMBER','CURRENT_ENERGY_RATING',\n",
    "            'CURRENT_ENERGY_EFFICIENCY','PROPERTY_TYPE','BUILT_FORM','INSPECTION_DATE','LODGEMENT_DATE',\n",
    "            'COUNTY','TRANSACTION_TYPE',\n",
    "            'ENERGY_CONSUMPTION_CURRENT','CO2_EMISSIONS_CURRENT','CO2_EMISS_CURR_PER_FLOOR_AREA',\n",
    "            'LIGHTING_COST_CURRENT','HEATING_COST_CURRENT','HOT_WATER_COST_CURRENT','TOTAL_FLOOR_AREA',\n",
    "            'ENERGY_TARIFF','MAINS_GAS_FLAG','FLOOR_LEVEL','FLAT_TOP_STOREY','FLAT_STOREY_COUNT',\n",
    "            'MAIN_HEATING_CONTROLS','MULTI_GLAZE_PROPORTION','GLAZED_TYPE','EXTENSION_COUNT','NUMBER_HABITABLE_ROOMS',\n",
    "            'NUMBER_HEATED_ROOMS','LOW_ENERGY_LIGHTING','NUMBER_OPEN_FIREPLACES','HOTWATER_DESCRIPTION',\n",
    "            'HOT_WATER_ENERGY_EFF','HOT_WATER_ENV_EFF','FLOOR_DESCRIPTION','FLOOR_ENERGY_EFF','FLOOR_ENV_EFF',\n",
    "            'WINDOWS_DESCRIPTION','WINDOWS_ENERGY_EFF','WINDOWS_ENV_EFF','WALLS_DESCRIPTION','WALLS_ENERGY_EFF',\n",
    "            'WALLS_ENV_EFF','SECONDHEAT_DESCRIPTION','SHEATING_ENERGY_EFF','SHEATING_ENV_EFF','ROOF_DESCRIPTION',\n",
    "            'ROOF_ENERGY_EFF','ROOF_ENV_EFF','MAINHEAT_ENERGY_EFF','MAINHEAT_ENV_EFF','MAINHEATCONT_DESCRIPTION',\n",
    "            'MAINHEATC_ENERGY_EFF','MAINHEATC_ENV_EFF','LIGHTING_DESCRIPTION','LIGHTING_ENERGY_EFF','LIGHTING_ENV_EFF',\n",
    "            'MAIN_FUEL','HEAT_LOSS_CORRIDOR','UNHEATED_CORRIDOR_LENGTH','FLOOR_HEIGHT','SOLAR_WATER_HEATING_FLAG',\n",
    "            'MECHANICAL_VENTILATION']\n",
    "\n",
    "region_list = ['Adur', 'Allerdale', 'Amber-Valley', 'Arun', 'Ashfield', 'Ashford', 'Babergh', 'Barrow-in-Furness', 'Basildon', 'Basingstoke-&-Deane', \n",
    "                'Bassetlaw', 'Blaby', 'Bolsover', 'Boston', 'Braintree', 'Breckland', 'Brentwood', 'Broadland', 'Bromsgrove', 'Broxbourne', \n",
    "                'Broxtowe', 'Burnley', 'Cambridge', 'Cannock-Chase', 'Canterbury', 'Carlisle', 'Castle-Point', 'Charnwood', 'Chelmsford', 'Cheltenham', \n",
    "                'Cherwell', 'Chesterfield', 'Chichester', 'Chorley', 'Colchester', 'Harborough', 'Harlow', 'Harrogate', 'Hart', 'Hastings', 'Havant', \n",
    "                'Hertsmere', 'High-Peak', 'Hinckley-and-Bosworth', 'Horsham', 'Huntingdonshire', 'Hyndburn', 'lpswich', 'Kings-Lynn-&-West-Norfolk', \n",
    "                'Lancaster', 'Lewes', 'Lichfield', 'Lincoln', 'Maidstone', 'Maldon', 'Malvern-Hills', 'Mansfield', 'Melton', 'Mendip', 'Mid-Devon', \n",
    "                'Mid-Suffolk', 'Mid-Sussex', 'Mole-Valley', 'North-Devon', 'North-East-Derbyshire', 'North-Hertfordshire', 'North-Kesteven', 'North-Norfolk', \n",
    "                'North-West-Leicestershire', 'South-Somerset', 'South-Staffordshire', 'Scarborough', 'Sedgemoor', 'Selby', 'Sevenoaks', 'Spelthorne', \n",
    "                'St-Albans', 'Stafford', 'Staffordshire-Moorlands', 'Stevenage', 'Stratford-on-Avon', 'Stroud', 'Surrey-Heath', 'Swale', 'Tamworth', 'Tandridge', \n",
    "                'Teignbridge', 'Tendring', 'Test-Valley', 'Tewkesbury', 'Thanet', 'Three-Rivers', 'Tonbridge-&-Malling', 'Torridge', 'Tunbridge-Wells', \n",
    "                'Uttlesford', 'Vale-of-White-Horse', 'Warwick', 'Watford', 'Waverley', 'Wealden', 'Welwyn-Hatfield', 'West-Devon', 'West-Lancashire', \n",
    "                'West-Lindsey', 'Copeland', 'Cotswold', 'Craven', 'Crawley', 'Dacorum', 'Dartford', 'Derbyshire-Dales', 'Dover', 'East-Cambridgeshire', \n",
    "                'East-Devon', 'East-Hampshire', 'East-Hertfordshire', 'East-Lindsey', 'East-Staffordshire', 'East-Suffolk', 'Eastbourne', 'Eastleigh', 'Eden', \n",
    "                'Elmbridge', 'Epping-Forest', 'Epsom-&-Ewell', 'Erewash', 'Exeter', 'Fareham', 'Fenland', 'Folkestone-and-Hythe', 'Forest-of-Dean', 'Fylde', \n",
    "                'Gedling', 'Gloucester', 'Gosport', 'Gravesham', 'Great-Yarmouth', 'Guildford', 'Hambleton', 'North-Warwickshire', 'New-Forest', \n",
    "                'Newark-&-Sherwood', 'Newcastle-under-Lyme', 'Norwich', 'Nuneaton-&-Bedworth', 'Oadby-&-Wigston', 'Oxford', 'Pendle', 'Preston', 'Redditch', \n",
    "                'Reigate-&-Banstead', 'Ribble-Valley', 'Richmondshire', 'Rochford', 'Rossendale', 'Rother', 'Rugby', 'Runnymede', 'Rushcliffe', 'Rushmoor', \n",
    "                'Ryedale', 'Somerset-West-and-Taunton', 'South-Cambridgeshire', 'South-Derbyshire', 'South-Hams', 'South-Holland', 'South-Kesteven', \n",
    "                'South-Lakeland', 'South-Norfolk', 'South-Oxfordshire', 'South-Ribble', 'West-Oxfordshire', 'West-Suffolk', '\\\\Nnchester', 'Woking', 'Worcester', \n",
    "                'Worthing', 'Wychavon', 'Wyre', 'Wyre-Forest']\n",
    "\n",
    "epc_england = epc_england_District_Councils.loc[epc_england_District_Councils['region'].isin(region_list),var_list]"
   ]
  },
  {
   "cell_type": "code",
   "execution_count": 17,
   "metadata": {},
   "outputs": [
    {
     "data": {
      "text/plain": [
       "4892591"
      ]
     },
     "execution_count": 17,
     "metadata": {},
     "output_type": "execute_result"
    }
   ],
   "source": [
    "len(epc_england)"
   ]
  },
  {
   "cell_type": "code",
   "execution_count": 18,
   "metadata": {},
   "outputs": [],
   "source": [
    "# remove records with dodgy postcodes, these originate form the unknown_certificates file\n",
    "epc_england = epc_england[epc_england['POSTCODE'] != 'XX0 0XX']"
   ]
  },
  {
   "cell_type": "code",
   "execution_count": 19,
   "metadata": {},
   "outputs": [
    {
     "data": {
      "text/plain": [
       "4892591"
      ]
     },
     "execution_count": 19,
     "metadata": {},
     "output_type": "execute_result"
    }
   ],
   "source": [
    "len(epc_england)"
   ]
  },
  {
   "cell_type": "code",
   "execution_count": 20,
   "metadata": {},
   "outputs": [
    {
     "data": {
      "text/plain": [
       "D           1846166\n",
       "C           1385204\n",
       "E            777644\n",
       "B            595069\n",
       "F            214412\n",
       "G             61998\n",
       "A             12060\n",
       "INVALID!         38\n",
       "Name: CURRENT_ENERGY_RATING, dtype: int64"
      ]
     },
     "execution_count": 20,
     "metadata": {},
     "output_type": "execute_result"
    }
   ],
   "source": [
    "# show split across bands\n",
    "epc_england['CURRENT_ENERGY_RATING'].value_counts()"
   ]
  },
  {
   "cell_type": "code",
   "execution_count": 21,
   "metadata": {},
   "outputs": [
    {
     "data": {
      "image/png": "[encoded data removed]",
      "text/plain": [
       "<Figure size 432x288 with 1 Axes>"
      ]
     },
     "metadata": {
      "needs_background": "light"
     },
     "output_type": "display_data"
    }
   ],
   "source": [
    "epc_england['CURRENT_ENERGY_EFFICIENCY'].hist(bins=50,range=(0,100))\n",
    "plt.show()"
   ]
  },
  {
   "cell_type": "code",
   "execution_count": 22,
   "metadata": {},
   "outputs": [
    {
     "data": {
      "text/plain": [
       "570"
      ]
     },
     "execution_count": 22,
     "metadata": {},
     "output_type": "execute_result"
    }
   ],
   "source": [
    "# Shouldn't be above 100 gets capped later in the process\n",
    "epc_england['CURRENT_ENERGY_EFFICIENCY'].max()"
   ]
  },
  {
   "cell_type": "code",
   "execution_count": 23,
   "metadata": {},
   "outputs": [],
   "source": [
    "# Capping for purposes of plotting distributions\n",
    "epc_capped = epc_england[epc_england.CURRENT_ENERGY_EFFICIENCY <= 100]"
   ]
  },
  {
   "cell_type": "code",
   "execution_count": 24,
   "metadata": {},
   "outputs": [
    {
     "data": {
      "image/png": "[encoded data removed]",
      "text/plain": [
       "<Figure size 1440x360 with 7 Axes>"
      ]
     },
     "metadata": {
      "needs_background": "light"
     },
     "output_type": "display_data"
    }
   ],
   "source": [
    "# plot distribution per band\n",
    "plt.figure(figsize=(20,5))\n",
    "\n",
    "epc_bands_G = epc_capped[epc_capped.CURRENT_ENERGY_RATING == 'G']\n",
    "plt.subplot(241)\n",
    "bins_G = len(epc_bands_G['CURRENT_ENERGY_EFFICIENCY'].unique())\n",
    "epc_bands_G['CURRENT_ENERGY_EFFICIENCY'].hist(bins=bins_G)\n",
    "plt.xlabel('G',fontsize=16, weight='bold')\n",
    "\n",
    "epc_bands_F = epc_capped[epc_capped.CURRENT_ENERGY_RATING == 'F']\n",
    "plt.subplot(242)\n",
    "bins_F = len(epc_bands_F['CURRENT_ENERGY_EFFICIENCY'].unique())\n",
    "epc_bands_F['CURRENT_ENERGY_EFFICIENCY'].hist(bins=bins_F)\n",
    "plt.xlabel('F',fontsize=16, weight='bold')\n",
    "\n",
    "epc_bands_E = epc_capped[epc_capped.CURRENT_ENERGY_RATING == 'E']\n",
    "plt.subplot(243)\n",
    "bins_E = len(epc_bands_E['CURRENT_ENERGY_EFFICIENCY'].unique())\n",
    "epc_bands_E['CURRENT_ENERGY_EFFICIENCY'].hist(bins=bins_E)\n",
    "plt.xlabel('E',fontsize=16, weight='bold')\n",
    "\n",
    "epc_bands_D = epc_capped[epc_capped.CURRENT_ENERGY_RATING == 'D']\n",
    "plt.subplot(244)\n",
    "bins_D = len(epc_bands_D['CURRENT_ENERGY_EFFICIENCY'].unique())\n",
    "epc_bands_D['CURRENT_ENERGY_EFFICIENCY'].hist(bins=bins_D)\n",
    "plt.xlabel('D',fontsize=16, weight='bold')\n",
    "\n",
    "epc_bands_C = epc_capped[epc_capped.CURRENT_ENERGY_RATING == 'C']\n",
    "plt.subplot(245)\n",
    "bins_C = len(epc_bands_C['CURRENT_ENERGY_EFFICIENCY'].unique())\n",
    "epc_bands_C['CURRENT_ENERGY_EFFICIENCY'].hist(bins=bins_C)\n",
    "plt.xlabel('C',fontsize=16, weight='bold')\n",
    "\n",
    "epc_bands_B = epc_capped[epc_capped.CURRENT_ENERGY_RATING == 'B']\n",
    "plt.subplot(246)\n",
    "bins_B = len(epc_bands_B['CURRENT_ENERGY_EFFICIENCY'].unique())\n",
    "epc_bands_B['CURRENT_ENERGY_EFFICIENCY'].hist(bins=bins_B)\n",
    "plt.xlabel('B',fontsize=16, weight='bold')\n",
    "\n",
    "epc_bands_A = epc_capped[epc_capped.CURRENT_ENERGY_RATING == 'A']\n",
    "plt.subplot(247)\n",
    "bins_A = len(epc_bands_A['CURRENT_ENERGY_EFFICIENCY'].unique())\n",
    "epc_bands_A['CURRENT_ENERGY_EFFICIENCY'].hist(bins=bins_A)\n",
    "plt.xlabel('A',fontsize=16, weight='bold')\n",
    "\n",
    "plt.tight_layout()"
   ]
  },
  {
   "cell_type": "markdown",
   "metadata": {},
   "source": [
    "### Imputing missing values\n",
    "\n",
    "For values which do not change often over time such as BUILT_FORM (detached, terraced etc), it's safe to use the data from previous certificates where available to fill the missing values in more recent certificates."
   ]
  },
  {
   "cell_type": "code",
   "execution_count": 25,
   "metadata": {},
   "outputs": [
    {
     "data": {
      "text/plain": [
       "4892591"
      ]
     },
     "execution_count": 25,
     "metadata": {},
     "output_type": "execute_result"
    }
   ],
   "source": [
    "len(epc_england)"
   ]
  },
  {
   "cell_type": "code",
   "execution_count": 26,
   "metadata": {},
   "outputs": [],
   "source": [
    "# It's only necessary to do this for properties with more than one certificate\n",
    "epc_england_grouped = epc_england.groupby(['BUILDING_REFERENCE_NUMBER'], as_index=False)['INSPECTION_DATE'].count()\n",
    "epc_england_grouped_2plus = epc_england_grouped[epc_england_grouped['INSPECTION_DATE'] > 1]\n",
    "epc_england_2plus = epc_england.merge(epc_england_grouped_2plus[['BUILDING_REFERENCE_NUMBER']], on = 'BUILDING_REFERENCE_NUMBER', how = 'inner')"
   ]
  },
  {
   "cell_type": "code",
   "execution_count": 27,
   "metadata": {},
   "outputs": [
    {
     "name": "stdout",
     "output_type": "stream",
     "text": [
      "BUILT_FORM\n",
      "MAINS_GAS_FLAG\n",
      "FLOOR_LEVEL\n",
      "NUMBER_HABITABLE_ROOMS\n",
      "FLOOR_DESCRIPTION\n",
      "ROOF_DESCRIPTION\n",
      "HEAT_LOSS_CORRIDOR\n",
      "WALLS_DESCRIPTION\n",
      "FLOOR_HEIGHT\n"
     ]
    }
   ],
   "source": [
    "# note this takes a while. This is to fill missing values for historical variables\n",
    "fill_columns = ['BUILT_FORM','MAINS_GAS_FLAG','FLOOR_LEVEL','NUMBER_HABITABLE_ROOMS','FLOOR_DESCRIPTION',\n",
    "                'ROOF_DESCRIPTION','HEAT_LOSS_CORRIDOR','WALLS_DESCRIPTION','FLOOR_HEIGHT']\n",
    "\n",
    "for c in fill_columns:\n",
    "    print(c)\n",
    "    epc_england_2plus[c] = epc_england_2plus.groupby(['BUILDING_REFERENCE_NUMBER'], sort=False)[c].apply(lambda x: x.ffill())"
   ]
  },
  {
   "cell_type": "code",
   "execution_count": 28,
   "metadata": {},
   "outputs": [],
   "source": [
    "epc_england_grouped_1 = epc_england_grouped[epc_england_grouped['INSPECTION_DATE'] == 1]\n",
    "epc_england_1 = epc_england.merge(epc_england_grouped_1[['BUILDING_REFERENCE_NUMBER']], on = 'BUILDING_REFERENCE_NUMBER', how = 'inner')"
   ]
  },
  {
   "cell_type": "code",
   "execution_count": 29,
   "metadata": {},
   "outputs": [],
   "source": [
    "# merging filled data for buildings with more than one certificate with data for buildings with only one certificate\n",
    "epc_filled = pd.concat([epc_england_1,epc_england_2plus])"
   ]
  },
  {
   "cell_type": "code",
   "execution_count": 30,
   "metadata": {},
   "outputs": [
    {
     "data": {
      "text/plain": [
       "4892591"
      ]
     },
     "execution_count": 30,
     "metadata": {},
     "output_type": "execute_result"
    }
   ],
   "source": [
    "# checking length of filled data\n",
    "len(epc_filled)"
   ]
  },
  {
   "cell_type": "code",
   "execution_count": 31,
   "metadata": {},
   "outputs": [
    {
     "data": {
      "image/png": "[encoded data removed]",
      "text/plain": [
       "<Figure size 1440x360 with 7 Axes>"
      ]
     },
     "metadata": {
      "needs_background": "light"
     },
     "output_type": "display_data"
    }
   ],
   "source": [
    "# plotting distribution of filled data for each band. Shouldn't have changed\n",
    "epc_capped = epc_filled[epc_filled.CURRENT_ENERGY_EFFICIENCY <= 100]\n",
    "\n",
    "# plot distribution per band\n",
    "plt.figure(figsize=(20,5))\n",
    "\n",
    "epc_bands_G = epc_capped[epc_capped.CURRENT_ENERGY_RATING == 'G']\n",
    "plt.subplot(241)\n",
    "bins_G = len(epc_bands_G['CURRENT_ENERGY_EFFICIENCY'].unique())\n",
    "epc_bands_G['CURRENT_ENERGY_EFFICIENCY'].hist(bins=bins_G)\n",
    "plt.xlabel('G',fontsize=16, weight='bold')\n",
    "\n",
    "epc_bands_F = epc_capped[epc_capped.CURRENT_ENERGY_RATING == 'F']\n",
    "plt.subplot(242)\n",
    "bins_F = len(epc_bands_F['CURRENT_ENERGY_EFFICIENCY'].unique())\n",
    "epc_bands_F['CURRENT_ENERGY_EFFICIENCY'].hist(bins=bins_F)\n",
    "plt.xlabel('F',fontsize=16, weight='bold')\n",
    "\n",
    "epc_bands_E = epc_capped[epc_capped.CURRENT_ENERGY_RATING == 'E']\n",
    "plt.subplot(243)\n",
    "bins_E = len(epc_bands_E['CURRENT_ENERGY_EFFICIENCY'].unique())\n",
    "epc_bands_E['CURRENT_ENERGY_EFFICIENCY'].hist(bins=bins_E)\n",
    "plt.xlabel('E',fontsize=16, weight='bold')\n",
    "\n",
    "epc_bands_D = epc_capped[epc_capped.CURRENT_ENERGY_RATING == 'D']\n",
    "plt.subplot(244)\n",
    "bins_D = len(epc_bands_D['CURRENT_ENERGY_EFFICIENCY'].unique())\n",
    "epc_bands_D['CURRENT_ENERGY_EFFICIENCY'].hist(bins=bins_D)\n",
    "plt.xlabel('D',fontsize=16, weight='bold')\n",
    "\n",
    "epc_bands_C = epc_capped[epc_capped.CURRENT_ENERGY_RATING == 'C']\n",
    "plt.subplot(245)\n",
    "bins_C = len(epc_bands_C['CURRENT_ENERGY_EFFICIENCY'].unique())\n",
    "epc_bands_C['CURRENT_ENERGY_EFFICIENCY'].hist(bins=bins_C)\n",
    "plt.xlabel('C',fontsize=16, weight='bold')\n",
    "\n",
    "epc_bands_B = epc_capped[epc_capped.CURRENT_ENERGY_RATING == 'B']\n",
    "plt.subplot(246)\n",
    "bins_B = len(epc_bands_B['CURRENT_ENERGY_EFFICIENCY'].unique())\n",
    "epc_bands_B['CURRENT_ENERGY_EFFICIENCY'].hist(bins=bins_B)\n",
    "plt.xlabel('B',fontsize=16, weight='bold')\n",
    "\n",
    "epc_bands_A = epc_capped[epc_capped.CURRENT_ENERGY_RATING == 'A']\n",
    "plt.subplot(247)\n",
    "bins_A = len(epc_bands_A['CURRENT_ENERGY_EFFICIENCY'].unique())\n",
    "epc_bands_A['CURRENT_ENERGY_EFFICIENCY'].hist(bins=bins_A)\n",
    "plt.xlabel('A',fontsize=16, weight='bold')\n",
    "\n",
    "plt.tight_layout()"
   ]
  },
  {
   "cell_type": "markdown",
   "metadata": {},
   "source": [
    "### Deduping by taking latest record\n",
    "\n",
    "Some properties have multiple EPC, we only want to keep one per inspection data"
   ]
  },
  {
   "cell_type": "code",
   "execution_count": 32,
   "metadata": {},
   "outputs": [
    {
     "data": {
      "text/plain": [
       "58604"
      ]
     },
     "execution_count": 32,
     "metadata": {},
     "output_type": "execute_result"
    }
   ],
   "source": [
    "len(epc_filled[epc_filled.duplicated(subset=['BUILDING_REFERENCE_NUMBER','INSPECTION_DATE'])])"
   ]
  },
  {
   "cell_type": "code",
   "execution_count": 33,
   "metadata": {},
   "outputs": [],
   "source": [
    "# First take just the latest lodegment date\n",
    "epc_filled.sort_values(by = ['BUILDING_REFERENCE_NUMBER','INSPECTION_DATE','LODGEMENT_DATE'],inplace=True)\n",
    "epc_filled.drop_duplicates(subset=(['BUILDING_REFERENCE_NUMBER','INSPECTION_DATE']),keep='last',inplace=True)"
   ]
  },
  {
   "cell_type": "code",
   "execution_count": 34,
   "metadata": {},
   "outputs": [
    {
     "data": {
      "text/plain": [
       "0"
      ]
     },
     "execution_count": 34,
     "metadata": {},
     "output_type": "execute_result"
    }
   ],
   "source": [
    "len(epc_filled[epc_filled.duplicated(subset=['BUILDING_REFERENCE_NUMBER','INSPECTION_DATE'])])"
   ]
  },
  {
   "cell_type": "markdown",
   "metadata": {},
   "source": [
    "### Split in to train and test - 80% split\n",
    "\n",
    "Splitting the train and test data before any further manipulation"
   ]
  },
  {
   "cell_type": "markdown",
   "metadata": {},
   "source": [
    "epc_filled = shuffle(epc_filled)\n",
    "epc_filled.reset_index(drop=True)\n",
    "epc_train, epc_test = train_test_split(epc_filled, test_size = 0.2, random_state = 1234)"
   ]
  },
  {
   "cell_type": "code",
   "execution_count": 35,
   "metadata": {},
   "outputs": [],
   "source": [
    "epc_filled1 = shuffle(epc_filled)\n",
    "epc_filled1.reset_index(drop=True)\n",
    "epc_train, epc_test = train_test_split(epc_filled1, test_size = 0.2, random_state = 1234)"
   ]
  },
  {
   "cell_type": "code",
   "execution_count": 36,
   "metadata": {},
   "outputs": [
    {
     "name": "stdout",
     "output_type": "stream",
     "text": [
      "D           0.377526\n",
      "C           0.283998\n",
      "E           0.158019\n",
      "B           0.122283\n",
      "F           0.043254\n",
      "G           0.012448\n",
      "A           0.002464\n",
      "INVALID!    0.000008\n",
      "Name: CURRENT_ENERGY_RATING, dtype: float64\n",
      "D           0.377526\n",
      "C           0.283998\n",
      "E           0.158019\n",
      "B           0.122283\n",
      "F           0.043254\n",
      "G           0.012448\n",
      "A           0.002464\n",
      "INVALID!    0.000008\n",
      "Name: CURRENT_ENERGY_RATING, dtype: float64\n",
      "D           0.377575\n",
      "C           0.283936\n",
      "E           0.158027\n",
      "B           0.122295\n",
      "F           0.043267\n",
      "G           0.012443\n",
      "A           0.002451\n",
      "INVALID!    0.000006\n",
      "Name: CURRENT_ENERGY_RATING, dtype: float64\n",
      "D           0.377329\n",
      "C           0.284249\n",
      "E           0.157985\n",
      "B           0.122236\n",
      "F           0.043198\n",
      "G           0.012469\n",
      "A           0.002519\n",
      "INVALID!    0.000014\n",
      "Name: CURRENT_ENERGY_RATING, dtype: float64\n",
      "count    4.833987e+06\n",
      "mean     6.391338e+01\n",
      "std      1.456515e+01\n",
      "min      0.000000e+00\n",
      "25%      5.600000e+01\n",
      "50%      6.600000e+01\n",
      "75%      7.300000e+01\n",
      "max      5.700000e+02\n",
      "Name: CURRENT_ENERGY_EFFICIENCY, dtype: float64\n",
      "count    4.833987e+06\n",
      "mean     6.391338e+01\n",
      "std      1.456515e+01\n",
      "min      0.000000e+00\n",
      "25%      5.600000e+01\n",
      "50%      6.600000e+01\n",
      "75%      7.300000e+01\n",
      "max      5.700000e+02\n",
      "Name: CURRENT_ENERGY_EFFICIENCY, dtype: float64\n",
      "count    3.867189e+06\n",
      "mean     6.391303e+01\n",
      "std      1.456409e+01\n",
      "min      0.000000e+00\n",
      "25%      5.600000e+01\n",
      "50%      6.600000e+01\n",
      "75%      7.300000e+01\n",
      "max      5.700000e+02\n",
      "Name: CURRENT_ENERGY_EFFICIENCY, dtype: float64\n",
      "count    966798.000000\n",
      "mean         63.914802\n",
      "std          14.569390\n",
      "min           0.000000\n",
      "25%          56.000000\n",
      "50%          66.000000\n",
      "75%          73.000000\n",
      "max         255.000000\n",
      "Name: CURRENT_ENERGY_EFFICIENCY, dtype: float64\n"
     ]
    }
   ],
   "source": [
    "#Check the distribution of the categorical target\n",
    "print(epc_filled['CURRENT_ENERGY_RATING'].value_counts(normalize = True))\n",
    "print(epc_filled1['CURRENT_ENERGY_RATING'].value_counts(normalize = True))\n",
    "print(epc_train['CURRENT_ENERGY_RATING'].value_counts(normalize = True))\n",
    "print(epc_test['CURRENT_ENERGY_RATING'].value_counts(normalize = True))\n",
    "\n",
    "#Check the stats of the numerc target\n",
    "print(epc_filled['CURRENT_ENERGY_EFFICIENCY'].describe())\n",
    "print(epc_filled1['CURRENT_ENERGY_EFFICIENCY'].describe())\n",
    "print(epc_train['CURRENT_ENERGY_EFFICIENCY'].describe())\n",
    "print(epc_test['CURRENT_ENERGY_EFFICIENCY'].describe())"
   ]
  },
  {
   "cell_type": "code",
   "execution_count": 37,
   "metadata": {},
   "outputs": [
    {
     "data": {
      "text/plain": [
       "3867189"
      ]
     },
     "execution_count": 37,
     "metadata": {},
     "output_type": "execute_result"
    }
   ],
   "source": [
    "len(epc_train[epc_train.isnull()])"
   ]
  },
  {
   "cell_type": "markdown",
   "metadata": {},
   "source": [
    "### Clean up"
   ]
  },
  {
   "cell_type": "code",
   "execution_count": 38,
   "metadata": {},
   "outputs": [
    {
     "data": {
      "text/html": [
       "<div>\n",
       "<style scoped>\n",
       "    .dataframe tbody tr th:only-of-type {\n",
       "        vertical-align: middle;\n",
       "    }\n",
       "\n",
       "    .dataframe tbody tr th {\n",
       "        vertical-align: top;\n",
       "    }\n",
       "\n",
       "    .dataframe thead th {\n",
       "        text-align: right;\n",
       "    }\n",
       "</style>\n",
       "<table border=\"1\" class=\"dataframe\">\n",
       "  <thead>\n",
       "    <tr style=\"text-align: right;\">\n",
       "      <th></th>\n",
       "      <th>LMK_KEY</th>\n",
       "      <th>region</th>\n",
       "      <th>POSTCODE</th>\n",
       "      <th>BUILDING_REFERENCE_NUMBER</th>\n",
       "      <th>CURRENT_ENERGY_RATING</th>\n",
       "      <th>CURRENT_ENERGY_EFFICIENCY</th>\n",
       "      <th>PROPERTY_TYPE</th>\n",
       "      <th>BUILT_FORM</th>\n",
       "      <th>INSPECTION_DATE</th>\n",
       "      <th>LODGEMENT_DATE</th>\n",
       "      <th>...</th>\n",
       "      <th>MAINHEATC_ENV_EFF</th>\n",
       "      <th>LIGHTING_DESCRIPTION</th>\n",
       "      <th>LIGHTING_ENERGY_EFF</th>\n",
       "      <th>LIGHTING_ENV_EFF</th>\n",
       "      <th>MAIN_FUEL</th>\n",
       "      <th>HEAT_LOSS_CORRIDOR</th>\n",
       "      <th>UNHEATED_CORRIDOR_LENGTH</th>\n",
       "      <th>FLOOR_HEIGHT</th>\n",
       "      <th>SOLAR_WATER_HEATING_FLAG</th>\n",
       "      <th>MECHANICAL_VENTILATION</th>\n",
       "    </tr>\n",
       "  </thead>\n",
       "  <tbody>\n",
       "    <tr>\n",
       "      <th>0</th>\n",
       "      <td>474209002014072615194700042152</td>\n",
       "      <td>Exeter</td>\n",
       "      <td>EX2 9EJ</td>\n",
       "      <td>2</td>\n",
       "      <td>D</td>\n",
       "      <td>61</td>\n",
       "      <td>House</td>\n",
       "      <td>Mid-Terrace</td>\n",
       "      <td>2014-07-25</td>\n",
       "      <td>2014-07-26</td>\n",
       "      <td>...</td>\n",
       "      <td>Good</td>\n",
       "      <td>Low energy lighting in 75% of fixed outlets</td>\n",
       "      <td>Very Good</td>\n",
       "      <td>Very Good</td>\n",
       "      <td>mains gas (not community)</td>\n",
       "      <td>NO DATA!</td>\n",
       "      <td>NaN</td>\n",
       "      <td>NaN</td>\n",
       "      <td>NaN</td>\n",
       "      <td>natural</td>\n",
       "    </tr>\n",
       "    <tr>\n",
       "      <th>1</th>\n",
       "      <td>474609002017022017183502032206</td>\n",
       "      <td>Broxtowe</td>\n",
       "      <td>NG9 3AF</td>\n",
       "      <td>6</td>\n",
       "      <td>C</td>\n",
       "      <td>73</td>\n",
       "      <td>House</td>\n",
       "      <td>Detached</td>\n",
       "      <td>2017-02-20</td>\n",
       "      <td>2017-02-20</td>\n",
       "      <td>...</td>\n",
       "      <td>Good</td>\n",
       "      <td>Low energy lighting in 93% of fixed outlets</td>\n",
       "      <td>Very Good</td>\n",
       "      <td>Very Good</td>\n",
       "      <td>mains gas (not community)</td>\n",
       "      <td>NO DATA!</td>\n",
       "      <td>NaN</td>\n",
       "      <td>NaN</td>\n",
       "      <td>N</td>\n",
       "      <td>natural</td>\n",
       "    </tr>\n",
       "    <tr>\n",
       "      <th>2</th>\n",
       "      <td>362000002008122009245906089418</td>\n",
       "      <td>Teignbridge</td>\n",
       "      <td>EX6 7SJ</td>\n",
       "      <td>8</td>\n",
       "      <td>D</td>\n",
       "      <td>66</td>\n",
       "      <td>House</td>\n",
       "      <td>Detached</td>\n",
       "      <td>2008-12-19</td>\n",
       "      <td>2008-12-20</td>\n",
       "      <td>...</td>\n",
       "      <td>Average</td>\n",
       "      <td>Low energy lighting in all fixed outlets</td>\n",
       "      <td>Very Good</td>\n",
       "      <td>Very Good</td>\n",
       "      <td>oil - this is for backwards compatibility only...</td>\n",
       "      <td>NO DATA!</td>\n",
       "      <td>NaN</td>\n",
       "      <td>2.60</td>\n",
       "      <td>N</td>\n",
       "      <td>natural</td>\n",
       "    </tr>\n",
       "    <tr>\n",
       "      <th>3</th>\n",
       "      <td>362002042020080320250702007808</td>\n",
       "      <td>Teignbridge</td>\n",
       "      <td>EX6 7SJ</td>\n",
       "      <td>8</td>\n",
       "      <td>D</td>\n",
       "      <td>60</td>\n",
       "      <td>House</td>\n",
       "      <td>Detached</td>\n",
       "      <td>2020-07-30</td>\n",
       "      <td>2020-08-03</td>\n",
       "      <td>...</td>\n",
       "      <td>Good</td>\n",
       "      <td>Low energy lighting in all fixed outlets</td>\n",
       "      <td>Very Good</td>\n",
       "      <td>Very Good</td>\n",
       "      <td>oil (not community)</td>\n",
       "      <td>NO DATA!</td>\n",
       "      <td>NaN</td>\n",
       "      <td>2.60</td>\n",
       "      <td>N</td>\n",
       "      <td>natural</td>\n",
       "    </tr>\n",
       "    <tr>\n",
       "      <th>4</th>\n",
       "      <td>370009262011112416424900548409</td>\n",
       "      <td>Dartford</td>\n",
       "      <td>DA1 5JF</td>\n",
       "      <td>18</td>\n",
       "      <td>C</td>\n",
       "      <td>76</td>\n",
       "      <td>Flat</td>\n",
       "      <td>NO DATA!</td>\n",
       "      <td>2011-11-24</td>\n",
       "      <td>2011-11-24</td>\n",
       "      <td>...</td>\n",
       "      <td>Good</td>\n",
       "      <td>Low energy lighting in all fixed outlets</td>\n",
       "      <td>Very Good</td>\n",
       "      <td>Very Good</td>\n",
       "      <td>mains gas (not community)</td>\n",
       "      <td>no corridor</td>\n",
       "      <td>NaN</td>\n",
       "      <td>2.40</td>\n",
       "      <td>NaN</td>\n",
       "      <td>natural</td>\n",
       "    </tr>\n",
       "    <tr>\n",
       "      <th>...</th>\n",
       "      <td>...</td>\n",
       "      <td>...</td>\n",
       "      <td>...</td>\n",
       "      <td>...</td>\n",
       "      <td>...</td>\n",
       "      <td>...</td>\n",
       "      <td>...</td>\n",
       "      <td>...</td>\n",
       "      <td>...</td>\n",
       "      <td>...</td>\n",
       "      <td>...</td>\n",
       "      <td>...</td>\n",
       "      <td>...</td>\n",
       "      <td>...</td>\n",
       "      <td>...</td>\n",
       "      <td>...</td>\n",
       "      <td>...</td>\n",
       "      <td>...</td>\n",
       "      <td>...</td>\n",
       "      <td>...</td>\n",
       "      <td>...</td>\n",
       "    </tr>\n",
       "    <tr>\n",
       "      <th>4833982</th>\n",
       "      <td>1bbcffde2e67db588adb581caab791af5eae973e6a06b3...</td>\n",
       "      <td>Waverley</td>\n",
       "      <td>GU8 4PA</td>\n",
       "      <td>10003359072</td>\n",
       "      <td>E</td>\n",
       "      <td>52</td>\n",
       "      <td>House</td>\n",
       "      <td>Semi-Detached</td>\n",
       "      <td>2022-09-23</td>\n",
       "      <td>2022-09-23</td>\n",
       "      <td>...</td>\n",
       "      <td>Very Good</td>\n",
       "      <td>Low energy lighting in 71% of fixed outlets</td>\n",
       "      <td>Very Good</td>\n",
       "      <td>Very Good</td>\n",
       "      <td>oil (not community)</td>\n",
       "      <td>NaN</td>\n",
       "      <td>NaN</td>\n",
       "      <td>2.05</td>\n",
       "      <td>N</td>\n",
       "      <td>natural</td>\n",
       "    </tr>\n",
       "    <tr>\n",
       "      <th>4833983</th>\n",
       "      <td>911fea13b9ec8817b63a98592daeadd0fe277609ba5835...</td>\n",
       "      <td>Broxbourne</td>\n",
       "      <td>EN10 7BG</td>\n",
       "      <td>10003359073</td>\n",
       "      <td>C</td>\n",
       "      <td>73</td>\n",
       "      <td>House</td>\n",
       "      <td>Semi-Detached</td>\n",
       "      <td>2022-08-29</td>\n",
       "      <td>2022-08-30</td>\n",
       "      <td>...</td>\n",
       "      <td>Average</td>\n",
       "      <td>Low energy lighting in all fixed outlets</td>\n",
       "      <td>Very Good</td>\n",
       "      <td>Very Good</td>\n",
       "      <td>mains gas (not community)</td>\n",
       "      <td>NaN</td>\n",
       "      <td>NaN</td>\n",
       "      <td>2.41</td>\n",
       "      <td>N</td>\n",
       "      <td>natural</td>\n",
       "    </tr>\n",
       "    <tr>\n",
       "      <th>4833984</th>\n",
       "      <td>94045a45fb9fc5095bec76b7f4f09d264573973402d779...</td>\n",
       "      <td>Babergh</td>\n",
       "      <td>IP8 3PP</td>\n",
       "      <td>10003359076</td>\n",
       "      <td>B</td>\n",
       "      <td>83</td>\n",
       "      <td>Bungalow</td>\n",
       "      <td>Detached</td>\n",
       "      <td>2022-08-18</td>\n",
       "      <td>2022-08-18</td>\n",
       "      <td>...</td>\n",
       "      <td>Very Good</td>\n",
       "      <td>Low energy lighting in all fixed outlets</td>\n",
       "      <td>Very Good</td>\n",
       "      <td>Very Good</td>\n",
       "      <td>Gas: bulk LPG</td>\n",
       "      <td>NaN</td>\n",
       "      <td>NaN</td>\n",
       "      <td>2.82</td>\n",
       "      <td>NaN</td>\n",
       "      <td>NaN</td>\n",
       "    </tr>\n",
       "    <tr>\n",
       "      <th>4833985</th>\n",
       "      <td>3a1a8dd8dcced5bcc2760c03effee782d3f6c375fd57a5...</td>\n",
       "      <td>Ashfield</td>\n",
       "      <td>NG17 2DR</td>\n",
       "      <td>827095600001</td>\n",
       "      <td>C</td>\n",
       "      <td>70</td>\n",
       "      <td>Bungalow</td>\n",
       "      <td>Detached</td>\n",
       "      <td>2022-02-11</td>\n",
       "      <td>2022-02-13</td>\n",
       "      <td>...</td>\n",
       "      <td>Good</td>\n",
       "      <td>Low energy lighting in all fixed outlets</td>\n",
       "      <td>Very Good</td>\n",
       "      <td>Very Good</td>\n",
       "      <td>mains gas (not community)</td>\n",
       "      <td>NaN</td>\n",
       "      <td>NaN</td>\n",
       "      <td>2.35</td>\n",
       "      <td>N</td>\n",
       "      <td>natural</td>\n",
       "    </tr>\n",
       "    <tr>\n",
       "      <th>4833986</th>\n",
       "      <td>c307830b6cffaff3378d62ae2c3696ec9862d2d2ce72fa...</td>\n",
       "      <td>Dartford</td>\n",
       "      <td>DA2 7ER</td>\n",
       "      <td>952253800002</td>\n",
       "      <td>D</td>\n",
       "      <td>64</td>\n",
       "      <td>House</td>\n",
       "      <td>Detached</td>\n",
       "      <td>2021-09-17</td>\n",
       "      <td>2021-10-02</td>\n",
       "      <td>...</td>\n",
       "      <td>Good</td>\n",
       "      <td>Low energy lighting in all fixed outlets</td>\n",
       "      <td>Very Good</td>\n",
       "      <td>Very Good</td>\n",
       "      <td>electricity (not community)</td>\n",
       "      <td>NaN</td>\n",
       "      <td>NaN</td>\n",
       "      <td>2.25</td>\n",
       "      <td>N</td>\n",
       "      <td>natural</td>\n",
       "    </tr>\n",
       "  </tbody>\n",
       "</table>\n",
       "<p>4833987 rows × 64 columns</p>\n",
       "</div>"
      ],
      "text/plain": [
       "                                                   LMK_KEY       region  \\\n",
       "0                           474209002014072615194700042152       Exeter   \n",
       "1                           474609002017022017183502032206     Broxtowe   \n",
       "2                           362000002008122009245906089418  Teignbridge   \n",
       "3                           362002042020080320250702007808  Teignbridge   \n",
       "4                           370009262011112416424900548409     Dartford   \n",
       "...                                                    ...          ...   \n",
       "4833982  1bbcffde2e67db588adb581caab791af5eae973e6a06b3...     Waverley   \n",
       "4833983  911fea13b9ec8817b63a98592daeadd0fe277609ba5835...   Broxbourne   \n",
       "4833984  94045a45fb9fc5095bec76b7f4f09d264573973402d779...      Babergh   \n",
       "4833985  3a1a8dd8dcced5bcc2760c03effee782d3f6c375fd57a5...     Ashfield   \n",
       "4833986  c307830b6cffaff3378d62ae2c3696ec9862d2d2ce72fa...     Dartford   \n",
       "\n",
       "         POSTCODE  BUILDING_REFERENCE_NUMBER CURRENT_ENERGY_RATING  \\\n",
       "0         EX2 9EJ                          2                     D   \n",
       "1         NG9 3AF                          6                     C   \n",
       "2         EX6 7SJ                          8                     D   \n",
       "3         EX6 7SJ                          8                     D   \n",
       "4         DA1 5JF                         18                     C   \n",
       "...           ...                        ...                   ...   \n",
       "4833982   GU8 4PA                10003359072                     E   \n",
       "4833983  EN10 7BG                10003359073                     C   \n",
       "4833984   IP8 3PP                10003359076                     B   \n",
       "4833985  NG17 2DR               827095600001                     C   \n",
       "4833986   DA2 7ER               952253800002                     D   \n",
       "\n",
       "         CURRENT_ENERGY_EFFICIENCY PROPERTY_TYPE     BUILT_FORM  \\\n",
       "0                               61         House    Mid-Terrace   \n",
       "1                               73         House       Detached   \n",
       "2                               66         House       Detached   \n",
       "3                               60         House       Detached   \n",
       "4                               76          Flat       NO DATA!   \n",
       "...                            ...           ...            ...   \n",
       "4833982                         52         House  Semi-Detached   \n",
       "4833983                         73         House  Semi-Detached   \n",
       "4833984                         83      Bungalow       Detached   \n",
       "4833985                         70      Bungalow       Detached   \n",
       "4833986                         64         House       Detached   \n",
       "\n",
       "        INSPECTION_DATE LODGEMENT_DATE  ... MAINHEATC_ENV_EFF  \\\n",
       "0            2014-07-25     2014-07-26  ...              Good   \n",
       "1            2017-02-20     2017-02-20  ...              Good   \n",
       "2            2008-12-19     2008-12-20  ...           Average   \n",
       "3            2020-07-30     2020-08-03  ...              Good   \n",
       "4            2011-11-24     2011-11-24  ...              Good   \n",
       "...                 ...            ...  ...               ...   \n",
       "4833982      2022-09-23     2022-09-23  ...         Very Good   \n",
       "4833983      2022-08-29     2022-08-30  ...           Average   \n",
       "4833984      2022-08-18     2022-08-18  ...         Very Good   \n",
       "4833985      2022-02-11     2022-02-13  ...              Good   \n",
       "4833986      2021-09-17     2021-10-02  ...              Good   \n",
       "\n",
       "                                LIGHTING_DESCRIPTION  LIGHTING_ENERGY_EFF  \\\n",
       "0        Low energy lighting in 75% of fixed outlets            Very Good   \n",
       "1        Low energy lighting in 93% of fixed outlets            Very Good   \n",
       "2           Low energy lighting in all fixed outlets            Very Good   \n",
       "3           Low energy lighting in all fixed outlets            Very Good   \n",
       "4           Low energy lighting in all fixed outlets            Very Good   \n",
       "...                                              ...                  ...   \n",
       "4833982  Low energy lighting in 71% of fixed outlets            Very Good   \n",
       "4833983     Low energy lighting in all fixed outlets            Very Good   \n",
       "4833984     Low energy lighting in all fixed outlets            Very Good   \n",
       "4833985     Low energy lighting in all fixed outlets            Very Good   \n",
       "4833986     Low energy lighting in all fixed outlets            Very Good   \n",
       "\n",
       "         LIGHTING_ENV_EFF                                          MAIN_FUEL  \\\n",
       "0               Very Good                          mains gas (not community)   \n",
       "1               Very Good                          mains gas (not community)   \n",
       "2               Very Good  oil - this is for backwards compatibility only...   \n",
       "3               Very Good                                oil (not community)   \n",
       "4               Very Good                          mains gas (not community)   \n",
       "...                   ...                                                ...   \n",
       "4833982         Very Good                                oil (not community)   \n",
       "4833983         Very Good                          mains gas (not community)   \n",
       "4833984         Very Good                                      Gas: bulk LPG   \n",
       "4833985         Very Good                          mains gas (not community)   \n",
       "4833986         Very Good                        electricity (not community)   \n",
       "\n",
       "         HEAT_LOSS_CORRIDOR  UNHEATED_CORRIDOR_LENGTH  FLOOR_HEIGHT  \\\n",
       "0                  NO DATA!                       NaN           NaN   \n",
       "1                  NO DATA!                       NaN           NaN   \n",
       "2                  NO DATA!                       NaN          2.60   \n",
       "3                  NO DATA!                       NaN          2.60   \n",
       "4               no corridor                       NaN          2.40   \n",
       "...                     ...                       ...           ...   \n",
       "4833982                 NaN                       NaN          2.05   \n",
       "4833983                 NaN                       NaN          2.41   \n",
       "4833984                 NaN                       NaN          2.82   \n",
       "4833985                 NaN                       NaN          2.35   \n",
       "4833986                 NaN                       NaN          2.25   \n",
       "\n",
       "         SOLAR_WATER_HEATING_FLAG MECHANICAL_VENTILATION  \n",
       "0                             NaN                natural  \n",
       "1                               N                natural  \n",
       "2                               N                natural  \n",
       "3                               N                natural  \n",
       "4                             NaN                natural  \n",
       "...                           ...                    ...  \n",
       "4833982                         N                natural  \n",
       "4833983                         N                natural  \n",
       "4833984                       NaN                    NaN  \n",
       "4833985                         N                natural  \n",
       "4833986                         N                natural  \n",
       "\n",
       "[4833987 rows x 64 columns]"
      ]
     },
     "execution_count": 38,
     "metadata": {},
     "output_type": "execute_result"
    }
   ],
   "source": [
    "epc_filled.reset_index(drop=True)"
   ]
  },
  {
   "cell_type": "code",
   "execution_count": 39,
   "metadata": {},
   "outputs": [],
   "source": [
    "# replace 'NO DATA!', 'not defined', 'not recored' and INVALID! with null\n",
    "epc_filled_cleaned = epc_filled.replace('INVALID!',np.nan)\n",
    "epc_filled_cleaned = epc_filled.replace(['NO DATA!','NODATA!'],np.nan)\n",
    "epc_filled_cleaned = epc_filled.replace(['not recorded','not defined','unknown','Unknown','Not defined','Not recorded'],np.nan)\n",
    "epc_filled_cleaned = epc_filled.replace(['N/A','n/a'],np.nan)\n",
    "# replace any values starting sap as these are the column headers not real data\n",
    "epc_filled_cleaned = epc_filled.replace([r'^SAP.*',r'^sap.*'],np.nan,regex=True)\n",
    "# replace '+ Chr(13) +' as it's meaningless\n",
    "epc_filled_cleaned = epc_filled.replace([r\"\\+ Chr\\(13\\) \\+\",r\"\\+ chr\\(13\\) \\+\"],'+', regex=True)\n",
    "epc_filled_cleaned = epc_filled.replace([r\"\\+ Chr\\(13\\) \\+\",r\"\\+ chr\\(13\\) \\+\"],'+', regex=True)"
   ]
  },
  {
   "cell_type": "code",
   "execution_count": 40,
   "metadata": {},
   "outputs": [],
   "source": [
    "epc_filled1.reset_index(drop=True)# replace 'NO DATA!', 'not defined', 'not recored' and INVALID! with null\n",
    "epc_train = epc_train.replace('INVALID!',np.nan)\n",
    "epc_train = epc_train.replace(['NO DATA!','NODATA!'],np.nan)\n",
    "epc_train = epc_train.replace(['not recorded','not defined','unknown','Unknown','Not defined','Not recorded'],np.nan)\n",
    "epc_train = epc_train.replace(['N/A','n/a'],np.nan)\n",
    "# replace any values starting sap as these are the column headers not real data\n",
    "epc_train = epc_train.replace([r'^SAP.*',r'^sap.*'],np.nan,regex=True)\n",
    "# replace '+ Chr(13) +' as it's meaningless\n",
    "epc_train = epc_train.replace([r\"\\+ Chr\\(13\\) \\+\",r\"\\+ chr\\(13\\) \\+\"],'+', regex=True)\n",
    "epc_train = epc_train.replace([r\"\\+ Chr\\(13\\) \\+\",r\"\\+ chr\\(13\\) \\+\"],'+', regex=True)"
   ]
  },
  {
   "cell_type": "code",
   "execution_count": 41,
   "metadata": {},
   "outputs": [],
   "source": [
    "# replace 'NO DATA!', 'not defined' and 'not recored' and INVALID! with null\n",
    "epc_test = epc_test.replace('INVALID!',np.nan)\n",
    "epc_test = epc_test.replace(['NO DATA!','NODATA!'],np.nan)\n",
    "epc_test = epc_test.replace(['not recorded','not defined','unknown','Unknown','Not defined','Not recorded'],np.nan)\n",
    "epc_test = epc_test.replace(['N/A','n/a'],np.nan)\n",
    "# replace any values starting sap as these are the column headers not real data\n",
    "epc_test = epc_test.replace([r'^SAP.*',r'^sap.*'],np.nan,regex=True)\n",
    "# replace '+ Chr(13) +' as it's meaningless\n",
    "epc_test = epc_test.replace([r\"\\+ Chr\\(13\\) \\+\",r\"\\+ chr\\(13\\) \\+\"],'+', regex=True)"
   ]
  },
  {
   "cell_type": "code",
   "execution_count": 42,
   "metadata": {},
   "outputs": [],
   "source": [
    "# replacing values in columns which are actually just the column header\n",
    "replacement_dict = {'HOTWATER_DESCRIPTION':{r'^Hot-Water$':np.nan},'FLOOR_DESCRIPTION':{r'^Floor$':np.nan},\n",
    "'WALLS_DESCRIPTION':{r'^Wall$':np.nan},'WINDOWS_DESCRIPTION':{r'^Window$':np.nan},'ROOF_DESCRIPTION':{r'^Roof$':np.nan},\n",
    "'MAIN_HEATING_CONTROLS':{r'^Main-Heating-Controls$':np.nan},'SECONDHEAT_DESCRIPTION':{r'^Secondary-Heating$':np.nan},\n",
    "'LIGHTING_DESCRIPTION':{r'^Lighting$':np.nan},'MAINHEATCONT_DESCRIPTION':{r'^Main-Heating-Controls$':np.nan},\n",
    "'CURRENT_ENERGY_RATING':{r'^INVALID!':np.nan}}\n",
    "\n",
    "epc_filled_cleaned.replace(replacement_dict,regex=True)\n",
    "epc_train = epc_train.replace(replacement_dict,regex=True)\n",
    "epc_test = epc_test.replace(replacement_dict,regex=True)"
   ]
  },
  {
   "cell_type": "markdown",
   "metadata": {},
   "source": [
    "### Export Data"
   ]
  },
  {
   "cell_type": "code",
   "execution_count": 43,
   "metadata": {},
   "outputs": [],
   "source": [
    "epc_train.to_csv(os.path.join(processing_path,epc_train_fname) + epc_fname_suffix,index = False)\n",
    "epc_test.to_csv(os.path.join(processing_path,epc_test_fname) + epc_fname_suffix,index = False)\n",
    "epc_filled_cleaned.to_csv(os.path.join(processing_path,epc_england_fname) + epc_fname_suffix, index=False)"
   ]
  },
  {
   "cell_type": "code",
   "execution_count": 35,
   "metadata": {},
   "outputs": [],
   "source": [
    "epc_england_2 = epc_filled_cleaned[(epc_filled_cleaned.index >= \"2022-01-01\") & (epc_filled_cleaned.index < \"2022-12-31\")]\n",
    "epc_england_2.head()"
   ]
  },
  {
   "cell_type": "code",
   "execution_count": null,
   "metadata": {},
   "outputs": [],
   "source": []
  }
 ],
 "metadata": {
  "kernelspec": {
   "display_name": "Python 3.10.4 ('elec')",
   "language": "python",
   "name": "python3"
  },
  "language_info": {
   "codemirror_mode": {
    "name": "ipython",
    "version": 3
   },
   "file_extension": ".py",
   "mimetype": "text/x-python",
   "name": "python",
   "nbconvert_exporter": "python",
   "pygments_lexer": "ipython3",
   "version": "3.10.4"
  },
  "orig_nbformat": 4,
  "vscode": {
   "interpreter": {
    "hash": "a03df1490dae5edca8350f1d64d7f189571412bea11a20357ccabc9e7f68ebdc"
   }
  }
 },
 "nbformat": 4,
 "nbformat_minor": 2
}
