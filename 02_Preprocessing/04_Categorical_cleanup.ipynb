{
 "cells": [
  {
   "cell_type": "markdown",
   "metadata": {},
   "source": [
    "# Categorical cleanup"
   ]
  },
  {
   "cell_type": "markdown",
   "metadata": {},
   "source": [
    "Within the feature set, many of the categorical fields contain a large number of unique values. For example, “roof description” alone has over 500 unique values. In order to reduce this, the following steps are applied:\n",
    "\n",
    "* The unit for average thermal transmittance is standardised to ‘W/m²K’\n",
    "* The value of average thermal transmittance is reduced to 1 decimal place\n",
    "* special characters and unnecessary spaces are removed\n",
    "* spellings are corrected; for example  \n",
    "    *‘eneregy’ to ‘energy’\n",
    "* the word ‘assumed’ is removed; for example  \n",
    "    *‘Solid no insulation (assumed)’ to ‘Solid no insulation’"
   ]
  },
  {
   "cell_type": "code",
   "execution_count": 43,
   "metadata": {},
   "outputs": [],
   "source": [
    "import numpy as np\n",
    "import pandas as pd\n",
    "import datetime\n",
    "import os\n",
    "import glob\n",
    "import json\n",
    "import re"
   ]
  },
  {
   "cell_type": "code",
   "execution_count": 44,
   "metadata": {},
   "outputs": [],
   "source": [
    "# set variables from config file\n",
    "config_path = os.path.abspath('..')\n",
    "\n",
    "with open(config_path + '/config-example copy.json', 'r') as f:\n",
    "    config = json.load(f)\n",
    "\n",
    "processing_path = config['DEFAULT']['processing_path']\n",
    "epc_train_fname = config['DEFAULT']['epc_train_fname']\n",
    "epc_test_fname = config['DEFAULT']['epc_test_fname']\n",
    "epc_train_clean_fname = config['DEFAULT']['epc_train_clean_fname']\n",
    "epc_test_clean_fname = config['DEFAULT']['epc_test_clean_fname']\n",
    "epc_fname_suffix = config['DEFAULT']['epc_fname_suffix']"
   ]
  },
  {
   "cell_type": "code",
   "execution_count": 45,
   "metadata": {},
   "outputs": [
    {
     "name": "stderr",
     "output_type": "stream",
     "text": [
      "/var/folders/ld/qgzpl61x5_91yljdqrrpz9g00000gn/T/ipykernel_86761/4240386557.py:3: DtypeWarning: Columns (21) have mixed types. Specify dtype option on import or set low_memory=False.\n",
      "  epc_train = pd.read_csv(os.path.join(processing_path,epc_train_fname) + epc_fname_suffix,\n",
      "/var/folders/ld/qgzpl61x5_91yljdqrrpz9g00000gn/T/ipykernel_86761/4240386557.py:9: DtypeWarning: Columns (21) have mixed types. Specify dtype option on import or set low_memory=False.\n",
      "  epc_test = pd.read_csv(os.path.join(processing_path,epc_test_fname) + epc_fname_suffix,\n"
     ]
    }
   ],
   "source": [
    "dtype_dict = {'INSPECTION_DATE':'str'}\n",
    "\n",
    "epc_train = pd.read_csv(os.path.join(processing_path,epc_train_fname) + epc_fname_suffix,\n",
    "                        header = 0,\n",
    "                        delimiter = ',',\n",
    "                        dtype = dtype_dict,\n",
    "                        parse_dates = ['INSPECTION_DATE'])\n",
    "\n",
    "epc_test = pd.read_csv(os.path.join(processing_path,epc_test_fname) + epc_fname_suffix,\n",
    "                        header = 0,\n",
    "                        delimiter = ',',\n",
    "                        dtype = dtype_dict,\n",
    "                        parse_dates = ['INSPECTION_DATE'])"
   ]
  },
  {
   "cell_type": "code",
   "execution_count": 46,
   "metadata": {},
   "outputs": [
    {
     "data": {
      "text/plain": [
       "Semi-Detached           299105\n",
       "Detached                274011\n",
       "Mid-Terrace             220892\n",
       "End-Terrace             131252\n",
       "Enclosed End-Terrace     14013\n",
       "Enclosed Mid-Terrace      8990\n",
       "Name: BUILT_FORM, dtype: int64"
      ]
     },
     "execution_count": 46,
     "metadata": {},
     "output_type": "execute_result"
    }
   ],
   "source": [
    "epc_test['BUILT_FORM'].value_counts()"
   ]
  },
  {
   "attachments": {},
   "cell_type": "markdown",
   "metadata": {},
   "source": [
    "### Cleaning up units for average thermal transmittance"
   ]
  },
  {
   "cell_type": "code",
   "execution_count": 47,
   "metadata": {},
   "outputs": [],
   "source": [
    "def thermal_cleanup(df):\n",
    "    \n",
    "    ''' \n",
    "    standardising the wording in the variables containing average thermal transmittance. Specifically, \n",
    "    removing bi-lingual versions, removing =, and standardising units\n",
    "    Parameters\n",
    "      df: a dataframe containing variables called 'FLOOR_DESCRIPTION','WALLS_DESCRIPTION','ROOF_DESCRIPTION'\n",
    "    Returns a dataframe \n",
    "    '''\n",
    "    \n",
    "    for c in ['FLOOR_DESCRIPTION','WALLS_DESCRIPTION','ROOF_DESCRIPTION']:\n",
    "        df[c] = df[c].str.replace('  ',' ')\n",
    "        df[c] = df[c].str.replace('Average thermal transmittance 1 ','Average thermal transmittance 1.00 ')\n",
    "        df[c] = df[c].str.replace('Average thermal transmittance =','Average thermal transmittance')\n",
    "        # standardising the unit used\n",
    "        df[c] = df[c].str.replace(r\"W(.*?)K\",'W/m²K')\n",
    "        \n",
    "    return df"
   ]
  },
  {
   "cell_type": "code",
   "execution_count": 48,
   "metadata": {},
   "outputs": [
    {
     "name": "stderr",
     "output_type": "stream",
     "text": [
      "/var/folders/ld/qgzpl61x5_91yljdqrrpz9g00000gn/T/ipykernel_86761/192030728.py:16: FutureWarning: The default value of regex will change from True to False in a future version.\n",
      "  df[c] = df[c].str.replace(r\"W(.*?)K\",'W/m²K')\n"
     ]
    }
   ],
   "source": [
    "epc_train = thermal_cleanup(epc_train)\n",
    "epc_test = thermal_cleanup(epc_test)"
   ]
  },
  {
   "cell_type": "markdown",
   "metadata": {},
   "source": [
    "### Floor description"
   ]
  },
  {
   "cell_type": "code",
   "execution_count": 49,
   "metadata": {},
   "outputs": [],
   "source": [
    "def thermal_floor(df):\n",
    "    \n",
    "    ''' \n",
    "    rounds the average thermal transmittance figure which is within a str field to 1 decimal place\n",
    "    Parameters\n",
    "      df: a dataframe containing a variable called 'FLOOR_DESCRIPTION'\n",
    "    Returns a dataframe \n",
    "    '''\n",
    "    \n",
    "    # finds the decimal number\n",
    "    df['floors_average_thermal_transmittance'] = df['FLOOR_DESCRIPTION'].str.findall(r'\\d.\\d*')\n",
    "    # rounds the number to 1 decimal place\n",
    "    df['floors_average_thermal_transmittance'] = round(df['floors_average_thermal_transmittance'].str[0].astype(float),1)\n",
    "    # \n",
    "    df['FLOOR_DESCRIPTION'] = df.apply(lambda row: 'average thermal transmittance %.1f W/m²K' % (row['floors_average_thermal_transmittance']) if 'Average' in str(row['FLOOR_DESCRIPTION']) else row['FLOOR_DESCRIPTION'],axis=1)\n",
    "    \n",
    "    return df"
   ]
  },
  {
   "cell_type": "code",
   "execution_count": 50,
   "metadata": {},
   "outputs": [],
   "source": [
    "epc_train = thermal_floor(epc_train)\n",
    "epc_test = thermal_floor(epc_test)"
   ]
  },
  {
   "cell_type": "code",
   "execution_count": 51,
   "metadata": {},
   "outputs": [
    {
     "data": {
      "text/plain": [
       "73"
      ]
     },
     "execution_count": 51,
     "metadata": {},
     "output_type": "execute_result"
    }
   ],
   "source": [
    "len(set(epc_train['FLOOR_DESCRIPTION']))"
   ]
  },
  {
   "cell_type": "code",
   "execution_count": 52,
   "metadata": {},
   "outputs": [],
   "source": [
    "def floor_cleanup(df):\n",
    "    \n",
    "    ''' \n",
    "    cleans-up the FLOOR_DESCRIPTION feature from the EPC dataset\n",
    "    Parameters\n",
    "      df: a dataframe containing a variable called 'FLOOR_DESCRIPTION'\n",
    "    Returns a dataframe \n",
    "    '''\n",
    "    \n",
    "    df['FLOOR_DESCRIPTION'] = df['FLOOR_DESCRIPTION'].str.lower()\n",
    "\n",
    "    # removing assumed\n",
    "    df['FLOOR_DESCRIPTION'] = df['FLOOR_DESCRIPTION'].str.replace(\"\\(assumed\\)\",\"\")\n",
    "\n",
    "    # standardising language\n",
    "    df['FLOOR_DESCRIPTION'] = df['FLOOR_DESCRIPTION'].str.replace(\"\\(another dwelling below\\)\",'other premises below') \n",
    "    df['FLOOR_DESCRIPTION'] = df['FLOOR_DESCRIPTION'].str.replace(\"\\(other premises below\\)\",'other premises below')\n",
    "    df['FLOOR_DESCRIPTION'] = df['FLOOR_DESCRIPTION'].str.replace(\"solid.\",'solid,') \n",
    "    df['FLOOR_DESCRIPTION'] = df['FLOOR_DESCRIPTION'].str.replace(\"uninsulated\",'no insulation,') \n",
    "    df['FLOOR_DESCRIPTION'] = df['FLOOR_DESCRIPTION'].str.replace(\"insulation=100mm\",'100 mm insulation') \n",
    "    df['FLOOR_DESCRIPTION'] = df['FLOOR_DESCRIPTION'].str.replace(\", \\(assumed\\)\",' (assumed)')\n",
    "    df['FLOOR_DESCRIPTION'] = df['FLOOR_DESCRIPTION'].str.replace(\"insulation=25mm\",'25 mm insulation')\n",
    "    df['FLOOR_DESCRIPTION'] = df['FLOOR_DESCRIPTION'].str.replace(\"insulation=75mm\",'75 mm insulation')\n",
    "    df['FLOOR_DESCRIPTION'] = df['FLOOR_DESCRIPTION'].str.replace(\"limited insulated\",'limited insulation')\n",
    "    # cleanup\n",
    "    df['FLOOR_DESCRIPTION'] = df['FLOOR_DESCRIPTION'].str.replace(\"[ \\t]+$\",\"\")\n",
    "    df['FLOOR_DESCRIPTION'] = df['FLOOR_DESCRIPTION'].str.replace(r'\\,$','')\n",
    "    df['FLOOR_DESCRIPTION'] = df['FLOOR_DESCRIPTION'].str.replace(r'^, ','')\n",
    "    df['FLOOR_DESCRIPTION'] = df['FLOOR_DESCRIPTION'].str.replace(r'\\?','')\n",
    "    \n",
    "    return df"
   ]
  },
  {
   "cell_type": "code",
   "execution_count": 53,
   "metadata": {},
   "outputs": [
    {
     "name": "stderr",
     "output_type": "stream",
     "text": [
      "/var/folders/ld/qgzpl61x5_91yljdqrrpz9g00000gn/T/ipykernel_86761/4016219099.py:13: FutureWarning: The default value of regex will change from True to False in a future version.\n",
      "  df['FLOOR_DESCRIPTION'] = df['FLOOR_DESCRIPTION'].str.replace(\"\\(assumed\\)\",\"\")\n",
      "/var/folders/ld/qgzpl61x5_91yljdqrrpz9g00000gn/T/ipykernel_86761/4016219099.py:16: FutureWarning: The default value of regex will change from True to False in a future version.\n",
      "  df['FLOOR_DESCRIPTION'] = df['FLOOR_DESCRIPTION'].str.replace(\"\\(another dwelling below\\)\",'other premises below')\n",
      "/var/folders/ld/qgzpl61x5_91yljdqrrpz9g00000gn/T/ipykernel_86761/4016219099.py:17: FutureWarning: The default value of regex will change from True to False in a future version.\n",
      "  df['FLOOR_DESCRIPTION'] = df['FLOOR_DESCRIPTION'].str.replace(\"\\(other premises below\\)\",'other premises below')\n",
      "/var/folders/ld/qgzpl61x5_91yljdqrrpz9g00000gn/T/ipykernel_86761/4016219099.py:18: FutureWarning: The default value of regex will change from True to False in a future version.\n",
      "  df['FLOOR_DESCRIPTION'] = df['FLOOR_DESCRIPTION'].str.replace(\"solid.\",'solid,')\n",
      "/var/folders/ld/qgzpl61x5_91yljdqrrpz9g00000gn/T/ipykernel_86761/4016219099.py:21: FutureWarning: The default value of regex will change from True to False in a future version.\n",
      "  df['FLOOR_DESCRIPTION'] = df['FLOOR_DESCRIPTION'].str.replace(\", \\(assumed\\)\",' (assumed)')\n",
      "/var/folders/ld/qgzpl61x5_91yljdqrrpz9g00000gn/T/ipykernel_86761/4016219099.py:26: FutureWarning: The default value of regex will change from True to False in a future version.\n",
      "  df['FLOOR_DESCRIPTION'] = df['FLOOR_DESCRIPTION'].str.replace(\"[ \\t]+$\",\"\")\n",
      "/var/folders/ld/qgzpl61x5_91yljdqrrpz9g00000gn/T/ipykernel_86761/4016219099.py:27: FutureWarning: The default value of regex will change from True to False in a future version.\n",
      "  df['FLOOR_DESCRIPTION'] = df['FLOOR_DESCRIPTION'].str.replace(r'\\,$','')\n",
      "/var/folders/ld/qgzpl61x5_91yljdqrrpz9g00000gn/T/ipykernel_86761/4016219099.py:28: FutureWarning: The default value of regex will change from True to False in a future version.\n",
      "  df['FLOOR_DESCRIPTION'] = df['FLOOR_DESCRIPTION'].str.replace(r'^, ','')\n",
      "/var/folders/ld/qgzpl61x5_91yljdqrrpz9g00000gn/T/ipykernel_86761/4016219099.py:29: FutureWarning: The default value of regex will change from True to False in a future version.\n",
      "  df['FLOOR_DESCRIPTION'] = df['FLOOR_DESCRIPTION'].str.replace(r'\\?','')\n"
     ]
    }
   ],
   "source": [
    "epc_train = floor_cleanup(epc_train)\n",
    "epc_test = floor_cleanup(epc_test)"
   ]
  },
  {
   "cell_type": "code",
   "execution_count": 54,
   "metadata": {},
   "outputs": [
    {
     "data": {
      "text/plain": [
       "61"
      ]
     },
     "execution_count": 54,
     "metadata": {},
     "output_type": "execute_result"
    }
   ],
   "source": [
    "len(set(epc_train['FLOOR_DESCRIPTION']))"
   ]
  },
  {
   "attachments": {},
   "cell_type": "markdown",
   "metadata": {},
   "source": [
    "### Lighting description"
   ]
  },
  {
   "cell_type": "code",
   "execution_count": 55,
   "metadata": {},
   "outputs": [],
   "source": [
    "# lighting and second heat descriptions have some entries the wrong way around\n",
    "epc_train['SECONDHEAT_DESCRIPTION1'] = epc_train.apply(lambda row: row['LIGHTING_DESCRIPTION'] if 'lighting' in str(row['SECONDHEAT_DESCRIPTION']) else row['SECONDHEAT_DESCRIPTION'],axis = 1)\n",
    "epc_train['LIGHTING_DESCRIPTION1'] = epc_train.apply(lambda row: row['SECONDHEAT_DESCRIPTION'] if 'lighting' in str(row['SECONDHEAT_DESCRIPTION']) else row['LIGHTING_DESCRIPTION'],axis = 1)\n",
    "\n",
    "epc_test['SECONDHEAT_DESCRIPTION1'] = epc_test.apply(lambda row: row['LIGHTING_DESCRIPTION'] if 'lighting' in str(row['SECONDHEAT_DESCRIPTION']) else row['SECONDHEAT_DESCRIPTION'],axis = 1)\n",
    "epc_test['LIGHTING_DESCRIPTION1'] = epc_test.apply(lambda row: row['SECONDHEAT_DESCRIPTION'] if 'lighting' in str(row['SECONDHEAT_DESCRIPTION']) else row['LIGHTING_DESCRIPTION'],axis = 1)"
   ]
  },
  {
   "cell_type": "code",
   "execution_count": 56,
   "metadata": {},
   "outputs": [],
   "source": [
    "epc_train.drop(columns= ['SECONDHEAT_DESCRIPTION','LIGHTING_DESCRIPTION'],axis=1,inplace=True)\n",
    "epc_test.drop(columns= ['SECONDHEAT_DESCRIPTION','LIGHTING_DESCRIPTION'],axis=1,inplace=True)\n",
    "epc_train.rename(columns={'SECONDHEAT_DESCRIPTION1':'SECONDHEAT_DESCRIPTION','LIGHTING_DESCRIPTION1':'LIGHTING_DESCRIPTION'},inplace=True)\n",
    "epc_test.rename(columns={'SECONDHEAT_DESCRIPTION1':'SECONDHEAT_DESCRIPTION','LIGHTING_DESCRIPTION1':'LIGHTING_DESCRIPTION'},inplace=True)"
   ]
  },
  {
   "cell_type": "code",
   "execution_count": 57,
   "metadata": {},
   "outputs": [
    {
     "data": {
      "text/plain": [
       "355"
      ]
     },
     "execution_count": 57,
     "metadata": {},
     "output_type": "execute_result"
    }
   ],
   "source": [
    "len(set(epc_train['LIGHTING_DESCRIPTION']))"
   ]
  },
  {
   "cell_type": "code",
   "execution_count": 58,
   "metadata": {},
   "outputs": [],
   "source": [
    "def lighting_cleanup(df):\n",
    "    \n",
    "    ''' \n",
    "    cleans-up the LIGHTING_DESCRIPTION feature from the EPC dataset\n",
    "    Parameters\n",
    "      df: a dataframe containing a variable called 'LIGHTING_DESCRIPTION'\n",
    "    Returns a dataframe \n",
    "    '''\n",
    "    \n",
    "    df['LIGHTING_DESCRIPTION'] = df['LIGHTING_DESCRIPTION'].str.lower()\n",
    "    # combining ways of saying all lights are low energy\n",
    "    df['LIGHTING_DESCRIPTION'] = df['LIGHTING_DESCRIPTION'].str.replace(r'goleuadau ynni-isel ym mhob un o.r mannau gosod','low energy lighting in all fixed outlets')\n",
    "    df['LIGHTING_DESCRIPTION'] = df['LIGHTING_DESCRIPTION'].str.replace(r'low energy lighting in 120% of fixed outlets','low energy lighting in all fixed outlets')\n",
    "    df['LIGHTING_DESCRIPTION'] = df['LIGHTING_DESCRIPTION'].str.replace(r'low energy lighting 100% of fixed outlets','low energy lighting in all fixed outlets')\n",
    "    # translating welsh sentences\n",
    "    df['LIGHTING_DESCRIPTION'] = df['LIGHTING_DESCRIPTION'].str.replace(r\"\\|goleuadau(.*)\",'') \n",
    "    df['LIGHTING_DESCRIPTION'] = df['LIGHTING_DESCRIPTION'].str.replace(r\"o.r mannau gosod\",'of fixed outlets')\n",
    "    df['LIGHTING_DESCRIPTION'] = df['LIGHTING_DESCRIPTION'].str.replace('% fixed','% of fixed')\n",
    "    df['LIGHTING_DESCRIPTION'] = df['LIGHTING_DESCRIPTION'].str.replace('goleuadau ynni-isel mewn','low energy lighting in')\n",
    "    df['LIGHTING_DESCRIPTION'] = df['LIGHTING_DESCRIPTION'].str.replace(r\"\\.\\d*\",'')\n",
    "    df['LIGHTING_DESCRIPTION'] = df['LIGHTING_DESCRIPTION'].str.replace(\"dim goleuadau ynni-isel\",'no low energy lighting')\n",
    "    # clean up\n",
    "    df['LIGHTING_DESCRIPTION'] = df['LIGHTING_DESCRIPTION'].str.replace(\"eneregy\",'energy')\n",
    "    \n",
    "    return df"
   ]
  },
  {
   "cell_type": "code",
   "execution_count": 59,
   "metadata": {},
   "outputs": [
    {
     "name": "stderr",
     "output_type": "stream",
     "text": [
      "/var/folders/ld/qgzpl61x5_91yljdqrrpz9g00000gn/T/ipykernel_86761/3194070595.py:12: FutureWarning: The default value of regex will change from True to False in a future version.\n",
      "  df['LIGHTING_DESCRIPTION'] = df['LIGHTING_DESCRIPTION'].str.replace(r'goleuadau ynni-isel ym mhob un o.r mannau gosod','low energy lighting in all fixed outlets')\n",
      "/var/folders/ld/qgzpl61x5_91yljdqrrpz9g00000gn/T/ipykernel_86761/3194070595.py:16: FutureWarning: The default value of regex will change from True to False in a future version.\n",
      "  df['LIGHTING_DESCRIPTION'] = df['LIGHTING_DESCRIPTION'].str.replace(r\"\\|goleuadau(.*)\",'')\n",
      "/var/folders/ld/qgzpl61x5_91yljdqrrpz9g00000gn/T/ipykernel_86761/3194070595.py:17: FutureWarning: The default value of regex will change from True to False in a future version.\n",
      "  df['LIGHTING_DESCRIPTION'] = df['LIGHTING_DESCRIPTION'].str.replace(r\"o.r mannau gosod\",'of fixed outlets')\n",
      "/var/folders/ld/qgzpl61x5_91yljdqrrpz9g00000gn/T/ipykernel_86761/3194070595.py:20: FutureWarning: The default value of regex will change from True to False in a future version.\n",
      "  df['LIGHTING_DESCRIPTION'] = df['LIGHTING_DESCRIPTION'].str.replace(r\"\\.\\d*\",'')\n"
     ]
    }
   ],
   "source": [
    "epc_train = lighting_cleanup(epc_train)\n",
    "epc_test = lighting_cleanup(epc_test)"
   ]
  },
  {
   "cell_type": "code",
   "execution_count": 60,
   "metadata": {},
   "outputs": [
    {
     "data": {
      "text/plain": [
       "109"
      ]
     },
     "execution_count": 60,
     "metadata": {},
     "output_type": "execute_result"
    }
   ],
   "source": [
    "len(set(epc_train['LIGHTING_DESCRIPTION']))"
   ]
  },
  {
   "cell_type": "code",
   "execution_count": 61,
   "metadata": {},
   "outputs": [],
   "source": [
    "def lighting_perc_cleanup(df):\n",
    "    \n",
    "    ''' \n",
    "    rounds the low energy lighting percentage figure which is within a str field\n",
    "    Parameters\n",
    "      df: a dataframe containing a variable called 'LIGHTING_DESCRIPTION'\n",
    "    Returns a dataframe \n",
    "    '''\n",
    "    \n",
    "    df['low_energy_lighting_perc'] = df['LIGHTING_DESCRIPTION'].str.findall(r'(\\d*)\\%')\n",
    "    df['low_energy_lighting_perc'] = round(df['low_energy_lighting_perc'].str[0].astype(float),-1)\n",
    "    df['LIGHTING_DESCRIPTION'] = df.apply(lambda row: 'low energy lighting %d%% of fixed outlets' % (int(row['low_energy_lighting_perc'])) if '%' in str(row['LIGHTING_DESCRIPTION']) else row['LIGHTING_DESCRIPTION'],axis=1)\n",
    "\n",
    "    return df"
   ]
  },
  {
   "cell_type": "code",
   "execution_count": 62,
   "metadata": {},
   "outputs": [],
   "source": [
    "epc_train = lighting_perc_cleanup(epc_train)\n",
    "epc_test = lighting_perc_cleanup(epc_test)"
   ]
  },
  {
   "cell_type": "code",
   "execution_count": 63,
   "metadata": {},
   "outputs": [
    {
     "data": {
      "text/plain": [
       "15"
      ]
     },
     "execution_count": 63,
     "metadata": {},
     "output_type": "execute_result"
    }
   ],
   "source": [
    "len(set(epc_train['LIGHTING_DESCRIPTION']))"
   ]
  },
  {
   "attachments": {},
   "cell_type": "markdown",
   "metadata": {},
   "source": [
    "### Roof Description"
   ]
  },
  {
   "cell_type": "code",
   "execution_count": 64,
   "metadata": {},
   "outputs": [
    {
     "data": {
      "text/plain": [
       "329"
      ]
     },
     "execution_count": 64,
     "metadata": {},
     "output_type": "execute_result"
    }
   ],
   "source": [
    "len(set(epc_train['ROOF_DESCRIPTION']))"
   ]
  },
  {
   "cell_type": "code",
   "execution_count": 65,
   "metadata": {},
   "outputs": [],
   "source": [
    "def roof_cleanup(df):\n",
    "    \n",
    "    ''' \n",
    "    cleans-up the ROOF_DESCRIPTION feature from the EPC dataset\n",
    "    Parameters\n",
    "      df: a dataframe containing a variable called 'ROOF_DESCRIPTION'\n",
    "    Returns a dataframe \n",
    "    '''\n",
    "    \n",
    "    # standardising units\n",
    "    df['ROOF_DESCRIPTION'] = df['ROOF_DESCRIPTION'].str.replace(\" mm\",'mm')\n",
    "    df['ROOF_DESCRIPTION'] = df['ROOF_DESCRIPTION'].str.replace(\">= 300mm\",\">=300mm\")\n",
    "    df['ROOF_DESCRIPTION'] = df['ROOF_DESCRIPTION'].str.replace(\">=300mm\",\"300+mm\")\n",
    "    # translating welsh sentences\n",
    "    df['ROOF_DESCRIPTION'] = df['ROOF_DESCRIPTION'].str.replace(\"\\|\\(eiddo arall uwchben\\)\",\"\")\n",
    "    df['ROOF_DESCRIPTION'] = df['ROOF_DESCRIPTION'].str.replace(\"Ar oleddf\",\"Pitched\")\n",
    "    df['ROOF_DESCRIPTION'] = df['ROOF_DESCRIPTION'].str.replace(\"dim inswleiddio\",\"no insulation\")\n",
    "    df['ROOF_DESCRIPTION'] = df['ROOF_DESCRIPTION'].str.replace(r\"wedi(.*?)i inswleiddio\",\"insulated\")\n",
    "    df['ROOF_DESCRIPTION'] = df['ROOF_DESCRIPTION'].str.replace(\"(rhagdybiaeth)\",\"assumed\")\n",
    "    df['ROOF_DESCRIPTION'] = df['ROOF_DESCRIPTION'].str.replace(r\"lo inswleiddio yn y llof.*\",\"loft insulation\")\n",
    "    df['ROOF_DESCRIPTION'] = df['ROOF_DESCRIPTION'].str.replace(r\"o inswleiddio yn y llof.*\",\"loft insulation\")\n",
    "    df['ROOF_DESCRIPTION'] = df['ROOF_DESCRIPTION'].str.replace(\"Ystafell\\(oedd\\) to\",\"Roof room(s)\")\n",
    "    df['ROOF_DESCRIPTION'] = df['ROOF_DESCRIPTION'].str.replace(r\"wedi(.*?)i hinswleiddio\",\"insulated\")\n",
    "    df['ROOF_DESCRIPTION'] = df['ROOF_DESCRIPTION'].str.replace(\"nenfwd\",\"ceiling\")\n",
    "    df['ROOF_DESCRIPTION'] = df['ROOF_DESCRIPTION'].str.replace(\"wrth y trawstia(.*?)\",\"at rafters\")\n",
    "    df['ROOF_DESCRIPTION'] = df['ROOF_DESCRIPTION'].str.replace(\"inswleiddio cyfyngedig\",\"limited insulation\")\n",
    "    df['ROOF_DESCRIPTION'] = df['ROOF_DESCRIPTION'].str.replace(\"To gwellt, gydag inswleiddio ychwanegol\",\"Thatched, with additional insulation\")\n",
    "    df['ROOF_DESCRIPTION'] = df['ROOF_DESCRIPTION'].str.replace(\"Yn wastad\",\"Always\")\n",
    "    # standardising descriptions\n",
    "    df['ROOF_DESCRIPTION'] = df['ROOF_DESCRIPTION'].str.replace(\"Roof room,\",\"Roof room(s),\")\n",
    "    df['ROOF_DESCRIPTION'] = df['ROOF_DESCRIPTION'].str.replace(\"annedd arall uwchben\",\"other premises above\")\n",
    "    df['ROOF_DESCRIPTION'] = df['ROOF_DESCRIPTION'].str.replace(\"another dwelling above\",\"other premises above\")\n",
    "    df['ROOF_DESCRIPTION'] = df['ROOF_DESCRIPTION'].str.replace(\"Dwelling Above\",\"(other premises above)\")\n",
    "    df['ROOF_DESCRIPTION'] = df['ROOF_DESCRIPTION'].str.replace(r\"0 W/m²K\",r\" W/m²K\")\n",
    "    df['ROOF_DESCRIPTION'] = df['ROOF_DESCRIPTION'].str.replace(\"  W/m²K\",\" 0.0 W/m²K\")\n",
    "    df['ROOF_DESCRIPTION'] = df['ROOF_DESCRIPTION'].str.replace(\"Roof room\\(s\\), no insulation\\(assumed\\)\",\"Roof room(s), no insulation (assumed)\")\n",
    "    df['ROOF_DESCRIPTION'] = df['ROOF_DESCRIPTION'].str.replace(\"Other premises above\",\"(other premises above)\")\n",
    "    df['ROOF_DESCRIPTION'] = df['ROOF_DESCRIPTION'].str.replace(\"\\(assumed\\)\",\"\")\n",
    "    # cleanup\n",
    "    df['ROOF_DESCRIPTION'] = df['ROOF_DESCRIPTION'].str.replace(r'\\.$','')\n",
    "    df['ROOF_DESCRIPTION'] = df['ROOF_DESCRIPTION'].str.replace(r'\\,$','')\n",
    "    df['ROOF_DESCRIPTION'] = df['ROOF_DESCRIPTION'].str.replace(\"  \\+\",\" +\")\n",
    "    df['ROOF_DESCRIPTION'] = df['ROOF_DESCRIPTION'].str.replace(\"[ \\t]+$\",\"\")\n",
    "    df['ROOF_DESCRIPTION'] = df['ROOF_DESCRIPTION'].str.replace(\"mmmm\",\"mm\")\n",
    "    df['ROOF_DESCRIPTION'] = df['ROOF_DESCRIPTION'].str.replace(\"Thatchedinsulated\",\"Thatched, insulated\")\n",
    "    df['ROOF_DESCRIPTION'] = df['ROOF_DESCRIPTION'].str.replace(\"\\*\\*\\* INVALID INPUT Code \\: 57 \\*\\*\\*\",\"\")\n",
    "    \n",
    "    return df"
   ]
  },
  {
   "cell_type": "code",
   "execution_count": 66,
   "metadata": {},
   "outputs": [
    {
     "name": "stderr",
     "output_type": "stream",
     "text": [
      "/var/folders/ld/qgzpl61x5_91yljdqrrpz9g00000gn/T/ipykernel_86761/2604228721.py:15: FutureWarning: The default value of regex will change from True to False in a future version.\n",
      "  df['ROOF_DESCRIPTION'] = df['ROOF_DESCRIPTION'].str.replace(\"\\|\\(eiddo arall uwchben\\)\",\"\")\n",
      "/var/folders/ld/qgzpl61x5_91yljdqrrpz9g00000gn/T/ipykernel_86761/2604228721.py:18: FutureWarning: The default value of regex will change from True to False in a future version.\n",
      "  df['ROOF_DESCRIPTION'] = df['ROOF_DESCRIPTION'].str.replace(r\"wedi(.*?)i inswleiddio\",\"insulated\")\n",
      "/var/folders/ld/qgzpl61x5_91yljdqrrpz9g00000gn/T/ipykernel_86761/2604228721.py:19: FutureWarning: The default value of regex will change from True to False in a future version.\n",
      "  df['ROOF_DESCRIPTION'] = df['ROOF_DESCRIPTION'].str.replace(\"(rhagdybiaeth)\",\"assumed\")\n",
      "/var/folders/ld/qgzpl61x5_91yljdqrrpz9g00000gn/T/ipykernel_86761/2604228721.py:20: FutureWarning: The default value of regex will change from True to False in a future version.\n",
      "  df['ROOF_DESCRIPTION'] = df['ROOF_DESCRIPTION'].str.replace(r\"lo inswleiddio yn y llof.*\",\"loft insulation\")\n",
      "/var/folders/ld/qgzpl61x5_91yljdqrrpz9g00000gn/T/ipykernel_86761/2604228721.py:21: FutureWarning: The default value of regex will change from True to False in a future version.\n",
      "  df['ROOF_DESCRIPTION'] = df['ROOF_DESCRIPTION'].str.replace(r\"o inswleiddio yn y llof.*\",\"loft insulation\")\n",
      "/var/folders/ld/qgzpl61x5_91yljdqrrpz9g00000gn/T/ipykernel_86761/2604228721.py:22: FutureWarning: The default value of regex will change from True to False in a future version.\n",
      "  df['ROOF_DESCRIPTION'] = df['ROOF_DESCRIPTION'].str.replace(\"Ystafell\\(oedd\\) to\",\"Roof room(s)\")\n",
      "/var/folders/ld/qgzpl61x5_91yljdqrrpz9g00000gn/T/ipykernel_86761/2604228721.py:23: FutureWarning: The default value of regex will change from True to False in a future version.\n",
      "  df['ROOF_DESCRIPTION'] = df['ROOF_DESCRIPTION'].str.replace(r\"wedi(.*?)i hinswleiddio\",\"insulated\")\n",
      "/var/folders/ld/qgzpl61x5_91yljdqrrpz9g00000gn/T/ipykernel_86761/2604228721.py:25: FutureWarning: The default value of regex will change from True to False in a future version.\n",
      "  df['ROOF_DESCRIPTION'] = df['ROOF_DESCRIPTION'].str.replace(\"wrth y trawstia(.*?)\",\"at rafters\")\n",
      "/var/folders/ld/qgzpl61x5_91yljdqrrpz9g00000gn/T/ipykernel_86761/2604228721.py:36: FutureWarning: The default value of regex will change from True to False in a future version.\n",
      "  df['ROOF_DESCRIPTION'] = df['ROOF_DESCRIPTION'].str.replace(\"Roof room\\(s\\), no insulation\\(assumed\\)\",\"Roof room(s), no insulation (assumed)\")\n",
      "/var/folders/ld/qgzpl61x5_91yljdqrrpz9g00000gn/T/ipykernel_86761/2604228721.py:38: FutureWarning: The default value of regex will change from True to False in a future version.\n",
      "  df['ROOF_DESCRIPTION'] = df['ROOF_DESCRIPTION'].str.replace(\"\\(assumed\\)\",\"\")\n",
      "/var/folders/ld/qgzpl61x5_91yljdqrrpz9g00000gn/T/ipykernel_86761/2604228721.py:40: FutureWarning: The default value of regex will change from True to False in a future version.\n",
      "  df['ROOF_DESCRIPTION'] = df['ROOF_DESCRIPTION'].str.replace(r'\\.$','')\n",
      "/var/folders/ld/qgzpl61x5_91yljdqrrpz9g00000gn/T/ipykernel_86761/2604228721.py:41: FutureWarning: The default value of regex will change from True to False in a future version.\n",
      "  df['ROOF_DESCRIPTION'] = df['ROOF_DESCRIPTION'].str.replace(r'\\,$','')\n",
      "/var/folders/ld/qgzpl61x5_91yljdqrrpz9g00000gn/T/ipykernel_86761/2604228721.py:42: FutureWarning: The default value of regex will change from True to False in a future version.\n",
      "  df['ROOF_DESCRIPTION'] = df['ROOF_DESCRIPTION'].str.replace(\"  \\+\",\" +\")\n",
      "/var/folders/ld/qgzpl61x5_91yljdqrrpz9g00000gn/T/ipykernel_86761/2604228721.py:43: FutureWarning: The default value of regex will change from True to False in a future version.\n",
      "  df['ROOF_DESCRIPTION'] = df['ROOF_DESCRIPTION'].str.replace(\"[ \\t]+$\",\"\")\n",
      "/var/folders/ld/qgzpl61x5_91yljdqrrpz9g00000gn/T/ipykernel_86761/2604228721.py:46: FutureWarning: The default value of regex will change from True to False in a future version.\n",
      "  df['ROOF_DESCRIPTION'] = df['ROOF_DESCRIPTION'].str.replace(\"\\*\\*\\* INVALID INPUT Code \\: 57 \\*\\*\\*\",\"\")\n"
     ]
    }
   ],
   "source": [
    "epc_train = roof_cleanup(epc_train)\n",
    "epc_test = roof_cleanup(epc_test)"
   ]
  },
  {
   "cell_type": "code",
   "execution_count": 67,
   "metadata": {},
   "outputs": [
    {
     "data": {
      "text/plain": [
       "267"
      ]
     },
     "execution_count": 67,
     "metadata": {},
     "output_type": "execute_result"
    }
   ],
   "source": [
    "len(set(epc_train['ROOF_DESCRIPTION']))"
   ]
  },
  {
   "cell_type": "code",
   "execution_count": 68,
   "metadata": {},
   "outputs": [],
   "source": [
    "def thermal_roof(df):\n",
    "    \n",
    "    ''' \n",
    "    rounds the average thermal transmittance figure which is within a str field\n",
    "    Parameters\n",
    "      df: a dataframe containing a variable called 'ROOF_DESCRIPTION'\n",
    "    Returns a dataframe \n",
    "    '''\n",
    "    \n",
    "    df['roof_average_thermal_transmittance'] = df['ROOF_DESCRIPTION'].str.findall(r'(\\d.\\d*) W/m²K')\n",
    "    df['roof_average_thermal_transmittance'] = round(df['roof_average_thermal_transmittance'].str[0].astype(float),1)\n",
    "    df['ROOF_DESCRIPTION'] = df.apply(lambda row: 'average thermal transmittance %.1f w/m²k' % (row['roof_average_thermal_transmittance']) if 'Average' in str(row['ROOF_DESCRIPTION']) else row['ROOF_DESCRIPTION'],axis=1)\n",
    "    \n",
    "    return df"
   ]
  },
  {
   "cell_type": "code",
   "execution_count": 69,
   "metadata": {},
   "outputs": [],
   "source": [
    "epc_train = thermal_roof(epc_train)\n",
    "epc_test = thermal_roof(epc_test)"
   ]
  },
  {
   "cell_type": "code",
   "execution_count": 70,
   "metadata": {},
   "outputs": [
    {
     "data": {
      "text/plain": [
       "73"
      ]
     },
     "execution_count": 70,
     "metadata": {},
     "output_type": "execute_result"
    }
   ],
   "source": [
    "len(set(epc_test['ROOF_DESCRIPTION']))"
   ]
  },
  {
   "attachments": {},
   "cell_type": "markdown",
   "metadata": {},
   "source": [
    "### Walls description"
   ]
  },
  {
   "cell_type": "code",
   "execution_count": 71,
   "metadata": {},
   "outputs": [
    {
     "data": {
      "text/plain": [
       "392"
      ]
     },
     "execution_count": 71,
     "metadata": {},
     "output_type": "execute_result"
    }
   ],
   "source": [
    "len(set(epc_train['WALLS_DESCRIPTION']))"
   ]
  },
  {
   "cell_type": "code",
   "execution_count": 72,
   "metadata": {},
   "outputs": [],
   "source": [
    "def walls_cleanup(df): \n",
    "    \n",
    "    ''' \n",
    "    cleans-up the WALLS_DESCRIPTION feature from the EPC dataset\n",
    "    Parameters\n",
    "      df: a dataframe containing a variable called 'WALLS_DESCRIPTION'\n",
    "    Returns a dataframe \n",
    "    '''\n",
    "    \n",
    "    # removing phrases like as built which aren't adding anything\n",
    "    df['WALLS_DESCRIPTION'] = df['WALLS_DESCRIPTION'].str.lower()\n",
    "    df['WALLS_DESCRIPTION'] = df['WALLS_DESCRIPTION'].str.replace(r\"fel y(.*?)u hadeiladwyd, \",\"\")\n",
    "    df['WALLS_DESCRIPTION'] = df['WALLS_DESCRIPTION'].str.replace(\"as built, \",\"\")\n",
    "    df['WALLS_DESCRIPTION'] = df['WALLS_DESCRIPTION'].str.replace(\"cavity\\.\",\"cavity wall,\")\n",
    "    df['WALLS_DESCRIPTION'] = df['WALLS_DESCRIPTION'].str.replace(\"\\(rhagdybiaeth\\)\",\"(assumed)\")\n",
    "    df['WALLS_DESCRIPTION'] = df['WALLS_DESCRIPTION'].str.replace(\"\\(assumed\\)\",\"\")\n",
    "    # translating welsh sentences\n",
    "    df['WALLS_DESCRIPTION'] = df['WALLS_DESCRIPTION'].str.replace(\"waliau ceudod\",\"cavity wall\")\n",
    "    df['WALLS_DESCRIPTION'] = df['WALLS_DESCRIPTION'].str.replace(\"dim inswleiddio\",\"no insulation\")\n",
    "    df['WALLS_DESCRIPTION'] = df['WALLS_DESCRIPTION'].str.replace(\"tywodfaen\",\"sandstone\")\n",
    "    df['WALLS_DESCRIPTION'] = df['WALLS_DESCRIPTION'].str.replace(\"ceudod wedi(.*?)i lenwi\",\"filled cavity\")\n",
    "    df['WALLS_DESCRIPTION'] = df['WALLS_DESCRIPTION'].str.replace(r\"wedi(.*?)u hinswleiddio\",\"insulated\")\n",
    "    df['WALLS_DESCRIPTION'] = df['WALLS_DESCRIPTION'].str.replace(r\"ffr(.*?)m bren\",\"timber frame\")\n",
    "    df['WALLS_DESCRIPTION'] = df['WALLS_DESCRIPTION'].str.replace(\"briciau solet\",\"solid brick\")\n",
    "    df['WALLS_DESCRIPTION'] = df['WALLS_DESCRIPTION'].str.replace(\"wedi(.*?)u hadeiladu yn (.*?)l system\",\"system built\")\n",
    "    df['WALLS_DESCRIPTION'] = df['WALLS_DESCRIPTION'].str.replace(\"inswleiddio rhannol\",\"partial insulation\")\n",
    "    df['WALLS_DESCRIPTION'] = df['WALLS_DESCRIPTION'].str.replace(\"gydag inswleiddio allanol\",\"with external insulation\")\n",
    "    df['WALLS_DESCRIPTION'] = df['WALLS_DESCRIPTION'].str.replace(\"gwenithfaen neu risgraig\",\"granite or whinstone\")\n",
    "    df['WALLS_DESCRIPTION'] = df['WALLS_DESCRIPTION'].str.replace(\"gydag inswleiddio mewnol\",\"with internal insulation\")\n",
    "    # standardising punctuation\n",
    "    df['WALLS_DESCRIPTION'] = df['WALLS_DESCRIPTION'].str.replace(\"solid brick\\.\",\"solid brick,\")\n",
    "    # standardising language\n",
    "    df['WALLS_DESCRIPTION'] = df['WALLS_DESCRIPTION'].str.replace(\"granite or whin,\",\"granite or whinstone,\")\n",
    "    df['WALLS_DESCRIPTION'] = df['WALLS_DESCRIPTION'].str.replace(\"stone \\(granite or whin\\)\\.\",\"granite or whinstone,\")\n",
    "    df['WALLS_DESCRIPTION'] = df['WALLS_DESCRIPTION'].str.replace(\"with external insulation\",\"insulated\")\n",
    "    df['WALLS_DESCRIPTION'] = df['WALLS_DESCRIPTION'].str.replace(\"with internal insulation\",\"insulated\")\n",
    "    df['WALLS_DESCRIPTION'] = df['WALLS_DESCRIPTION'].str.replace(\"with additional insulation\",\"insulated\")\n",
    "    df['WALLS_DESCRIPTION'] = df['WALLS_DESCRIPTION'].str.replace(\"with insulation\",\"insulated\")\n",
    "    # clean up\n",
    "    df['WALLS_DESCRIPTION'] = df['WALLS_DESCRIPTION'].str.replace(r'\\.$','')\n",
    "    df['WALLS_DESCRIPTION'] = df['WALLS_DESCRIPTION'].str.replace('\\+ chr\\(13\\) \\+','+')\n",
    "    df['WALLS_DESCRIPTION'] = df['WALLS_DESCRIPTION'].str.replace(\"  \\+\",\" +\")\n",
    "    df['WALLS_DESCRIPTION'] = df['WALLS_DESCRIPTION'].str.replace(\"[ \\t]+$\",\"\")\n",
    "    df['WALLS_DESCRIPTION'] = df['WALLS_DESCRIPTION'].str.replace('timber frame\\.','timber frame,')\n",
    "    df['WALLS_DESCRIPTION'] = df['WALLS_DESCRIPTION'].str.replace('\\?','')\n",
    "    df['WALLS_DESCRIPTION'] = df['WALLS_DESCRIPTION'].str.replace('system built\\.','system built,')\n",
    "    \n",
    "    return df"
   ]
  },
  {
   "cell_type": "code",
   "execution_count": 73,
   "metadata": {},
   "outputs": [
    {
     "name": "stderr",
     "output_type": "stream",
     "text": [
      "/var/folders/ld/qgzpl61x5_91yljdqrrpz9g00000gn/T/ipykernel_86761/194093926.py:12: FutureWarning: The default value of regex will change from True to False in a future version.\n",
      "  df['WALLS_DESCRIPTION'] = df['WALLS_DESCRIPTION'].str.replace(r\"fel y(.*?)u hadeiladwyd, \",\"\")\n",
      "/var/folders/ld/qgzpl61x5_91yljdqrrpz9g00000gn/T/ipykernel_86761/194093926.py:14: FutureWarning: The default value of regex will change from True to False in a future version.\n",
      "  df['WALLS_DESCRIPTION'] = df['WALLS_DESCRIPTION'].str.replace(\"cavity\\.\",\"cavity wall,\")\n",
      "/var/folders/ld/qgzpl61x5_91yljdqrrpz9g00000gn/T/ipykernel_86761/194093926.py:15: FutureWarning: The default value of regex will change from True to False in a future version.\n",
      "  df['WALLS_DESCRIPTION'] = df['WALLS_DESCRIPTION'].str.replace(\"\\(rhagdybiaeth\\)\",\"(assumed)\")\n",
      "/var/folders/ld/qgzpl61x5_91yljdqrrpz9g00000gn/T/ipykernel_86761/194093926.py:16: FutureWarning: The default value of regex will change from True to False in a future version.\n",
      "  df['WALLS_DESCRIPTION'] = df['WALLS_DESCRIPTION'].str.replace(\"\\(assumed\\)\",\"\")\n",
      "/var/folders/ld/qgzpl61x5_91yljdqrrpz9g00000gn/T/ipykernel_86761/194093926.py:21: FutureWarning: The default value of regex will change from True to False in a future version.\n",
      "  df['WALLS_DESCRIPTION'] = df['WALLS_DESCRIPTION'].str.replace(\"ceudod wedi(.*?)i lenwi\",\"filled cavity\")\n",
      "/var/folders/ld/qgzpl61x5_91yljdqrrpz9g00000gn/T/ipykernel_86761/194093926.py:22: FutureWarning: The default value of regex will change from True to False in a future version.\n",
      "  df['WALLS_DESCRIPTION'] = df['WALLS_DESCRIPTION'].str.replace(r\"wedi(.*?)u hinswleiddio\",\"insulated\")\n",
      "/var/folders/ld/qgzpl61x5_91yljdqrrpz9g00000gn/T/ipykernel_86761/194093926.py:23: FutureWarning: The default value of regex will change from True to False in a future version.\n",
      "  df['WALLS_DESCRIPTION'] = df['WALLS_DESCRIPTION'].str.replace(r\"ffr(.*?)m bren\",\"timber frame\")\n",
      "/var/folders/ld/qgzpl61x5_91yljdqrrpz9g00000gn/T/ipykernel_86761/194093926.py:25: FutureWarning: The default value of regex will change from True to False in a future version.\n",
      "  df['WALLS_DESCRIPTION'] = df['WALLS_DESCRIPTION'].str.replace(\"wedi(.*?)u hadeiladu yn (.*?)l system\",\"system built\")\n",
      "/var/folders/ld/qgzpl61x5_91yljdqrrpz9g00000gn/T/ipykernel_86761/194093926.py:31: FutureWarning: The default value of regex will change from True to False in a future version.\n",
      "  df['WALLS_DESCRIPTION'] = df['WALLS_DESCRIPTION'].str.replace(\"solid brick\\.\",\"solid brick,\")\n",
      "/var/folders/ld/qgzpl61x5_91yljdqrrpz9g00000gn/T/ipykernel_86761/194093926.py:34: FutureWarning: The default value of regex will change from True to False in a future version.\n",
      "  df['WALLS_DESCRIPTION'] = df['WALLS_DESCRIPTION'].str.replace(\"stone \\(granite or whin\\)\\.\",\"granite or whinstone,\")\n",
      "/var/folders/ld/qgzpl61x5_91yljdqrrpz9g00000gn/T/ipykernel_86761/194093926.py:40: FutureWarning: The default value of regex will change from True to False in a future version.\n",
      "  df['WALLS_DESCRIPTION'] = df['WALLS_DESCRIPTION'].str.replace(r'\\.$','')\n",
      "/var/folders/ld/qgzpl61x5_91yljdqrrpz9g00000gn/T/ipykernel_86761/194093926.py:41: FutureWarning: The default value of regex will change from True to False in a future version.\n",
      "  df['WALLS_DESCRIPTION'] = df['WALLS_DESCRIPTION'].str.replace('\\+ chr\\(13\\) \\+','+')\n",
      "/var/folders/ld/qgzpl61x5_91yljdqrrpz9g00000gn/T/ipykernel_86761/194093926.py:42: FutureWarning: The default value of regex will change from True to False in a future version.\n",
      "  df['WALLS_DESCRIPTION'] = df['WALLS_DESCRIPTION'].str.replace(\"  \\+\",\" +\")\n",
      "/var/folders/ld/qgzpl61x5_91yljdqrrpz9g00000gn/T/ipykernel_86761/194093926.py:43: FutureWarning: The default value of regex will change from True to False in a future version.\n",
      "  df['WALLS_DESCRIPTION'] = df['WALLS_DESCRIPTION'].str.replace(\"[ \\t]+$\",\"\")\n",
      "/var/folders/ld/qgzpl61x5_91yljdqrrpz9g00000gn/T/ipykernel_86761/194093926.py:44: FutureWarning: The default value of regex will change from True to False in a future version.\n",
      "  df['WALLS_DESCRIPTION'] = df['WALLS_DESCRIPTION'].str.replace('timber frame\\.','timber frame,')\n",
      "/var/folders/ld/qgzpl61x5_91yljdqrrpz9g00000gn/T/ipykernel_86761/194093926.py:45: FutureWarning: The default value of regex will change from True to False in a future version.\n",
      "  df['WALLS_DESCRIPTION'] = df['WALLS_DESCRIPTION'].str.replace('\\?','')\n",
      "/var/folders/ld/qgzpl61x5_91yljdqrrpz9g00000gn/T/ipykernel_86761/194093926.py:46: FutureWarning: The default value of regex will change from True to False in a future version.\n",
      "  df['WALLS_DESCRIPTION'] = df['WALLS_DESCRIPTION'].str.replace('system built\\.','system built,')\n"
     ]
    }
   ],
   "source": [
    "epc_train = walls_cleanup(epc_train)\n",
    "epc_test = walls_cleanup(epc_test)"
   ]
  },
  {
   "cell_type": "code",
   "execution_count": 74,
   "metadata": {},
   "outputs": [
    {
     "data": {
      "text/plain": [
       "352"
      ]
     },
     "execution_count": 74,
     "metadata": {},
     "output_type": "execute_result"
    }
   ],
   "source": [
    "len(set(epc_train['WALLS_DESCRIPTION']))"
   ]
  },
  {
   "cell_type": "code",
   "execution_count": 75,
   "metadata": {},
   "outputs": [],
   "source": [
    "def thermal_walls(df):\n",
    "    \n",
    "    ''' \n",
    "    rounds the average thermal transmittance figure which is within a str field\n",
    "    Parameters\n",
    "      df: a dataframe containing a variable called 'WALLS_DESCRIPTION'\n",
    "    Returns a dataframe \n",
    "    '''\n",
    "    \n",
    "    df['walls_average_thermal_transmittance'] = df['WALLS_DESCRIPTION'].str.findall(r'\\d.\\d\\d')\n",
    "    df['walls_average_thermal_transmittance'] = round(df['walls_average_thermal_transmittance'].str[0].astype(float),1)\n",
    "    df['WALLS_DESCRIPTION'] = df.apply(lambda row: 'average thermal transmittance %.1f w/m²k' % (row['walls_average_thermal_transmittance']) if 'average' in str(row['WALLS_DESCRIPTION']) else row['WALLS_DESCRIPTION'],axis=1)\n",
    "    \n",
    "    return df"
   ]
  },
  {
   "cell_type": "code",
   "execution_count": 76,
   "metadata": {},
   "outputs": [],
   "source": [
    "epc_train = thermal_walls(epc_train)\n",
    "epc_test = thermal_walls(epc_test)"
   ]
  },
  {
   "cell_type": "code",
   "execution_count": 77,
   "metadata": {},
   "outputs": [
    {
     "data": {
      "text/plain": [
       "77"
      ]
     },
     "execution_count": 77,
     "metadata": {},
     "output_type": "execute_result"
    }
   ],
   "source": [
    "len(set(epc_train['WALLS_DESCRIPTION']))"
   ]
  },
  {
   "attachments": {},
   "cell_type": "markdown",
   "metadata": {},
   "source": [
    "### windows description"
   ]
  },
  {
   "cell_type": "code",
   "execution_count": 78,
   "metadata": {},
   "outputs": [
    {
     "data": {
      "text/plain": [
       "56"
      ]
     },
     "execution_count": 78,
     "metadata": {},
     "output_type": "execute_result"
    }
   ],
   "source": [
    "len(set(epc_train['WINDOWS_DESCRIPTION']))"
   ]
  },
  {
   "cell_type": "code",
   "execution_count": 79,
   "metadata": {},
   "outputs": [],
   "source": [
    "def windows_cleanup(df): \n",
    "    \n",
    "    ''' \n",
    "    cleans-up the WINDOWS_DESCRIPTION feature from the EPC dataset\n",
    "    Parameters\n",
    "      df: a dataframe containing a variable called 'WINDOWS_DESCRIPTION'\n",
    "    Returns a dataframe \n",
    "    '''\n",
    "    \n",
    "    df['WINDOWS_DESCRIPTION'] = df['WINDOWS_DESCRIPTION'].str.lower()\n",
    "    # translating welsh sentences\n",
    "    df['WINDOWS_DESCRIPTION'] = df['WINDOWS_DESCRIPTION'].str.replace(\"ffenestri perfformiad uchel\",\"high performance glazing\")\n",
    "    df['WINDOWS_DESCRIPTION'] = df['WINDOWS_DESCRIPTION'].str.replace(\"gwydrau dwbl gan mwyaf\",\"mostly double glazing\")\n",
    "    df['WINDOWS_DESCRIPTION'] = df['WINDOWS_DESCRIPTION'].str.replace(\"rhai gwydrau dwbl\",\"partial double glazing\")\n",
    "    df['WINDOWS_DESCRIPTION'] = df['WINDOWS_DESCRIPTION'].str.replace(\"gwydrau sengl\",\"single glazing\")\n",
    "    df['WINDOWS_DESCRIPTION'] = df['WINDOWS_DESCRIPTION'].str.replace(\"gwydrau dwbl rhannol\",\"partial double glazing\")\n",
    "    df['WINDOWS_DESCRIPTION'] = df['WINDOWS_DESCRIPTION'].str.replace(\"gwydrau dwbl llawn\",\"fully double glazing\")\n",
    "    df['WINDOWS_DESCRIPTION'] = df['WINDOWS_DESCRIPTION'].str.replace(\"gwydrau lluosog ym mhobman\",\"multiple glazing throughout\")\n",
    "    df['WINDOWS_DESCRIPTION'] = df['WINDOWS_DESCRIPTION'].str.replace(\"gwydrau eilaidd llawn\",\"full secondary glazing\")\n",
    "    # standardising language\n",
    "    df['WINDOWS_DESCRIPTION'] = df['WINDOWS_DESCRIPTION'].str.replace(\"glazed\",\"glazing\")\n",
    "    df['WINDOWS_DESCRIPTION'] = df['WINDOWS_DESCRIPTION'].str.replace(\"fully\",\"full\")\n",
    "    df['WINDOWS_DESCRIPTION'] = df['WINDOWS_DESCRIPTION'].str.replace(\"fully\",\"full\")\n",
    "    # cleanup\n",
    "    df['WINDOWS_DESCRIPTION'] = df['WINDOWS_DESCRIPTION'].str.replace(\"single glazingsingle glazing\",\"single glazing\")\n",
    "    df['WINDOWS_DESCRIPTION'] = df['WINDOWS_DESCRIPTION'].str.replace(\"single glazingdouble glazing\",\"single glazing and double glazing\")\n",
    "    df['WINDOWS_DESCRIPTION'] = df['WINDOWS_DESCRIPTION'].str.replace(\"single glazingsecondary glazing\",\"single glazing and secondary glazing\")\n",
    "    df['WINDOWS_DESCRIPTION'] = df['WINDOWS_DESCRIPTION'].str.replace(\"[ \\t]+$\",\"\")\n",
    "    df['WINDOWS_DESCRIPTION'] = df['WINDOWS_DESCRIPTION'].str.replace(\"  \",\" \")\n",
    "    \n",
    "    return df"
   ]
  },
  {
   "cell_type": "code",
   "execution_count": 80,
   "metadata": {},
   "outputs": [
    {
     "name": "stderr",
     "output_type": "stream",
     "text": [
      "/var/folders/ld/qgzpl61x5_91yljdqrrpz9g00000gn/T/ipykernel_86761/1212584499.py:28: FutureWarning: The default value of regex will change from True to False in a future version.\n",
      "  df['WINDOWS_DESCRIPTION'] = df['WINDOWS_DESCRIPTION'].str.replace(\"[ \\t]+$\",\"\")\n"
     ]
    }
   ],
   "source": [
    "epc_train = windows_cleanup(epc_train)\n",
    "epc_test = windows_cleanup(epc_test)"
   ]
  },
  {
   "cell_type": "code",
   "execution_count": 81,
   "metadata": {},
   "outputs": [
    {
     "data": {
      "text/plain": [
       "37"
      ]
     },
     "execution_count": 81,
     "metadata": {},
     "output_type": "execute_result"
    }
   ],
   "source": [
    "len(set(epc_train['WINDOWS_DESCRIPTION']))"
   ]
  },
  {
   "attachments": {},
   "cell_type": "markdown",
   "metadata": {},
   "source": [
    "### hotwater description"
   ]
  },
  {
   "cell_type": "code",
   "execution_count": 82,
   "metadata": {},
   "outputs": [],
   "source": [
    "def hotwater_cleanup(df):\n",
    "    \n",
    "    ''' \n",
    "    cleans-up the HOTWATER_DESCRIPTION feature from the EPC dataset\n",
    "    Parameters\n",
    "      df: a dataframe containing a variable called 'HOTWATER_DESCRIPTION'\n",
    "    Returns a dataframe \n",
    "    '''\n",
    "    \n",
    "    # removing spaces at the end\n",
    "    df['HOTWATER_DESCRIPTION'] = df['HOTWATER_DESCRIPTION'].str.replace(\"[ \\t]+$\",\"\")\n",
    "\n",
    "    # translating welsh sentences\n",
    "    df['HOTWATER_DESCRIPTION'] = df['HOTWATER_DESCRIPTION'].str.replace(r\"O(.*?)r brif system\",\"From main system\")\n",
    "    df['HOTWATER_DESCRIPTION'] = df['HOTWATER_DESCRIPTION'].str.replace(r\"Trochi trydan\",\"Electric immersion\")\n",
    "    df['HOTWATER_DESCRIPTION'] = df['HOTWATER_DESCRIPTION'].str.replace(r\"an-frig\",\"off-peak\")\n",
    "    df['HOTWATER_DESCRIPTION'] = df['HOTWATER_DESCRIPTION'].str.replace(r\"O system eilaidd\",\"From secondary system\")\n",
    "    df['HOTWATER_DESCRIPTION'] = df['HOTWATER_DESCRIPTION'].str.replace(r\"Nwy wrth fwy nag un pwynt\",\"Gas multipoint\")\n",
    "    df['HOTWATER_DESCRIPTION'] = df['HOTWATER_DESCRIPTION'].str.replace(r\"Popty estynedig olew\",\"Oil range cooker\")\n",
    "    df['HOTWATER_DESCRIPTION'] = df['HOTWATER_DESCRIPTION'].str.replace(r\"tarriff safonol\",\"standard tariff\")\n",
    "    df['HOTWATER_DESCRIPTION'] = df['HOTWATER_DESCRIPTION'].str.replace(r\"Dim system ar gael\",\"No system present\")\n",
    "    df['HOTWATER_DESCRIPTION'] = df['HOTWATER_DESCRIPTION'].str.replace(r\"adfer gwres nwyon ffliw\",\"flue gas heat recovery\")\n",
    "    df['HOTWATER_DESCRIPTION'] = df['HOTWATER_DESCRIPTION'].str.replace(r\"gydag ynni(.*?)r haul\",\"plus solar\")\n",
    "    df['HOTWATER_DESCRIPTION'] = df['HOTWATER_DESCRIPTION'].str.replace(r\"dim thermostat ar y silindr\",\"no cylinderstat\")\n",
    "    df['HOTWATER_DESCRIPTION'] = df['HOTWATER_DESCRIPTION'].str.replace(r\"rhagdybir bod twymwr tanddwr trydan\",\"electric immersion assumed\")\n",
    "    df['HOTWATER_DESCRIPTION'] = df['HOTWATER_DESCRIPTION'].str.replace(r\"an-frig\",\"off peak\")\n",
    "    df['HOTWATER_DESCRIPTION'] = df['HOTWATER_DESCRIPTION'].str.replace(r\"Twymwr tanddwr\",\"underfloor heating\")\n",
    "\n",
    "    # standardising language\n",
    "    df['HOTWATER_DESCRIPTION'] = df['HOTWATER_DESCRIPTION'].str.replace(\"cylinder thermostat\",\"cylinderstat\")\n",
    "    df['HOTWATER_DESCRIPTION'] = df['HOTWATER_DESCRIPTION'].str.replace(\"No system present :\",\"No system present:\")\n",
    "    df['HOTWATER_DESCRIPTION'] = df['HOTWATER_DESCRIPTION'].str.replace(\"No hot water system present -\",\"No system present:\")\n",
    "    df['HOTWATER_DESCRIPTION'] = df['HOTWATER_DESCRIPTION'].str.replace(\"From community scheme\",\"Community scheme\")\n",
    "    df['HOTWATER_DESCRIPTION'] = df['HOTWATER_DESCRIPTION'].str.replace(\"Community heat pump\",\"Community scheme with CHP\")\n",
    "    df['HOTWATER_DESCRIPTION'] = df['HOTWATER_DESCRIPTION'].str.replace(\"From secondary heater\",\"From secondary system\")\n",
    "    df['HOTWATER_DESCRIPTION'] = df['HOTWATER_DESCRIPTION'].str.replace(\"SAP05:Hot-Water\",\"SAP:Hot-Water\")\n",
    "    df['HOTWATER_DESCRIPTION'] = df['HOTWATER_DESCRIPTION'].str.replace(\"community scheme\",\"Community scheme\")\n",
    "    df['HOTWATER_DESCRIPTION'] = df['HOTWATER_DESCRIPTION'].str.replace(\"plus solar, no cylinderstat\",\"no cylinderstat, plus solar\")\n",
    "    df['HOTWATER_DESCRIPTION'] = df['HOTWATER_DESCRIPTION'].str.replace(\"From second main heating system\",\"From secondary system\")\n",
    "    df['HOTWATER_DESCRIPTION'] = df['HOTWATER_DESCRIPTION'].str.replace(\"none\",\"No system present: electric immersion assumed\")\n",
    "    df['HOTWATER_DESCRIPTION'] = df['HOTWATER_DESCRIPTION'].str.replace(\"plus solar, flue gas heat recovery\",\"flue gas heat recovery, plus solar\")\n",
    "    df['HOTWATER_DESCRIPTION'] = df['HOTWATER_DESCRIPTION'].str.replace(\"no cylinderstat, no cylinderstat\",\"no cylinderstat\")\n",
    "\n",
    "    # cleanup\n",
    "    df['HOTWATER_DESCRIPTION'] = df['HOTWATER_DESCRIPTION'].str.replace(\"No system present\\?electric immersion assumed\",\"No system present: electric immersion assumed\")\n",
    "    df['HOTWATER_DESCRIPTION'] = df['HOTWATER_DESCRIPTION'].replace(\"***SAMPLE***\",np.nan)\n",
    "\n",
    "    return df"
   ]
  },
  {
   "cell_type": "code",
   "execution_count": 83,
   "metadata": {},
   "outputs": [
    {
     "name": "stderr",
     "output_type": "stream",
     "text": [
      "/var/folders/ld/qgzpl61x5_91yljdqrrpz9g00000gn/T/ipykernel_86761/1945241965.py:11: FutureWarning: The default value of regex will change from True to False in a future version.\n",
      "  df['HOTWATER_DESCRIPTION'] = df['HOTWATER_DESCRIPTION'].str.replace(\"[ \\t]+$\",\"\")\n",
      "/var/folders/ld/qgzpl61x5_91yljdqrrpz9g00000gn/T/ipykernel_86761/1945241965.py:14: FutureWarning: The default value of regex will change from True to False in a future version.\n",
      "  df['HOTWATER_DESCRIPTION'] = df['HOTWATER_DESCRIPTION'].str.replace(r\"O(.*?)r brif system\",\"From main system\")\n",
      "/var/folders/ld/qgzpl61x5_91yljdqrrpz9g00000gn/T/ipykernel_86761/1945241965.py:23: FutureWarning: The default value of regex will change from True to False in a future version.\n",
      "  df['HOTWATER_DESCRIPTION'] = df['HOTWATER_DESCRIPTION'].str.replace(r\"gydag ynni(.*?)r haul\",\"plus solar\")\n",
      "/var/folders/ld/qgzpl61x5_91yljdqrrpz9g00000gn/T/ipykernel_86761/1945241965.py:45: FutureWarning: The default value of regex will change from True to False in a future version.\n",
      "  df['HOTWATER_DESCRIPTION'] = df['HOTWATER_DESCRIPTION'].str.replace(\"No system present\\?electric immersion assumed\",\"No system present: electric immersion assumed\")\n"
     ]
    }
   ],
   "source": [
    "epc_train = hotwater_cleanup(epc_train)\n",
    "epc_test = hotwater_cleanup(epc_test)"
   ]
  },
  {
   "cell_type": "code",
   "execution_count": 84,
   "metadata": {},
   "outputs": [
    {
     "data": {
      "text/plain": [
       "117"
      ]
     },
     "execution_count": 84,
     "metadata": {},
     "output_type": "execute_result"
    }
   ],
   "source": [
    "len(set(epc_train['HOTWATER_DESCRIPTION']))"
   ]
  },
  {
   "attachments": {},
   "cell_type": "markdown",
   "metadata": {},
   "source": [
    "### main heating controls"
   ]
  },
  {
   "cell_type": "code",
   "execution_count": 85,
   "metadata": {},
   "outputs": [
    {
     "data": {
      "text/plain": [
       "626920"
      ]
     },
     "execution_count": 85,
     "metadata": {},
     "output_type": "execute_result"
    }
   ],
   "source": [
    "len(set(epc_train['MAIN_HEATING_CONTROLS']))"
   ]
  },
  {
   "cell_type": "code",
   "execution_count": 86,
   "metadata": {},
   "outputs": [],
   "source": [
    "def heat_control_cleanup(df):\n",
    "    \n",
    "    ''' \n",
    "    cleans-up the MAIN_HEATING_CONTROLS feature from the EPC dataset\n",
    "    Parameters\n",
    "      df: a dataframe containing a variable called 'MAIN_HEATING_CONTROLS'\n",
    "    Returns a dataframe \n",
    "    '''\n",
    "    \n",
    "    df['MAIN_HEATING_CONTROLS'] = df['MAIN_HEATING_CONTROLS'].str.lower()\n",
    "\n",
    "    # translating welsh sentences\n",
    "    df['MAIN_HEATING_CONTROLS'] = df['MAIN_HEATING_CONTROLS'].str.replace(r\"rheoli.r t.l . llaw\",\"manual charge control\")\n",
    "    df['MAIN_HEATING_CONTROLS'] = df['MAIN_HEATING_CONTROLS'].str.replace(\"rhaglennydd, dim thermostat ystafell\",\"programmer, no room thermostat\")\n",
    "    df['MAIN_HEATING_CONTROLS'] = df['MAIN_HEATING_CONTROLS'].str.replace(\"rheolaeth amser a rheolaeth parthau tymheredd\",\"time and temperature zone control\")\n",
    "    df['MAIN_HEATING_CONTROLS'] = df['MAIN_HEATING_CONTROLS'].str.replace(\"rhaglennydd a thermostat ystafell\",\"programmer and room thermostat\")\n",
    "    df['MAIN_HEATING_CONTROLS'] = df['MAIN_HEATING_CONTROLS'].str.replace(\"rhaglennydd a thermostatau ar y cyfarpar\",\"programmer and appliance thermostats\")\n",
    "    df['MAIN_HEATING_CONTROLS'] = df['MAIN_HEATING_CONTROLS'].str.replace(\"rhaglennydd ac o leiaf ddau thermostat ystafell\",\"programmer and at least two room thermostats\")\n",
    "    df['MAIN_HEATING_CONTROLS'] = df['MAIN_HEATING_CONTROLS'].str.replace(\"thermostat ystafell yn unig\",\"room thermostat only\")\n",
    "    df['MAIN_HEATING_CONTROLS'] = df['MAIN_HEATING_CONTROLS'].str.replace(\"dim rheolaeth thermostatig ar dymheredd yr ystafell\",\"no thermostatic control of room temperature\")\n",
    "    df['MAIN_HEATING_CONTROLS'] = df['MAIN_HEATING_CONTROLS'].str.replace(\"rheoli gwefr drydanol yn awtomatig\",\"automatic charge control\")\n",
    "    df['MAIN_HEATING_CONTROLS'] = df['MAIN_HEATING_CONTROLS'].str.replace(\"dim rheolaeth amser na rheolaeth thermostatig ar dymheredd yr ystafell\",\"no time or thermostatic control of room temperature\")\n",
    "    df['MAIN_HEATING_CONTROLS'] = df['MAIN_HEATING_CONTROLS'].str.replace(\"trvs a falf osgoi\",\"trvs and bypass\")\n",
    "    df['MAIN_HEATING_CONTROLS'] = df['MAIN_HEATING_CONTROLS'].str.replace(\"rhaglennydd\",\"programmer\")\n",
    "    df['MAIN_HEATING_CONTROLS'] = df['MAIN_HEATING_CONTROLS'].str.replace(\"tal un gyfradd, thermostat ystafell yn unig\",\"flat rate charging, room thermostat only\")\n",
    "    df['MAIN_HEATING_CONTROLS'] = df['MAIN_HEATING_CONTROLS'].str.replace(\"thermostat ystafell a trvs\",\"room thermostat and trvs\")\n",
    "    df['MAIN_HEATING_CONTROLS'] = df['MAIN_HEATING_CONTROLS'].str.replace(\"t(.*?)l un gyfradd\",\"flat rate charging\")\n",
    "    df['MAIN_HEATING_CONTROLS'] = df['MAIN_HEATING_CONTROLS'].str.replace(\"thermostatau ar y cyfarpar\",\"appliance thermostat\")\n",
    "    df['MAIN_HEATING_CONTROLS'] = df['MAIN_HEATING_CONTROLS'].str.replace(\"dim\",\"none\")\n",
    "\n",
    "    # standardising language\n",
    "    df['MAIN_HEATING_CONTROLS'] = df['MAIN_HEATING_CONTROLS'].str.replace(\"programmer, no thermostat\",\"programmer, no room thermostat\")\n",
    "    df['MAIN_HEATING_CONTROLS'] = df['MAIN_HEATING_CONTROLS'].str.replace(\"flat rate charging\\*\",\"flat rate charging\")\n",
    "    df['MAIN_HEATING_CONTROLS'] = df['MAIN_HEATING_CONTROLS'].str.replace(\"\\+\",\"and\")\n",
    "    df['MAIN_HEATING_CONTROLS'] = df['MAIN_HEATING_CONTROLS'].str.replace(\"\\&\",\"and\")\n",
    "    df['MAIN_HEATING_CONTROLS'] = df['MAIN_HEATING_CONTROLS'].str.replace(\"trv.s\",\"trvs\")\n",
    "    df['MAIN_HEATING_CONTROLS'] = df['MAIN_HEATING_CONTROLS'].str.replace(\"thermostats\",\"thermostat\")\n",
    "    df['MAIN_HEATING_CONTROLS'] = df['MAIN_HEATING_CONTROLS'].str.replace(\"communit \",\"community \")\n",
    "    df['MAIN_HEATING_CONTROLS'] = df['MAIN_HEATING_CONTROLS'].str.replace(\"to the use of community heating\",\"to use of community heating\")\n",
    "    df['MAIN_HEATING_CONTROLS'] = df['MAIN_HEATING_CONTROLS'].str.replace(\" stat\",\" thermostat\")\n",
    "    df['MAIN_HEATING_CONTROLS'] = df['MAIN_HEATING_CONTROLS'].str.replace(\"controls\",\"control\")\n",
    "    df['MAIN_HEATING_CONTROLS'] = df['MAIN_HEATING_CONTROLS'].str.replace(\"prog \",\"programmer \")\n",
    "    df['MAIN_HEATING_CONTROLS'] = df['MAIN_HEATING_CONTROLS'].str.replace(\"program \",\"programmer \")\n",
    "    df['MAIN_HEATING_CONTROLS'] = df['MAIN_HEATING_CONTROLS'].str.replace(\"programmerand\",\"programmer and\")\n",
    "    df['MAIN_HEATING_CONTROLS'] = df['MAIN_HEATING_CONTROLS'].str.replace(\"delayed start thermostat and program and trvs\",\"delayed start thermostat, program and trvs\")\n",
    "    df['MAIN_HEATING_CONTROLS'] = df['MAIN_HEATING_CONTROLS'].str.replace(\"thermostatic\",\"thermostat\")\n",
    "    df['MAIN_HEATING_CONTROLS'] = df['MAIN_HEATING_CONTROLS'].str.replace(\"flat rate charging, programmer no room thermostat\",\"flat rate charging, programmer, no room thermostat\")\n",
    "    df['MAIN_HEATING_CONTROLS'] = df['MAIN_HEATING_CONTROLS'].str.replace(\" 2 \",\" two \")\n",
    "    df['MAIN_HEATING_CONTROLS'] = df['MAIN_HEATING_CONTROLS'].str.replace(\"roomstat\",\"room thermostat\")\n",
    "    df['MAIN_HEATING_CONTROLS'] = df['MAIN_HEATING_CONTROLS'].str.replace(\"programmer and room thermostat and trvs\",\"programmer, room thermostat and trvs\")\n",
    "    df['MAIN_HEATING_CONTROLS'] = df['MAIN_HEATING_CONTROLS'].str.replace(\"programmer and trvs and boiler energy manager\",\"programmer, trvs and boiler energy manager\")\n",
    "    df['MAIN_HEATING_CONTROLS'] = df['MAIN_HEATING_CONTROLS'].str.replace(\"programmer and trvs and bypass\",\"programmer, trvs and bypass\")\n",
    "    df['MAIN_HEATING_CONTROLS'] = df['MAIN_HEATING_CONTROLS'].str.replace(\"programmer and trvs and flow switch\",\"programmer, trvs and flow switch\")\n",
    "    df['MAIN_HEATING_CONTROLS'] = df['MAIN_HEATING_CONTROLS'].str.replace(\"temp+$\",\"temperature\")\n",
    "    df['MAIN_HEATING_CONTROLS'] = df['MAIN_HEATING_CONTROLS'].str.replace(\"no thermostat control of room temperature\",\"no thermostat control\")\n",
    "    df['MAIN_HEATING_CONTROLS'] = df['MAIN_HEATING_CONTROLS'].str.replace(\"appliance thermostat and programmer\",\"programmer and appliance thermostat\")\n",
    "    df['MAIN_HEATING_CONTROLS'] = df['MAIN_HEATING_CONTROLS'].str.replace(\"delayed start thermostat and programmer and trvs\",\"delayed start thermostat, programmer and trvs\")\n",
    "    df['MAIN_HEATING_CONTROLS'] = df['MAIN_HEATING_CONTROLS'].str.replace(\"no time or thermostat control of temperature\",\"no time or thermostat control of room temperature\")\n",
    "    df['MAIN_HEATING_CONTROLS'] = df['MAIN_HEATING_CONTROLS'].str.replace(\"programmer\\?and\",\"programmer and\")\n",
    "\n",
    "    \n",
    "    return df"
   ]
  },
  {
   "cell_type": "code",
   "execution_count": 87,
   "metadata": {},
   "outputs": [
    {
     "name": "stderr",
     "output_type": "stream",
     "text": [
      "/var/folders/ld/qgzpl61x5_91yljdqrrpz9g00000gn/T/ipykernel_86761/1223281842.py:13: FutureWarning: The default value of regex will change from True to False in a future version.\n",
      "  df['MAIN_HEATING_CONTROLS'] = df['MAIN_HEATING_CONTROLS'].str.replace(r\"rheoli.r t.l . llaw\",\"manual charge control\")\n",
      "/var/folders/ld/qgzpl61x5_91yljdqrrpz9g00000gn/T/ipykernel_86761/1223281842.py:27: FutureWarning: The default value of regex will change from True to False in a future version.\n",
      "  df['MAIN_HEATING_CONTROLS'] = df['MAIN_HEATING_CONTROLS'].str.replace(\"t(.*?)l un gyfradd\",\"flat rate charging\")\n",
      "/var/folders/ld/qgzpl61x5_91yljdqrrpz9g00000gn/T/ipykernel_86761/1223281842.py:33: FutureWarning: The default value of regex will change from True to False in a future version.\n",
      "  df['MAIN_HEATING_CONTROLS'] = df['MAIN_HEATING_CONTROLS'].str.replace(\"flat rate charging\\*\",\"flat rate charging\")\n",
      "/var/folders/ld/qgzpl61x5_91yljdqrrpz9g00000gn/T/ipykernel_86761/1223281842.py:34: FutureWarning: The default value of regex will change from True to False in a future version.\n",
      "  df['MAIN_HEATING_CONTROLS'] = df['MAIN_HEATING_CONTROLS'].str.replace(\"\\+\",\"and\")\n",
      "/var/folders/ld/qgzpl61x5_91yljdqrrpz9g00000gn/T/ipykernel_86761/1223281842.py:35: FutureWarning: The default value of regex will change from True to False in a future version.\n",
      "  df['MAIN_HEATING_CONTROLS'] = df['MAIN_HEATING_CONTROLS'].str.replace(\"\\&\",\"and\")\n",
      "/var/folders/ld/qgzpl61x5_91yljdqrrpz9g00000gn/T/ipykernel_86761/1223281842.py:36: FutureWarning: The default value of regex will change from True to False in a future version.\n",
      "  df['MAIN_HEATING_CONTROLS'] = df['MAIN_HEATING_CONTROLS'].str.replace(\"trv.s\",\"trvs\")\n",
      "/var/folders/ld/qgzpl61x5_91yljdqrrpz9g00000gn/T/ipykernel_86761/1223281842.py:54: FutureWarning: The default value of regex will change from True to False in a future version.\n",
      "  df['MAIN_HEATING_CONTROLS'] = df['MAIN_HEATING_CONTROLS'].str.replace(\"temp+$\",\"temperature\")\n",
      "/var/folders/ld/qgzpl61x5_91yljdqrrpz9g00000gn/T/ipykernel_86761/1223281842.py:59: FutureWarning: The default value of regex will change from True to False in a future version.\n",
      "  df['MAIN_HEATING_CONTROLS'] = df['MAIN_HEATING_CONTROLS'].str.replace(\"programmer\\?and\",\"programmer and\")\n"
     ]
    }
   ],
   "source": [
    "epc_train = heat_control_cleanup(epc_train)\n",
    "epc_test = heat_control_cleanup(epc_test)"
   ]
  },
  {
   "cell_type": "code",
   "execution_count": 88,
   "metadata": {},
   "outputs": [
    {
     "data": {
      "text/plain": [
       "626860"
      ]
     },
     "execution_count": 88,
     "metadata": {},
     "output_type": "execute_result"
    }
   ],
   "source": [
    "len(set(epc_train['MAIN_HEATING_CONTROLS']))"
   ]
  },
  {
   "cell_type": "code",
   "execution_count": 89,
   "metadata": {},
   "outputs": [],
   "source": [
    "epc_train['TRANSACTION_TYPE'] = epc_train['TRANSACTION_TYPE'].str.replace(\" - this is for backwards compatibility only and should not be used\",\"\")\n",
    "epc_test['TRANSACTION_TYPE'] = epc_test['TRANSACTION_TYPE'].str.replace(\" - this is for backwards compatibility only and should not be used\",\"\")\n",
    "epc_train['GLAZED_TYPE'] = epc_train['GLAZED_TYPE'].replace('INVALID!',np.nan)\n",
    "epc_test['GLAZED_TYPE'] = epc_test['GLAZED_TYPE'].replace('INVALID!',np.nan)"
   ]
  },
  {
   "cell_type": "code",
   "execution_count": null,
   "metadata": {},
   "outputs": [],
   "source": []
  },
  {
   "attachments": {},
   "cell_type": "markdown",
   "metadata": {},
   "source": [
    "### exporting data"
   ]
  },
  {
   "cell_type": "code",
   "execution_count": 90,
   "metadata": {},
   "outputs": [
    {
     "data": {
      "text/html": [
       "<div>\n",
       "<style scoped>\n",
       "    .dataframe tbody tr th:only-of-type {\n",
       "        vertical-align: middle;\n",
       "    }\n",
       "\n",
       "    .dataframe tbody tr th {\n",
       "        vertical-align: top;\n",
       "    }\n",
       "\n",
       "    .dataframe thead th {\n",
       "        text-align: right;\n",
       "    }\n",
       "</style>\n",
       "<table border=\"1\" class=\"dataframe\">\n",
       "  <thead>\n",
       "    <tr style=\"text-align: right;\">\n",
       "      <th></th>\n",
       "      <th>LMK_KEY</th>\n",
       "      <th>region</th>\n",
       "      <th>POSTCODE</th>\n",
       "      <th>BUILDING_REFERENCE_NUMBER</th>\n",
       "      <th>CURRENT_ENERGY_RATING</th>\n",
       "      <th>CURRENT_ENERGY_EFFICIENCY</th>\n",
       "      <th>PROPERTY_TYPE</th>\n",
       "      <th>BUILT_FORM</th>\n",
       "      <th>INSPECTION_DATE</th>\n",
       "      <th>COUNTY</th>\n",
       "      <th>...</th>\n",
       "      <th>HEAT_LOSS_CORRIDOR</th>\n",
       "      <th>FLOOR_HEIGHT</th>\n",
       "      <th>MECHANICAL_VENTILATION</th>\n",
       "      <th>inspection_year</th>\n",
       "      <th>floors_average_thermal_transmittance</th>\n",
       "      <th>SECONDHEAT_DESCRIPTION</th>\n",
       "      <th>LIGHTING_DESCRIPTION</th>\n",
       "      <th>low_energy_lighting_perc</th>\n",
       "      <th>roof_average_thermal_transmittance</th>\n",
       "      <th>walls_average_thermal_transmittance</th>\n",
       "    </tr>\n",
       "  </thead>\n",
       "  <tbody>\n",
       "    <tr>\n",
       "      <th>0</th>\n",
       "      <td>NaN</td>\n",
       "      <td>NaN</td>\n",
       "      <td>NaN</td>\n",
       "      <td>NaN</td>\n",
       "      <td>NaN</td>\n",
       "      <td>NaN</td>\n",
       "      <td>NaN</td>\n",
       "      <td>NaN</td>\n",
       "      <td>NaT</td>\n",
       "      <td>NaN</td>\n",
       "      <td>...</td>\n",
       "      <td>NaN</td>\n",
       "      <td>NaN</td>\n",
       "      <td>NaN</td>\n",
       "      <td>NaN</td>\n",
       "      <td>NaN</td>\n",
       "      <td>NaN</td>\n",
       "      <td>NaN</td>\n",
       "      <td>NaN</td>\n",
       "      <td>NaN</td>\n",
       "      <td>NaN</td>\n",
       "    </tr>\n",
       "    <tr>\n",
       "      <th>1</th>\n",
       "      <td>NaN</td>\n",
       "      <td>NaN</td>\n",
       "      <td>NaN</td>\n",
       "      <td>NaN</td>\n",
       "      <td>NaN</td>\n",
       "      <td>NaN</td>\n",
       "      <td>NaN</td>\n",
       "      <td>NaN</td>\n",
       "      <td>NaT</td>\n",
       "      <td>NaN</td>\n",
       "      <td>...</td>\n",
       "      <td>NaN</td>\n",
       "      <td>NaN</td>\n",
       "      <td>NaN</td>\n",
       "      <td>NaN</td>\n",
       "      <td>NaN</td>\n",
       "      <td>NaN</td>\n",
       "      <td>NaN</td>\n",
       "      <td>NaN</td>\n",
       "      <td>NaN</td>\n",
       "      <td>NaN</td>\n",
       "    </tr>\n",
       "    <tr>\n",
       "      <th>2</th>\n",
       "      <td>NaN</td>\n",
       "      <td>NaN</td>\n",
       "      <td>NaN</td>\n",
       "      <td>NaN</td>\n",
       "      <td>NaN</td>\n",
       "      <td>NaN</td>\n",
       "      <td>NaN</td>\n",
       "      <td>NaN</td>\n",
       "      <td>NaT</td>\n",
       "      <td>NaN</td>\n",
       "      <td>...</td>\n",
       "      <td>NaN</td>\n",
       "      <td>NaN</td>\n",
       "      <td>NaN</td>\n",
       "      <td>NaN</td>\n",
       "      <td>NaN</td>\n",
       "      <td>NaN</td>\n",
       "      <td>NaN</td>\n",
       "      <td>NaN</td>\n",
       "      <td>NaN</td>\n",
       "      <td>NaN</td>\n",
       "    </tr>\n",
       "    <tr>\n",
       "      <th>3</th>\n",
       "      <td>NaN</td>\n",
       "      <td>NaN</td>\n",
       "      <td>NaN</td>\n",
       "      <td>NaN</td>\n",
       "      <td>NaN</td>\n",
       "      <td>NaN</td>\n",
       "      <td>NaN</td>\n",
       "      <td>NaN</td>\n",
       "      <td>NaT</td>\n",
       "      <td>NaN</td>\n",
       "      <td>...</td>\n",
       "      <td>NaN</td>\n",
       "      <td>NaN</td>\n",
       "      <td>NaN</td>\n",
       "      <td>NaN</td>\n",
       "      <td>NaN</td>\n",
       "      <td>NaN</td>\n",
       "      <td>NaN</td>\n",
       "      <td>NaN</td>\n",
       "      <td>NaN</td>\n",
       "      <td>NaN</td>\n",
       "    </tr>\n",
       "    <tr>\n",
       "      <th>4</th>\n",
       "      <td>NaN</td>\n",
       "      <td>NaN</td>\n",
       "      <td>NaN</td>\n",
       "      <td>NaN</td>\n",
       "      <td>NaN</td>\n",
       "      <td>NaN</td>\n",
       "      <td>NaN</td>\n",
       "      <td>NaN</td>\n",
       "      <td>NaT</td>\n",
       "      <td>NaN</td>\n",
       "      <td>...</td>\n",
       "      <td>NaN</td>\n",
       "      <td>NaN</td>\n",
       "      <td>NaN</td>\n",
       "      <td>NaN</td>\n",
       "      <td>NaN</td>\n",
       "      <td>NaN</td>\n",
       "      <td>NaN</td>\n",
       "      <td>NaN</td>\n",
       "      <td>NaN</td>\n",
       "      <td>NaN</td>\n",
       "    </tr>\n",
       "    <tr>\n",
       "      <th>...</th>\n",
       "      <td>...</td>\n",
       "      <td>...</td>\n",
       "      <td>...</td>\n",
       "      <td>...</td>\n",
       "      <td>...</td>\n",
       "      <td>...</td>\n",
       "      <td>...</td>\n",
       "      <td>...</td>\n",
       "      <td>...</td>\n",
       "      <td>...</td>\n",
       "      <td>...</td>\n",
       "      <td>...</td>\n",
       "      <td>...</td>\n",
       "      <td>...</td>\n",
       "      <td>...</td>\n",
       "      <td>...</td>\n",
       "      <td>...</td>\n",
       "      <td>...</td>\n",
       "      <td>...</td>\n",
       "      <td>...</td>\n",
       "      <td>...</td>\n",
       "    </tr>\n",
       "    <tr>\n",
       "      <th>3867184</th>\n",
       "      <td>NaN</td>\n",
       "      <td>NaN</td>\n",
       "      <td>NaN</td>\n",
       "      <td>NaN</td>\n",
       "      <td>NaN</td>\n",
       "      <td>NaN</td>\n",
       "      <td>NaN</td>\n",
       "      <td>NaN</td>\n",
       "      <td>NaT</td>\n",
       "      <td>NaN</td>\n",
       "      <td>...</td>\n",
       "      <td>NaN</td>\n",
       "      <td>NaN</td>\n",
       "      <td>NaN</td>\n",
       "      <td>NaN</td>\n",
       "      <td>NaN</td>\n",
       "      <td>NaN</td>\n",
       "      <td>NaN</td>\n",
       "      <td>NaN</td>\n",
       "      <td>NaN</td>\n",
       "      <td>NaN</td>\n",
       "    </tr>\n",
       "    <tr>\n",
       "      <th>3867185</th>\n",
       "      <td>NaN</td>\n",
       "      <td>NaN</td>\n",
       "      <td>NaN</td>\n",
       "      <td>NaN</td>\n",
       "      <td>NaN</td>\n",
       "      <td>NaN</td>\n",
       "      <td>NaN</td>\n",
       "      <td>NaN</td>\n",
       "      <td>NaT</td>\n",
       "      <td>NaN</td>\n",
       "      <td>...</td>\n",
       "      <td>NaN</td>\n",
       "      <td>NaN</td>\n",
       "      <td>NaN</td>\n",
       "      <td>NaN</td>\n",
       "      <td>NaN</td>\n",
       "      <td>NaN</td>\n",
       "      <td>NaN</td>\n",
       "      <td>NaN</td>\n",
       "      <td>NaN</td>\n",
       "      <td>NaN</td>\n",
       "    </tr>\n",
       "    <tr>\n",
       "      <th>3867186</th>\n",
       "      <td>NaN</td>\n",
       "      <td>NaN</td>\n",
       "      <td>NaN</td>\n",
       "      <td>NaN</td>\n",
       "      <td>NaN</td>\n",
       "      <td>NaN</td>\n",
       "      <td>NaN</td>\n",
       "      <td>NaN</td>\n",
       "      <td>NaT</td>\n",
       "      <td>NaN</td>\n",
       "      <td>...</td>\n",
       "      <td>NaN</td>\n",
       "      <td>NaN</td>\n",
       "      <td>NaN</td>\n",
       "      <td>NaN</td>\n",
       "      <td>NaN</td>\n",
       "      <td>NaN</td>\n",
       "      <td>NaN</td>\n",
       "      <td>NaN</td>\n",
       "      <td>NaN</td>\n",
       "      <td>NaN</td>\n",
       "    </tr>\n",
       "    <tr>\n",
       "      <th>3867187</th>\n",
       "      <td>NaN</td>\n",
       "      <td>NaN</td>\n",
       "      <td>NaN</td>\n",
       "      <td>NaN</td>\n",
       "      <td>NaN</td>\n",
       "      <td>NaN</td>\n",
       "      <td>NaN</td>\n",
       "      <td>NaN</td>\n",
       "      <td>NaT</td>\n",
       "      <td>NaN</td>\n",
       "      <td>...</td>\n",
       "      <td>NaN</td>\n",
       "      <td>NaN</td>\n",
       "      <td>NaN</td>\n",
       "      <td>NaN</td>\n",
       "      <td>NaN</td>\n",
       "      <td>NaN</td>\n",
       "      <td>NaN</td>\n",
       "      <td>NaN</td>\n",
       "      <td>NaN</td>\n",
       "      <td>NaN</td>\n",
       "    </tr>\n",
       "    <tr>\n",
       "      <th>3867188</th>\n",
       "      <td>NaN</td>\n",
       "      <td>NaN</td>\n",
       "      <td>NaN</td>\n",
       "      <td>NaN</td>\n",
       "      <td>NaN</td>\n",
       "      <td>NaN</td>\n",
       "      <td>NaN</td>\n",
       "      <td>NaN</td>\n",
       "      <td>NaT</td>\n",
       "      <td>NaN</td>\n",
       "      <td>...</td>\n",
       "      <td>NaN</td>\n",
       "      <td>NaN</td>\n",
       "      <td>NaN</td>\n",
       "      <td>NaN</td>\n",
       "      <td>NaN</td>\n",
       "      <td>NaN</td>\n",
       "      <td>NaN</td>\n",
       "      <td>NaN</td>\n",
       "      <td>NaN</td>\n",
       "      <td>NaN</td>\n",
       "    </tr>\n",
       "  </tbody>\n",
       "</table>\n",
       "<p>3867189 rows × 60 columns</p>\n",
       "</div>"
      ],
      "text/plain": [
       "        LMK_KEY region POSTCODE  BUILDING_REFERENCE_NUMBER  \\\n",
       "0           NaN    NaN      NaN                        NaN   \n",
       "1           NaN    NaN      NaN                        NaN   \n",
       "2           NaN    NaN      NaN                        NaN   \n",
       "3           NaN    NaN      NaN                        NaN   \n",
       "4           NaN    NaN      NaN                        NaN   \n",
       "...         ...    ...      ...                        ...   \n",
       "3867184     NaN    NaN      NaN                        NaN   \n",
       "3867185     NaN    NaN      NaN                        NaN   \n",
       "3867186     NaN    NaN      NaN                        NaN   \n",
       "3867187     NaN    NaN      NaN                        NaN   \n",
       "3867188     NaN    NaN      NaN                        NaN   \n",
       "\n",
       "        CURRENT_ENERGY_RATING  CURRENT_ENERGY_EFFICIENCY PROPERTY_TYPE  \\\n",
       "0                         NaN                        NaN           NaN   \n",
       "1                         NaN                        NaN           NaN   \n",
       "2                         NaN                        NaN           NaN   \n",
       "3                         NaN                        NaN           NaN   \n",
       "4                         NaN                        NaN           NaN   \n",
       "...                       ...                        ...           ...   \n",
       "3867184                   NaN                        NaN           NaN   \n",
       "3867185                   NaN                        NaN           NaN   \n",
       "3867186                   NaN                        NaN           NaN   \n",
       "3867187                   NaN                        NaN           NaN   \n",
       "3867188                   NaN                        NaN           NaN   \n",
       "\n",
       "        BUILT_FORM INSPECTION_DATE COUNTY  ... HEAT_LOSS_CORRIDOR  \\\n",
       "0              NaN             NaT    NaN  ...                NaN   \n",
       "1              NaN             NaT    NaN  ...                NaN   \n",
       "2              NaN             NaT    NaN  ...                NaN   \n",
       "3              NaN             NaT    NaN  ...                NaN   \n",
       "4              NaN             NaT    NaN  ...                NaN   \n",
       "...            ...             ...    ...  ...                ...   \n",
       "3867184        NaN             NaT    NaN  ...                NaN   \n",
       "3867185        NaN             NaT    NaN  ...                NaN   \n",
       "3867186        NaN             NaT    NaN  ...                NaN   \n",
       "3867187        NaN             NaT    NaN  ...                NaN   \n",
       "3867188        NaN             NaT    NaN  ...                NaN   \n",
       "\n",
       "         FLOOR_HEIGHT  MECHANICAL_VENTILATION  inspection_year  \\\n",
       "0                 NaN                     NaN              NaN   \n",
       "1                 NaN                     NaN              NaN   \n",
       "2                 NaN                     NaN              NaN   \n",
       "3                 NaN                     NaN              NaN   \n",
       "4                 NaN                     NaN              NaN   \n",
       "...               ...                     ...              ...   \n",
       "3867184           NaN                     NaN              NaN   \n",
       "3867185           NaN                     NaN              NaN   \n",
       "3867186           NaN                     NaN              NaN   \n",
       "3867187           NaN                     NaN              NaN   \n",
       "3867188           NaN                     NaN              NaN   \n",
       "\n",
       "         floors_average_thermal_transmittance  SECONDHEAT_DESCRIPTION  \\\n",
       "0                                         NaN                     NaN   \n",
       "1                                         NaN                     NaN   \n",
       "2                                         NaN                     NaN   \n",
       "3                                         NaN                     NaN   \n",
       "4                                         NaN                     NaN   \n",
       "...                                       ...                     ...   \n",
       "3867184                                   NaN                     NaN   \n",
       "3867185                                   NaN                     NaN   \n",
       "3867186                                   NaN                     NaN   \n",
       "3867187                                   NaN                     NaN   \n",
       "3867188                                   NaN                     NaN   \n",
       "\n",
       "         LIGHTING_DESCRIPTION  low_energy_lighting_perc  \\\n",
       "0                         NaN                       NaN   \n",
       "1                         NaN                       NaN   \n",
       "2                         NaN                       NaN   \n",
       "3                         NaN                       NaN   \n",
       "4                         NaN                       NaN   \n",
       "...                       ...                       ...   \n",
       "3867184                   NaN                       NaN   \n",
       "3867185                   NaN                       NaN   \n",
       "3867186                   NaN                       NaN   \n",
       "3867187                   NaN                       NaN   \n",
       "3867188                   NaN                       NaN   \n",
       "\n",
       "        roof_average_thermal_transmittance walls_average_thermal_transmittance  \n",
       "0                                      NaN                                 NaN  \n",
       "1                                      NaN                                 NaN  \n",
       "2                                      NaN                                 NaN  \n",
       "3                                      NaN                                 NaN  \n",
       "4                                      NaN                                 NaN  \n",
       "...                                    ...                                 ...  \n",
       "3867184                                NaN                                 NaN  \n",
       "3867185                                NaN                                 NaN  \n",
       "3867186                                NaN                                 NaN  \n",
       "3867187                                NaN                                 NaN  \n",
       "3867188                                NaN                                 NaN  \n",
       "\n",
       "[3867189 rows x 60 columns]"
      ]
     },
     "execution_count": 90,
     "metadata": {},
     "output_type": "execute_result"
    }
   ],
   "source": [
    "epc_train[epc_train.isnull()]"
   ]
  },
  {
   "cell_type": "code",
   "execution_count": 94,
   "metadata": {},
   "outputs": [],
   "source": [
    "epc_train.to_csv(os.path.join(processing_path,epc_train_clean_fname) + epc_fname_suffix,index = False)\n",
    "epc_test.to_csv(os.path.join(processing_path,epc_test_clean_fname) + epc_fname_suffix,index = False)"
   ]
  }
 ],
 "metadata": {
  "kernelspec": {
   "display_name": "Python 3.10.4 ('elec')",
   "language": "python",
   "name": "python3"
  },
  "language_info": {
   "codemirror_mode": {
    "name": "ipython",
    "version": 3
   },
   "file_extension": ".py",
   "mimetype": "text/x-python",
   "name": "python",
   "nbconvert_exporter": "python",
   "pygments_lexer": "ipython3",
   "version": "3.10.4"
  },
  "orig_nbformat": 4,
  "vscode": {
   "interpreter": {
    "hash": "a03df1490dae5edca8350f1d64d7f189571412bea11a20357ccabc9e7f68ebdc"
   }
  }
 },
 "nbformat": 4,
 "nbformat_minor": 2
}
