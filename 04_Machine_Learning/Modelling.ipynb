{
 "cells": [
  {
   "cell_type": "markdown",
   "metadata": {},
   "source": [
    "# Modelling"
   ]
  },
  {
   "cell_type": "markdown",
   "metadata": {},
   "source": [
    "Five different supervised learning classification models are assessed to understand how well they could predict energy efficiency. Linear regression is selected as the baseline and the variance score (R2) as the quality measure used to assess the models. The other four algorithms are random forest, ada boost, XGBoost and a neural network.\n",
    "\n",
    "This script prepares the data for modelling and can be used to run random forest, ada boost and XGBoost."
   ]
  },
  {
   "cell_type": "code",
   "execution_count": 1,
   "metadata": {},
   "outputs": [],
   "source": [
    "import numpy as np\n",
    "import pandas as pd\n",
    "import datetime\n",
    "import os\n",
    "import glob\n",
    "import json\n",
    "import matplotlib.pyplot as plt\n",
    "import seaborn as sns\n",
    "from sklearn.model_selection import train_test_split\n",
    "import xgboost as xgb\n",
    "from sklearn.ensemble import AdaBoostRegressor\n",
    "from sklearn.metrics import mean_squared_error, r2_score\n",
    "from sklearn.model_selection import GridSearchCV, RandomizedSearchCV"
   ]
  },
  {
   "cell_type": "code",
   "execution_count": 2,
   "metadata": {},
   "outputs": [],
   "source": [
    "# set variables from config file\n",
    "config_path = os.path.abspath('..')\n",
    "\n",
    "with open(config_path + '/config-example.json', 'r') as f:\n",
    "    config = json.load(f)\n",
    "\n",
    "processing_path = config['DEFAULT']['processing_path']\n",
    "# epc_train_ex_fname = config['DEFAULT']['epc_train_ex_fname']\n",
    "# epc_test_ex_fname = config['DEFAULT']['epc_test_ex_fname']\n",
    "# epc_train_do_fname = config['DEFAULT']['epc_train_domain_fname']\n",
    "# epc_test_do_fname = config['DEFAULT']['epc_test_domain_fname']\n",
    "epc_train_dd_fname = config['DEFAULT']['epc_train_dd_fname']\n",
    "epc_test_dd_fname = config['DEFAULT']['epc_test_dd_fname']\n",
    "# urban_rural_fname = config['DEFAULT']['urban_rural_fname']\n",
    "epc_fname_suffix = config['DEFAULT']['epc_fname_suffix']"
   ]
  },
  {
   "cell_type": "code",
   "execution_count": 3,
   "metadata": {},
   "outputs": [
    {
     "name": "stderr",
     "output_type": "stream",
     "text": [
      "C:\\Users\\KingRemy\\AppData\\Local\\Temp\\ipykernel_12204\\967691212.py:5: DtypeWarning: Columns (14) have mixed types. Specify dtype option on import or set low_memory=False.\n",
      "  epc_train_dd = pd.read_csv(os.path.join(processing_path,epc_train_dd_fname + epc_fname_suffix),header = 0,delimiter = ',')\n",
      "C:\\Users\\KingRemy\\AppData\\Local\\Temp\\ipykernel_12204\\967691212.py:6: DtypeWarning: Columns (13) have mixed types. Specify dtype option on import or set low_memory=False.\n",
      "  epc_test_dd = pd.read_csv(os.path.join(processing_path,epc_test_dd_fname + epc_fname_suffix),header = 0,delimiter = ',')\n"
     ]
    }
   ],
   "source": [
    "# epc_train_ex = pd.read_csv(os.path.join(processing_path,epc_train_ex_fname),header = 0,delimiter = ',')\n",
    "# epc_test_ex = pd.read_csv(os.path.join(processing_path,epc_test_ex_fname),header = 0,delimiter = ',')\n",
    "# epc_train_do = pd.read_csv(os.path.join(processing_path,epc_train_do_fname),header = 0,delimiter = ',')\n",
    "# epc_test_do = pd.read_csv(os.path.join(processing_path,epc_test_do_fname),header = 0,delimiter = ',')\n",
    "epc_train_dd = pd.read_csv(os.path.join(processing_path,epc_train_dd_fname + epc_fname_suffix),header = 0,delimiter = ',')\n",
    "epc_test_dd = pd.read_csv(os.path.join(processing_path,epc_test_dd_fname + epc_fname_suffix),header = 0,delimiter = ',')"
   ]
  },
  {
   "cell_type": "code",
   "execution_count": 4,
   "metadata": {},
   "outputs": [
    {
     "data": {
      "text/plain": [
       "Text(0.5, 0, 'epc_test_data_driven')"
      ]
     },
     "execution_count": 4,
     "metadata": {},
     "output_type": "execute_result"
    },
    {
     "data": {
      "image/png": "[encoded data removed]",
      "text/plain": [
       "<Figure size 2000x500 with 2 Axes>"
      ]
     },
     "metadata": {},
     "output_type": "display_data"
    }
   ],
   "source": [
    "# plot distribution for each feature set\n",
    "plt.figure(figsize=(20,5))\n",
    "\n",
    "# plt.subplot(231)\n",
    "# epc_train_ex['CURRENT_ENERGY_EFFICIENCY'].hist()\n",
    "# plt.xlabel('epc_train_exhaustive',fontsize=16, weight='bold')\n",
    "\n",
    "# plt.subplot(232)\n",
    "# epc_train_do['CURRENT_ENERGY_EFFICIENCY'].hist()\n",
    "# plt.xlabel('epc_train_domain',fontsize=16, weight='bold')\n",
    "\n",
    "plt.subplot(233)\n",
    "epc_train_dd['CURRENT_ENERGY_EFFICIENCY'].hist()\n",
    "plt.xlabel('epc_train_data_driven',fontsize=16, weight='bold')\n",
    "\n",
    "# plt.subplot(234)\n",
    "# epc_test_ex['CURRENT_ENERGY_EFFICIENCY'].hist()\n",
    "# plt.xlabel('epc_test_exhaustive',fontsize=16, weight='bold')\n",
    "\n",
    "# plt.subplot(235)\n",
    "# epc_test_do['CURRENT_ENERGY_EFFICIENCY'].hist()\n",
    "# plt.xlabel('epc_test_domain',fontsize=16, weight='bold')\n",
    "\n",
    "plt.subplot(236)\n",
    "epc_test_dd['CURRENT_ENERGY_EFFICIENCY'].hist()\n",
    "plt.xlabel('epc_test_data_driven',fontsize=16, weight='bold')"
   ]
  },
  {
   "cell_type": "markdown",
   "metadata": {},
   "source": [
    "### process data for selected feature set"
   ]
  },
  {
   "cell_type": "code",
   "execution_count": 10,
   "metadata": {},
   "outputs": [],
   "source": [
    "def process_data_for_modelling(training_data,test_data):\n",
    "    \n",
    "    ''' \n",
    "    Prepares the data for modelling by one hot encoding the categorical features, converting discrete values into\n",
    "    strings and dropping BUILDING_REFERENCE_NUMBER\n",
    "    Parameters\n",
    "      training_data: a dataframe of training data with columns called LODGEMENT_DATE, BUILDING_REFERENCE_NUMBER\n",
    "      test_data: a dataframe of test data with columns called LODGEMENT_DATE, BUILDING_REFERENCE_NUMBER\n",
    "    Returns two dataframes \n",
    "    '''\n",
    "    \n",
    "    training_data['mode'] = 'train'\n",
    "    test_data['mode'] = 'test'\n",
    "    epc = pd.concat([training_data, test_data])\n",
    "    epc = epc.reset_index(drop = True)\n",
    "    \n",
    "    try:\n",
    "        epc.drop(['LODGEMENT_DATE'],axis=1,inplace=True)\n",
    "    except:\n",
    "        pass\n",
    "    \n",
    "    try:\n",
    "        epc['extension'] = epc['extension'].astype('str')\n",
    "        epc['habitable_rooms'] = epc['habitable_rooms'].astype('str')\n",
    "    except:\n",
    "        pass\n",
    "    \n",
    "    for col in epc.dtypes[epc.dtypes == 'object'].index:\n",
    "        if col not in ['mode']:\n",
    "            print(col)\n",
    "            for_dummy = epc.pop(col)\n",
    "            epc = pd.concat([epc, pd.get_dummies(for_dummy, prefix=col)], axis=1)\n",
    "        \n",
    "    features_to_drop = ['BUILDING_REFERENCE_NUMBER']\n",
    "    epc.drop(features_to_drop,axis=1,inplace=True)\n",
    "    \n",
    "    #Split back into train and test\n",
    "    training_data = epc[epc['mode']=='train']\n",
    "    test_data = epc[epc['mode']=='test']\n",
    "    test_data = test_data.reset_index(drop=True)\n",
    "    inputs_train = training_data.drop('mode',axis=1)\n",
    "    inputs_test = test_data.drop('mode',axis=1)\n",
    "    \n",
    "    return inputs_train, inputs_test"
   ]
  },
  {
   "cell_type": "code",
   "execution_count": 11,
   "metadata": {},
   "outputs": [
    {
     "name": "stdout",
     "output_type": "stream",
     "text": [
      "COUNTY\n",
      "MAINS_GAS_FLAG\n",
      "HEAT_LOSS_CORRIDOR\n",
      "built_form\n",
      "energy_tariff\n",
      "floor_description\n",
      "floor_level\n",
      "glazed_type\n",
      "hotwater_description\n",
      "lighting_description\n",
      "mainheat_controls\n",
      "property_type\n",
      "roof_description\n",
      "transaction_type\n",
      "walls_description\n",
      "window_description\n",
      "locality\n",
      "extension\n",
      "floor_height\n",
      "habitable_rooms\n",
      "open_fireplaces\n"
     ]
    }
   ],
   "source": [
    "inputs_train, inputs_test = process_data_for_modelling(epc_train_dd, epc_test_dd)"
   ]
  },
  {
   "cell_type": "code",
   "execution_count": 12,
   "metadata": {},
   "outputs": [],
   "source": [
    "from sklearn.preprocessing import MinMaxScaler\n",
    "scaler = MinMaxScaler(feature_range=(0, 1))"
   ]
  },
  {
   "cell_type": "code",
   "execution_count": 13,
   "metadata": {},
   "outputs": [],
   "source": [
    "def scale_numeric(df,col):\n",
    "    \n",
    "    ''' \n",
    "    Fits a scaler called scaler to the specified column\n",
    "    Parameters\n",
    "      df: a dataframe\n",
    "      col: numeric variable to scale\n",
    "    Returns a dataframe\n",
    "    '''\n",
    "    \n",
    "    null_index = df[col].isnull()\n",
    "    df.loc[~null_index, [col]] = scaler.fit_transform(df.loc[~null_index, [col]])\n",
    "    \n",
    "    return df"
   ]
  },
  {
   "cell_type": "code",
   "execution_count": 14,
   "metadata": {},
   "outputs": [],
   "source": [
    "inputs_train = scale_numeric(inputs_train,'TOTAL_FLOOR_AREA')\n",
    "inputs_test = scale_numeric(inputs_test,'TOTAL_FLOOR_AREA')\n",
    "try:\n",
    "    inputs_train = scale_numeric(inputs_train,'floor_height')\n",
    "    inputs_test = scale_numeric(inputs_test,'floor_height')\n",
    "except:\n",
    "    pass\n",
    "try:\n",
    "    inputs_train = scale_numeric(inputs_train,'habitable_rooms')\n",
    "    inputs_test = scale_numeric(inputs_test,'habitable_rooms')\n",
    "except:\n",
    "    pass"
   ]
  },
  {
   "cell_type": "markdown",
   "metadata": {},
   "source": [
    "### check missing values"
   ]
  },
  {
   "cell_type": "code",
   "execution_count": 24,
   "metadata": {},
   "outputs": [],
   "source": [
    "numeric_cols = inputs_train.dtypes[inputs_train.dtypes == 'float'].index"
   ]
  },
  {
   "cell_type": "code",
   "execution_count": 25,
   "metadata": {},
   "outputs": [
    {
     "data": {
      "text/plain": [
       "TOTAL_FLOOR_AREA    0.0\n",
       "inspection_year     0.0\n",
       "dtype: float64"
      ]
     },
     "execution_count": 25,
     "metadata": {},
     "output_type": "execute_result"
    }
   ],
   "source": [
    "inputs_train[numeric_cols].isnull().sum().sort_values(ascending = False) / inputs_train.shape[0]"
   ]
  },
  {
   "cell_type": "code",
   "execution_count": null,
   "metadata": {},
   "outputs": [],
   "source": [
    "inputs_train['FLOOR_HEIGHT'] = inputs_train['FLOOR_HEIGHT'].fillna(inputs_train['FLOOR_HEIGHT'].mean())\n",
    "inputs_train['NUMBER_HABITABLE_ROOMS'] = inputs_train['NUMBER_HABITABLE_ROOMS'].fillna(inputs_train['NUMBER_HABITABLE_ROOMS'].mean())\n",
    "inputs_test['FLOOR_HEIGHT'] = inputs_test['FLOOR_HEIGHT'].fillna(inputs_test['FLOOR_HEIGHT'].mean())\n",
    "inputs_test['NUMBER_HABITABLE_ROOMS'] = inputs_test['NUMBER_HABITABLE_ROOMS'].fillna(inputs_test['NUMBER_HABITABLE_ROOMS'].mean())"
   ]
  },
  {
   "cell_type": "code",
   "execution_count": null,
   "metadata": {},
   "outputs": [],
   "source": [
    "inputs_train = inputs_train.drop('HEAT_LOSS_CORRIDOR',axis=1)\n",
    "inputs_train = inputs_train.drop('HEAT_LOSS_CORRIDOR',axis=1)"
   ]
  },
  {
   "cell_type": "markdown",
   "metadata": {},
   "source": [
    "### Create input dataframes"
   ]
  },
  {
   "cell_type": "code",
   "execution_count": 29,
   "metadata": {},
   "outputs": [],
   "source": [
    "target_train = inputs_train['CURRENT_ENERGY_EFFICIENCY']\n",
    "inputs_train = inputs_train.drop('CURRENT_ENERGY_EFFICIENCY',axis=1)\n",
    "target_test = inputs_test['CURRENT_ENERGY_EFFICIENCY']\n",
    "inputs_test = inputs_test.drop('CURRENT_ENERGY_EFFICIENCY',axis=1)"
   ]
  },
  {
   "cell_type": "markdown",
   "metadata": {},
   "source": [
    "### train the model"
   ]
  },
  {
   "cell_type": "code",
   "execution_count": 30,
   "metadata": {},
   "outputs": [],
   "source": [
    "def train_model(inputs_train, target_train, inputs_test, target_test, model=['adaboost','GBT','forest','xgboost']):\n",
    "    \n",
    "    ''' \n",
    "    Fits one of four models, Adaboost, Gradient Boosted Trees, Random Forest or XGBoost, evaluates the \n",
    "    performance and finds the feature importance\n",
    "    Parameters\n",
    "      inputs_train: a dataframe of training data\n",
    "      target_train: a series of the target for training\n",
    "      input__test: a dataframe of test data must have the same columns as inputs_train\n",
    "      target_test: a series of the target for testing\n",
    "      model: ['adaboost','GBT','forest','xgboost']\n",
    "    '''\n",
    "    \n",
    "    if model == 'adaboost':\n",
    "        reg = AdaBoostRegressor(random_state = 1234)\n",
    "        reg.fit(inputs_train,target_train)\n",
    "    elif model == 'GBT':\n",
    "        reg = GradientBoostingRegressor(random_state = 1234)\n",
    "        reg.fit(inputs_train,target_train)\n",
    "    elif model == 'forest':\n",
    "        reg = RandomForestRegressor(n_jobs = -1, random_state = 1234)\n",
    "        reg.fit(inputs_train,target_train)\n",
    "    else:\n",
    "        i_train = inputs_train.values\n",
    "        t_train = target_train.values.ravel()\n",
    "        i_test = inputs_test.values\n",
    "        t_test = target_test.values.ravel()\n",
    "        reg = xgb.XGBRegressor(seed = 1234)\n",
    "        reg.fit(i_train,t_train)\n",
    "    if model in ['adaboost','GBT','forest']:\n",
    "        print('Train results')\n",
    "        evaluate_model(reg, inputs_train, target_train)\n",
    "        print('Test results')\n",
    "        evaluate_model(reg, inputs_test, target_test)     \n",
    "    else:\n",
    "        print('Train results')\n",
    "        evaluate_model(reg, i_train, t_train)\n",
    "        print('Test results')\n",
    "        evaluate_model(reg, i_test, t_test)\n",
    "    print('Feature Importance')\n",
    "    feature_importance(reg, inputs_train)"
   ]
  },
  {
   "cell_type": "code",
   "execution_count": 31,
   "metadata": {},
   "outputs": [],
   "source": [
    "def evaluate_model(model, inputs, target):\n",
    "    \n",
    "    ''' \n",
    "    Computes the r squared and mean squared error scores and prints the results\n",
    "    Parameters\n",
    "      model: initiated model\n",
    "      inputs: a dataframe of training or test data\n",
    "      target: a series of the target variable\n",
    "    '''\n",
    "    \n",
    "    predict_values = model.predict(inputs)\n",
    "    r_squared = r2_score(target,predict_values)\n",
    "    mse = mean_squared_error(target,predict_values)\n",
    "    print('Variance score: %.4f' % r_squared)\n",
    "    print(\"Mean squared error: %.4f\" % mse)"
   ]
  },
  {
   "cell_type": "code",
   "execution_count": 32,
   "metadata": {},
   "outputs": [],
   "source": [
    "def feature_importance(model, inputs):\n",
    "    \n",
    "    ''' \n",
    "    Finds the feature importance of the model and prints the results in an ordered list with the column names\n",
    "    Parameters\n",
    "      model: initiated model\n",
    "      inputs: a dataframe of training or test data\n",
    "    '''\n",
    "    \n",
    "    feature_importance = model.feature_importances_\n",
    "    feature_importance = pd.DataFrame(feature_importance,columns = ['feature_importance'])\n",
    "    feature_names = inputs.columns.values\n",
    "    feature_names = pd.DataFrame(feature_names,columns = ['feature_name'])\n",
    "    feature_importance = pd.merge(feature_names,\n",
    "                                  feature_importance,\n",
    "                                  left_index = True,\n",
    "                                  right_index = True,\n",
    "                                  how = 'inner')\n",
    "    feature_importance.sort_values('feature_importance',\n",
    "                                   ascending = False,\n",
    "                                   inplace = True)\n",
    "    print(feature_importance)"
   ]
  },
  {
   "cell_type": "code",
   "execution_count": 33,
   "metadata": {},
   "outputs": [
    {
     "ename": "XGBoostError",
     "evalue": "bad allocation",
     "output_type": "error",
     "traceback": [
      "\u001b[1;31m---------------------------------------------------------------------------\u001b[0m",
      "\u001b[1;31mXGBoostError\u001b[0m                              Traceback (most recent call last)",
      "\u001b[1;32mc:\\Users\\KingRemy\\OneDrive - University of Keele\\Documents\\SEND\\EPC_Data_Analysis\\04_Machine_Learning\\Modelling.ipynb Cell 24\u001b[0m in \u001b[0;36m<cell line: 1>\u001b[1;34m()\u001b[0m\n\u001b[1;32m----> <a href='vscode-notebook-cell:/c%3A/Users/KingRemy/OneDrive%20-%20University%20of%20Keele/Documents/SEND/EPC_Data_Analysis/04_Machine_Learning/Modelling.ipynb#X31sZmlsZQ%3D%3D?line=0'>1</a>\u001b[0m train_model(inputs_train, target_train, inputs_test, target_test, \u001b[39m'\u001b[39;49m\u001b[39mxgboost\u001b[39;49m\u001b[39m'\u001b[39;49m)\n",
      "\u001b[1;32mc:\\Users\\KingRemy\\OneDrive - University of Keele\\Documents\\SEND\\EPC_Data_Analysis\\04_Machine_Learning\\Modelling.ipynb Cell 24\u001b[0m in \u001b[0;36mtrain_model\u001b[1;34m(inputs_train, target_train, inputs_test, target_test, model)\u001b[0m\n\u001b[0;32m     <a href='vscode-notebook-cell:/c%3A/Users/KingRemy/OneDrive%20-%20University%20of%20Keele/Documents/SEND/EPC_Data_Analysis/04_Machine_Learning/Modelling.ipynb#X31sZmlsZQ%3D%3D?line=26'>27</a>\u001b[0m     t_test \u001b[39m=\u001b[39m target_test\u001b[39m.\u001b[39mvalues\u001b[39m.\u001b[39mravel()\n\u001b[0;32m     <a href='vscode-notebook-cell:/c%3A/Users/KingRemy/OneDrive%20-%20University%20of%20Keele/Documents/SEND/EPC_Data_Analysis/04_Machine_Learning/Modelling.ipynb#X31sZmlsZQ%3D%3D?line=27'>28</a>\u001b[0m     reg \u001b[39m=\u001b[39m xgb\u001b[39m.\u001b[39mXGBRegressor(seed \u001b[39m=\u001b[39m \u001b[39m1234\u001b[39m)\n\u001b[1;32m---> <a href='vscode-notebook-cell:/c%3A/Users/KingRemy/OneDrive%20-%20University%20of%20Keele/Documents/SEND/EPC_Data_Analysis/04_Machine_Learning/Modelling.ipynb#X31sZmlsZQ%3D%3D?line=28'>29</a>\u001b[0m     reg\u001b[39m.\u001b[39;49mfit(i_train,t_train)\n\u001b[0;32m     <a href='vscode-notebook-cell:/c%3A/Users/KingRemy/OneDrive%20-%20University%20of%20Keele/Documents/SEND/EPC_Data_Analysis/04_Machine_Learning/Modelling.ipynb#X31sZmlsZQ%3D%3D?line=29'>30</a>\u001b[0m \u001b[39mif\u001b[39;00m model \u001b[39min\u001b[39;00m [\u001b[39m'\u001b[39m\u001b[39madaboost\u001b[39m\u001b[39m'\u001b[39m,\u001b[39m'\u001b[39m\u001b[39mGBT\u001b[39m\u001b[39m'\u001b[39m,\u001b[39m'\u001b[39m\u001b[39mforest\u001b[39m\u001b[39m'\u001b[39m]:\n\u001b[0;32m     <a href='vscode-notebook-cell:/c%3A/Users/KingRemy/OneDrive%20-%20University%20of%20Keele/Documents/SEND/EPC_Data_Analysis/04_Machine_Learning/Modelling.ipynb#X31sZmlsZQ%3D%3D?line=30'>31</a>\u001b[0m     \u001b[39mprint\u001b[39m(\u001b[39m'\u001b[39m\u001b[39mTrain results\u001b[39m\u001b[39m'\u001b[39m)\n",
      "File \u001b[1;32mc:\\Users\\KingRemy\\anaconda3\\envs\\elec\\lib\\site-packages\\xgboost\\core.py:620\u001b[0m, in \u001b[0;36mrequire_keyword_args.<locals>.throw_if.<locals>.inner_f\u001b[1;34m(*args, **kwargs)\u001b[0m\n\u001b[0;32m    618\u001b[0m \u001b[39mfor\u001b[39;00m k, arg \u001b[39min\u001b[39;00m \u001b[39mzip\u001b[39m(sig\u001b[39m.\u001b[39mparameters, args):\n\u001b[0;32m    619\u001b[0m     kwargs[k] \u001b[39m=\u001b[39m arg\n\u001b[1;32m--> 620\u001b[0m \u001b[39mreturn\u001b[39;00m func(\u001b[39m*\u001b[39m\u001b[39m*\u001b[39mkwargs)\n",
      "File \u001b[1;32mc:\\Users\\KingRemy\\anaconda3\\envs\\elec\\lib\\site-packages\\xgboost\\sklearn.py:1025\u001b[0m, in \u001b[0;36mXGBModel.fit\u001b[1;34m(self, X, y, sample_weight, base_margin, eval_set, eval_metric, early_stopping_rounds, verbose, xgb_model, sample_weight_eval_set, base_margin_eval_set, feature_weights, callbacks)\u001b[0m\n\u001b[0;32m   1014\u001b[0m     obj \u001b[39m=\u001b[39m \u001b[39mNone\u001b[39;00m\n\u001b[0;32m   1016\u001b[0m (\n\u001b[0;32m   1017\u001b[0m     model,\n\u001b[0;32m   1018\u001b[0m     metric,\n\u001b[1;32m   (...)\u001b[0m\n\u001b[0;32m   1023\u001b[0m     xgb_model, eval_metric, params, early_stopping_rounds, callbacks\n\u001b[0;32m   1024\u001b[0m )\n\u001b[1;32m-> 1025\u001b[0m \u001b[39mself\u001b[39m\u001b[39m.\u001b[39m_Booster \u001b[39m=\u001b[39m train(\n\u001b[0;32m   1026\u001b[0m     params,\n\u001b[0;32m   1027\u001b[0m     train_dmatrix,\n\u001b[0;32m   1028\u001b[0m     \u001b[39mself\u001b[39;49m\u001b[39m.\u001b[39;49mget_num_boosting_rounds(),\n\u001b[0;32m   1029\u001b[0m     evals\u001b[39m=\u001b[39;49mevals,\n\u001b[0;32m   1030\u001b[0m     early_stopping_rounds\u001b[39m=\u001b[39;49mearly_stopping_rounds,\n\u001b[0;32m   1031\u001b[0m     evals_result\u001b[39m=\u001b[39;49mevals_result,\n\u001b[0;32m   1032\u001b[0m     obj\u001b[39m=\u001b[39;49mobj,\n\u001b[0;32m   1033\u001b[0m     custom_metric\u001b[39m=\u001b[39;49mmetric,\n\u001b[0;32m   1034\u001b[0m     verbose_eval\u001b[39m=\u001b[39;49mverbose,\n\u001b[0;32m   1035\u001b[0m     xgb_model\u001b[39m=\u001b[39;49mmodel,\n\u001b[0;32m   1036\u001b[0m     callbacks\u001b[39m=\u001b[39;49mcallbacks,\n\u001b[0;32m   1037\u001b[0m )\n\u001b[0;32m   1039\u001b[0m \u001b[39mself\u001b[39m\u001b[39m.\u001b[39m_set_evaluation_result(evals_result)\n\u001b[0;32m   1040\u001b[0m \u001b[39mreturn\u001b[39;00m \u001b[39mself\u001b[39m\n",
      "File \u001b[1;32mc:\\Users\\KingRemy\\anaconda3\\envs\\elec\\lib\\site-packages\\xgboost\\core.py:620\u001b[0m, in \u001b[0;36mrequire_keyword_args.<locals>.throw_if.<locals>.inner_f\u001b[1;34m(*args, **kwargs)\u001b[0m\n\u001b[0;32m    618\u001b[0m \u001b[39mfor\u001b[39;00m k, arg \u001b[39min\u001b[39;00m \u001b[39mzip\u001b[39m(sig\u001b[39m.\u001b[39mparameters, args):\n\u001b[0;32m    619\u001b[0m     kwargs[k] \u001b[39m=\u001b[39m arg\n\u001b[1;32m--> 620\u001b[0m \u001b[39mreturn\u001b[39;00m func(\u001b[39m*\u001b[39m\u001b[39m*\u001b[39mkwargs)\n",
      "File \u001b[1;32mc:\\Users\\KingRemy\\anaconda3\\envs\\elec\\lib\\site-packages\\xgboost\\training.py:185\u001b[0m, in \u001b[0;36mtrain\u001b[1;34m(params, dtrain, num_boost_round, evals, obj, feval, maximize, early_stopping_rounds, evals_result, verbose_eval, xgb_model, callbacks, custom_metric)\u001b[0m\n\u001b[0;32m    183\u001b[0m \u001b[39mif\u001b[39;00m cb_container\u001b[39m.\u001b[39mbefore_iteration(bst, i, dtrain, evals):\n\u001b[0;32m    184\u001b[0m     \u001b[39mbreak\u001b[39;00m\n\u001b[1;32m--> 185\u001b[0m bst\u001b[39m.\u001b[39;49mupdate(dtrain, i, obj)\n\u001b[0;32m    186\u001b[0m \u001b[39mif\u001b[39;00m cb_container\u001b[39m.\u001b[39mafter_iteration(bst, i, dtrain, evals):\n\u001b[0;32m    187\u001b[0m     \u001b[39mbreak\u001b[39;00m\n",
      "File \u001b[1;32mc:\\Users\\KingRemy\\anaconda3\\envs\\elec\\lib\\site-packages\\xgboost\\core.py:1918\u001b[0m, in \u001b[0;36mBooster.update\u001b[1;34m(self, dtrain, iteration, fobj)\u001b[0m\n\u001b[0;32m   1915\u001b[0m \u001b[39mself\u001b[39m\u001b[39m.\u001b[39m_validate_dmatrix_features(dtrain)\n\u001b[0;32m   1917\u001b[0m \u001b[39mif\u001b[39;00m fobj \u001b[39mis\u001b[39;00m \u001b[39mNone\u001b[39;00m:\n\u001b[1;32m-> 1918\u001b[0m     _check_call(_LIB\u001b[39m.\u001b[39;49mXGBoosterUpdateOneIter(\u001b[39mself\u001b[39;49m\u001b[39m.\u001b[39;49mhandle,\n\u001b[0;32m   1919\u001b[0m                                             ctypes\u001b[39m.\u001b[39;49mc_int(iteration),\n\u001b[0;32m   1920\u001b[0m                                             dtrain\u001b[39m.\u001b[39;49mhandle))\n\u001b[0;32m   1921\u001b[0m \u001b[39melse\u001b[39;00m:\n\u001b[0;32m   1922\u001b[0m     pred \u001b[39m=\u001b[39m \u001b[39mself\u001b[39m\u001b[39m.\u001b[39mpredict(dtrain, output_margin\u001b[39m=\u001b[39m\u001b[39mTrue\u001b[39;00m, training\u001b[39m=\u001b[39m\u001b[39mTrue\u001b[39;00m)\n",
      "File \u001b[1;32mc:\\Users\\KingRemy\\anaconda3\\envs\\elec\\lib\\site-packages\\xgboost\\core.py:279\u001b[0m, in \u001b[0;36m_check_call\u001b[1;34m(ret)\u001b[0m\n\u001b[0;32m    268\u001b[0m \u001b[39m\"\"\"Check the return value of C API call\u001b[39;00m\n\u001b[0;32m    269\u001b[0m \n\u001b[0;32m    270\u001b[0m \u001b[39mThis function will raise exception when error occurs.\u001b[39;00m\n\u001b[1;32m   (...)\u001b[0m\n\u001b[0;32m    276\u001b[0m \u001b[39m    return value from API calls\u001b[39;00m\n\u001b[0;32m    277\u001b[0m \u001b[39m\"\"\"\u001b[39;00m\n\u001b[0;32m    278\u001b[0m \u001b[39mif\u001b[39;00m ret \u001b[39m!=\u001b[39m \u001b[39m0\u001b[39m:\n\u001b[1;32m--> 279\u001b[0m     \u001b[39mraise\u001b[39;00m XGBoostError(py_str(_LIB\u001b[39m.\u001b[39mXGBGetLastError()))\n",
      "\u001b[1;31mXGBoostError\u001b[0m: bad allocation"
     ]
    }
   ],
   "source": [
    "train_model(inputs_train, target_train, inputs_test, target_test, 'xgboost')"
   ]
  },
  {
   "cell_type": "markdown",
   "metadata": {},
   "source": [
    "### Tune the model"
   ]
  },
  {
   "cell_type": "code",
   "execution_count": null,
   "metadata": {},
   "outputs": [],
   "source": [
    "learning_rate_set = [0.1,0.2,0.3,0.4] #Learning rate\n",
    "n_estimators_set = [150,200,250]  #Number of trees\n",
    "max_depth_set = [3,4,5] #Depth of tree"
   ]
  },
  {
   "cell_type": "code",
   "execution_count": null,
   "metadata": {},
   "outputs": [],
   "source": [
    "# sample of datasets to speed up training\n",
    "inputs_train_sample = inputs_train.iloc[:50000,:]\n",
    "target_train_sample = target_train.iloc[:50000]"
   ]
  },
  {
   "cell_type": "code",
   "execution_count": null,
   "metadata": {},
   "outputs": [],
   "source": [
    "def tune_model(inputs_train, target_train, inputs_test, target_test, model=['adaboost','GBT','forest','xgboost'],\n",
    "              learning_rate_set, n_estimators_set, max_depth_set):\n",
    "    \n",
    "    ''' \n",
    "    Fits one of four models, Adaboost, Gradient Boosted Trees, Random Forest or XGBoost, tunes using the \n",
    "    specified parameter sets. Note this takes a long time to run and the compuation time will increase with\n",
    "    the number of parameters\n",
    "    Parameters\n",
    "      inputs_train: a dataframe of training data\n",
    "      target_train: a series of the target for training\n",
    "      input__test: a dataframe of test data must have the same columns as inputs_train\n",
    "      target_test: a series of the target for testing\n",
    "      model: ['adaboost','GBT','forest','xgboost']\n",
    "      learning_rate_set: set of learning rates to test\n",
    "      n_estimators_set: set of number of trees to test\n",
    "      max_depth_set: set of max tree depths to test\n",
    "    '''\n",
    "    \n",
    "    if model == 'adaboost':\n",
    "        reg = AdaBoostRegressor(random_state = 1234)\n",
    "    elif model == 'GBT':\n",
    "        reg = GradientBoostingRegressor(random_state = 1234)\n",
    "    elif model == 'forest':\n",
    "        reg = RandomForestRegressor(n_jobs = -1, random_state = 1234)\n",
    "    else:\n",
    "        i_train = inputs_train.values\n",
    "        t_train = target_train.values.ravel()\n",
    "        i_test = inputs_test.values\n",
    "        t_test = target_test.values.ravel()\n",
    "        reg = xgb.XGBRegressor(seed = 1234)\n",
    "        \n",
    "    parameters = {'learning_rate':learning_rate_set, 'n_estimators':n_estimators_set, 'max_depth':max_depth_set}\n",
    "    reg_tuned = GridSearchCV(reg, parameters)\n",
    "    reg_tuned.fit(inputs_train, target_train)\n",
    "        \n",
    "    if model in ['adaboost','GBT','forest']:\n",
    "        reg_tuned.fit(inputs_train, target_train)    \n",
    "    else:\n",
    "        reg_tuned.fit(i_train, t_train)\n",
    "    \n",
    "    print(reg_tuned.best_params_)\n",
    "    print(reg_tuned.best_score_)"
   ]
  },
  {
   "cell_type": "code",
   "execution_count": null,
   "metadata": {},
   "outputs": [
    {
     "name": "stdout",
     "output_type": "stream",
     "text": [
      "{'learning_rate': 0.2, 'max_depth': 5, 'n_estimators': 250}\n",
      "0.7974033303658646\n"
     ]
    }
   ],
   "source": [
    "train_model(inputs_train_sample, target_train_sample, inputs_test, target_test, 'xgboost')"
   ]
  },
  {
   "cell_type": "markdown",
   "metadata": {},
   "source": [
    "## Results by band"
   ]
  },
  {
   "cell_type": "code",
   "execution_count": null,
   "metadata": {},
   "outputs": [],
   "source": [
    "predict_test_series = pd.Series(predict_test)\n",
    "test_scored = pd.DataFrame(target_test)\n",
    "test_scored = test_scored.reset_index(drop=True)\n",
    "test_scored['predicted_score'] = predict_test_series"
   ]
  },
  {
   "cell_type": "code",
   "execution_count": null,
   "metadata": {},
   "outputs": [],
   "source": [
    "band_bins = [-1,0,20,38,54,68,80,91,100]\n",
    "band_labels = ['I','G','F','E','D','C','B','A']\n",
    "test_scored['predicted_band'] = pd.cut(test_scored['predicted_score'],bins = band_bins, labels = band_labels)\n",
    "test_scored['actual_band'] = pd.cut(test_scored['CURRENT_ENERGY_EFFICIENCY'],bins = band_bins, labels = band_labels)"
   ]
  },
  {
   "cell_type": "code",
   "execution_count": null,
   "metadata": {},
   "outputs": [],
   "source": [
    "# average accuracy per band\n",
    "(test_scored['actual_band'] == test_scored['predicted_band']).sum()/len(test_scored)"
   ]
  },
  {
   "cell_type": "code",
   "execution_count": null,
   "metadata": {},
   "outputs": [],
   "source": [
    "# accuracy for each band\n",
    "test_scored['correct_band'] = test_scored['actual_band'] == test_scored['predicted_band']\n",
    "test_scored.groupby('actual_band')['correct_band'].sum()/test_scored.groupby('actual_band')['correct_band'].count()"
   ]
  },
  {
   "cell_type": "code",
   "execution_count": null,
   "metadata": {},
   "outputs": [],
   "source": [
    "# manipulating data for heatmap\n",
    "for_heatmap = test_scored[['actual_band','predicted_band']]\n",
    "for_dummy = for_heatmap.pop('actual_band')\n",
    "for_heatmap = pd.concat([for_heatmap, pd.get_dummies(for_dummy)], axis=1)\n",
    "for_heatmap_summed = for_heatmap.groupby('predicted_band')['A','B','C','D','E','F','G'].sum()"
   ]
  },
  {
   "cell_type": "code",
   "execution_count": null,
   "metadata": {},
   "outputs": [],
   "source": [
    "def get_pct(x):\n",
    "    return (x/(x.sum()))*100"
   ]
  },
  {
   "cell_type": "code",
   "execution_count": null,
   "metadata": {},
   "outputs": [],
   "source": [
    "for_heatmap_summed = for_heatmap_summed.apply(get_pct,axis = 0)"
   ]
  },
  {
   "cell_type": "code",
   "execution_count": null,
   "metadata": {},
   "outputs": [],
   "source": [
    "heatmap_test = round(for_heatmap_summed,0)\n",
    "heatmap_test = heatmap_test.replace(0,np.nan)\n",
    "heatmap_test = heatmap_test.loc[['G','F','E','D','C','B','A'],:]\n",
    "\n",
    "f = plt.figure(figsize=(10,5))\n",
    "sns.heatmap(heatmap_test, cmap='RdYlGn',annot=True,cbar=False)\n",
    "plt.xlabel('Acutal Energy Efficiency Band')\n",
    "plt.ylabel('Predicted Energy Efficiency Band')\n",
    "plt.show()"
   ]
  }
 ],
 "metadata": {
  "kernelspec": {
   "display_name": "Python 3.9.12 64-bit ('anaconda3')",
   "language": "python",
   "name": "python3"
  },
  "language_info": {
   "codemirror_mode": {
    "name": "ipython",
    "version": 3
   },
   "file_extension": ".py",
   "mimetype": "text/x-python",
   "name": "python",
   "nbconvert_exporter": "python",
   "pygments_lexer": "ipython3",
   "version": "3.9.12"
  },
  "vscode": {
   "interpreter": {
    "hash": "eba7f72871313da1e901925cfdf413ae5a5b4959f889f0b218dcb7d2d728d74d"
   }
  }
 },
 "nbformat": 4,
 "nbformat_minor": 2
}
